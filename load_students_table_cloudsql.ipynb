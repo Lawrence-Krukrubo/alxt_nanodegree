{
 "cells": [
  {
   "cell_type": "code",
   "execution_count": 1,
   "id": "83e6678c",
   "metadata": {},
   "outputs": [],
   "source": [
    "import pandas as pd\n",
    "import numpy as np\n",
    "import os\n",
    "import time"
   ]
  },
  {
   "cell_type": "code",
   "execution_count": 2,
   "id": "31b5ce4b",
   "metadata": {},
   "outputs": [],
   "source": [
    "if not os.path.exists('./certs'):\n",
    "    os.mkdir('certs')"
   ]
  },
  {
   "cell_type": "code",
   "execution_count": 3,
   "id": "e0000db4",
   "metadata": {},
   "outputs": [
    {
     "data": {
      "text/plain": [
       "['.idea',\n",
       " '.ipynb_checkpoints',\n",
       " 'ALX-T Connect Weekly Schedule - Data.pdf',\n",
       " 'certs',\n",
       " 'cleaning_and_splitting_movie_genres.ipynb',\n",
       " 'connect_sessions_studyguide.pdf',\n",
       " 'data-wrangling-template.ipynb',\n",
       " 'datasets',\n",
       " 'data_visualization.ipynb',\n",
       " 'data_wrangling.ipynb',\n",
       " 'downloadng_ebert_images.ipynb',\n",
       " 'ebert_imgs.csv',\n",
       " 'extract_attendance_from_cloudSQL.ipynb',\n",
       " 'img',\n",
       " 'img_errors.json',\n",
       " 'lesson3_the_data_analysis_process.ipynb',\n",
       " 'load_students_table_cloudsql.ipynb',\n",
       " 'media_wiki.ipynb',\n",
       " 'merging-data.ipynb',\n",
       " 'name.png',\n",
       " 'testing.ipynb',\n",
       " 'web_scraping.ipynb',\n",
       " 'wine_visualizations_solutions.ipynb']"
      ]
     },
     "execution_count": 3,
     "metadata": {},
     "output_type": "execute_result"
    }
   ],
   "source": [
    "os.listdir()"
   ]
  },
  {
   "cell_type": "code",
   "execution_count": 4,
   "id": "a5d145d0",
   "metadata": {},
   "outputs": [],
   "source": [
    "import mysql.connector\n",
    "from mysql.connector.constants import ClientFlag"
   ]
  },
  {
   "cell_type": "code",
   "execution_count": 5,
   "id": "4f11ceae",
   "metadata": {},
   "outputs": [],
   "source": [
    "config = {\n",
    "    'user': 'root',\n",
    "    'password': 'roots',\n",
    "    'host': '34.133.227.55',\n",
    "    'client_flags': [ClientFlag.SSL],\n",
    "    'ssl_ca': 'certs/server-ca.pem',\n",
    "    'ssl_cert': 'certs/client-cert.pem',\n",
    "    'ssl_key': 'certs/client-key.pem'\n",
    "}"
   ]
  },
  {
   "cell_type": "code",
   "execution_count": 6,
   "id": "b091ea32",
   "metadata": {},
   "outputs": [],
   "source": [
    "# now we establish our connection\n",
    "cnxn = mysql.connector.connect(**config)"
   ]
  },
  {
   "cell_type": "code",
   "execution_count": 7,
   "id": "0c7f4378",
   "metadata": {},
   "outputs": [
    {
     "name": "stdout",
     "output_type": "stream",
     "text": [
      "Connected to MySQL Server version  8.0.26-google\n"
     ]
    }
   ],
   "source": [
    "if cnxn.is_connected():\n",
    "    # Get connection info\n",
    "    db_Info = cnxn.get_server_info()\n",
    "    print(\"Connected to MySQL Server version \", db_Info)\n",
    "    # Initiaize a cursor object\n",
    "    cursor = cnxn.cursor()"
   ]
  },
  {
   "cell_type": "code",
   "execution_count": 8,
   "id": "909dad0d",
   "metadata": {},
   "outputs": [],
   "source": [
    "if False:\n",
    "    # create a new 'alxt' database\n",
    "    cursor.execute('CREATE DATABASE IF NOT EXISTS alxt')\n",
    "    # select database\n",
    "    cursor.execute('USE alxt')\n",
    "    cursor.execute(\"select database();\")\n",
    "    record = cursor.fetchone()\n",
    "    print(\"You're connected to database: \", record)\n",
    "    cnxn.close()  # close connection because we will be reconnecting to alxt\n",
    "    config['database'] = 'alxt'  # add new database to config dict\n",
    "    cnxn = mysql.connector.connect(**config)\n",
    "    cursor = cnxn.cursor()"
   ]
  },
  {
   "cell_type": "code",
   "execution_count": 9,
   "id": "5ca3257c",
   "metadata": {},
   "outputs": [],
   "source": [
    "cursor.execute('USE alxt')  # Use the alxt database"
   ]
  },
  {
   "cell_type": "code",
   "execution_count": 10,
   "id": "77d19700",
   "metadata": {},
   "outputs": [
    {
     "data": {
      "text/plain": [
       "[('att_07_09',)]"
      ]
     },
     "execution_count": 10,
     "metadata": {},
     "output_type": "execute_result"
    }
   ],
   "source": [
    "cursor.execute(\"SHOW TABLES;\")\n",
    "out = cursor.fetchall()\n",
    "out"
   ]
  },
  {
   "cell_type": "code",
   "execution_count": 12,
   "id": "6a9320db",
   "metadata": {},
   "outputs": [
    {
     "data": {
      "text/plain": [
       "(54, 3)"
      ]
     },
     "execution_count": 12,
     "metadata": {},
     "output_type": "execute_result"
    }
   ],
   "source": [
    "df = pd.read_csv('datasets/session-4356-report-6_21_2022.csv').loc[:,['First Name', 'Last Name', 'Email']]\n",
    "df.shape"
   ]
  },
  {
   "cell_type": "code",
   "execution_count": 13,
   "id": "c2e465d3",
   "metadata": {},
   "outputs": [
    {
     "data": {
      "text/html": [
       "<div>\n",
       "<style scoped>\n",
       "    .dataframe tbody tr th:only-of-type {\n",
       "        vertical-align: middle;\n",
       "    }\n",
       "\n",
       "    .dataframe tbody tr th {\n",
       "        vertical-align: top;\n",
       "    }\n",
       "\n",
       "    .dataframe thead th {\n",
       "        text-align: right;\n",
       "    }\n",
       "</style>\n",
       "<table border=\"1\" class=\"dataframe\">\n",
       "  <thead>\n",
       "    <tr style=\"text-align: right;\">\n",
       "      <th></th>\n",
       "      <th>First Name</th>\n",
       "      <th>Last Name</th>\n",
       "      <th>Email</th>\n",
       "    </tr>\n",
       "  </thead>\n",
       "  <tbody>\n",
       "    <tr>\n",
       "      <th>0</th>\n",
       "      <td>kelvin</td>\n",
       "      <td>mwaka</td>\n",
       "      <td>kelvinmwaka@gmail.com</td>\n",
       "    </tr>\n",
       "    <tr>\n",
       "      <th>1</th>\n",
       "      <td>Etuonu</td>\n",
       "      <td>David</td>\n",
       "      <td>davidetuonu12@gmail.com</td>\n",
       "    </tr>\n",
       "    <tr>\n",
       "      <th>2</th>\n",
       "      <td>Emmanuel</td>\n",
       "      <td>Otiti</td>\n",
       "      <td>fammava@gmail.com</td>\n",
       "    </tr>\n",
       "  </tbody>\n",
       "</table>\n",
       "</div>"
      ],
      "text/plain": [
       "  First Name Last Name                    Email\n",
       "0     kelvin     mwaka    kelvinmwaka@gmail.com\n",
       "1     Etuonu     David  davidetuonu12@gmail.com\n",
       "2   Emmanuel     Otiti        fammava@gmail.com"
      ]
     },
     "execution_count": 13,
     "metadata": {},
     "output_type": "execute_result"
    }
   ],
   "source": [
    "df.head(3)"
   ]
  },
  {
   "cell_type": "code",
   "execution_count": 14,
   "id": "b0e891ea",
   "metadata": {},
   "outputs": [
    {
     "data": {
      "text/html": [
       "<div>\n",
       "<style scoped>\n",
       "    .dataframe tbody tr th:only-of-type {\n",
       "        vertical-align: middle;\n",
       "    }\n",
       "\n",
       "    .dataframe tbody tr th {\n",
       "        vertical-align: top;\n",
       "    }\n",
       "\n",
       "    .dataframe thead th {\n",
       "        text-align: right;\n",
       "    }\n",
       "</style>\n",
       "<table border=\"1\" class=\"dataframe\">\n",
       "  <thead>\n",
       "    <tr style=\"text-align: right;\">\n",
       "      <th></th>\n",
       "      <th>First Name</th>\n",
       "      <th>Last Name</th>\n",
       "      <th>Email</th>\n",
       "      <th>status</th>\n",
       "    </tr>\n",
       "  </thead>\n",
       "  <tbody>\n",
       "    <tr>\n",
       "      <th>0</th>\n",
       "      <td>kelvin</td>\n",
       "      <td>mwaka</td>\n",
       "      <td>kelvinmwaka@gmail.com</td>\n",
       "      <td>0</td>\n",
       "    </tr>\n",
       "    <tr>\n",
       "      <th>1</th>\n",
       "      <td>Etuonu</td>\n",
       "      <td>David</td>\n",
       "      <td>davidetuonu12@gmail.com</td>\n",
       "      <td>0</td>\n",
       "    </tr>\n",
       "    <tr>\n",
       "      <th>2</th>\n",
       "      <td>Emmanuel</td>\n",
       "      <td>Otiti</td>\n",
       "      <td>fammava@gmail.com</td>\n",
       "      <td>0</td>\n",
       "    </tr>\n",
       "  </tbody>\n",
       "</table>\n",
       "</div>"
      ],
      "text/plain": [
       "  First Name Last Name                    Email  status\n",
       "0     kelvin     mwaka    kelvinmwaka@gmail.com       0\n",
       "1     Etuonu     David  davidetuonu12@gmail.com       0\n",
       "2   Emmanuel     Otiti        fammava@gmail.com       0"
      ]
     },
     "execution_count": 14,
     "metadata": {},
     "output_type": "execute_result"
    }
   ],
   "source": [
    "df['status'] = np.repeat(0, len(df))\n",
    "df.head(3)"
   ]
  },
  {
   "cell_type": "code",
   "execution_count": 16,
   "id": "5e975f69",
   "metadata": {},
   "outputs": [
    {
     "data": {
      "text/html": [
       "<div>\n",
       "<style scoped>\n",
       "    .dataframe tbody tr th:only-of-type {\n",
       "        vertical-align: middle;\n",
       "    }\n",
       "\n",
       "    .dataframe tbody tr th {\n",
       "        vertical-align: top;\n",
       "    }\n",
       "\n",
       "    .dataframe thead th {\n",
       "        text-align: right;\n",
       "    }\n",
       "</style>\n",
       "<table border=\"1\" class=\"dataframe\">\n",
       "  <thead>\n",
       "    <tr style=\"text-align: right;\">\n",
       "      <th></th>\n",
       "      <th>first_name</th>\n",
       "      <th>last_name</th>\n",
       "      <th>email</th>\n",
       "      <th>status</th>\n",
       "    </tr>\n",
       "  </thead>\n",
       "  <tbody>\n",
       "    <tr>\n",
       "      <th>0</th>\n",
       "      <td>kelvin</td>\n",
       "      <td>mwaka</td>\n",
       "      <td>kelvinmwaka@gmail.com</td>\n",
       "      <td>0</td>\n",
       "    </tr>\n",
       "    <tr>\n",
       "      <th>1</th>\n",
       "      <td>Etuonu</td>\n",
       "      <td>David</td>\n",
       "      <td>davidetuonu12@gmail.com</td>\n",
       "      <td>0</td>\n",
       "    </tr>\n",
       "    <tr>\n",
       "      <th>2</th>\n",
       "      <td>Emmanuel</td>\n",
       "      <td>Otiti</td>\n",
       "      <td>fammava@gmail.com</td>\n",
       "      <td>0</td>\n",
       "    </tr>\n",
       "  </tbody>\n",
       "</table>\n",
       "</div>"
      ],
      "text/plain": [
       "  first_name last_name                    email  status\n",
       "0     kelvin     mwaka    kelvinmwaka@gmail.com       0\n",
       "1     Etuonu     David  davidetuonu12@gmail.com       0\n",
       "2   Emmanuel     Otiti        fammava@gmail.com       0"
      ]
     },
     "execution_count": 16,
     "metadata": {},
     "output_type": "execute_result"
    }
   ],
   "source": [
    "df.columns = [col.lower().replace(' ','_').strip() for col in df.columns]\n",
    "df.head(3)"
   ]
  },
  {
   "cell_type": "code",
   "execution_count": 18,
   "id": "c829d1c3",
   "metadata": {},
   "outputs": [
    {
     "data": {
      "text/html": [
       "<div>\n",
       "<style scoped>\n",
       "    .dataframe tbody tr th:only-of-type {\n",
       "        vertical-align: middle;\n",
       "    }\n",
       "\n",
       "    .dataframe tbody tr th {\n",
       "        vertical-align: top;\n",
       "    }\n",
       "\n",
       "    .dataframe thead th {\n",
       "        text-align: right;\n",
       "    }\n",
       "</style>\n",
       "<table border=\"1\" class=\"dataframe\">\n",
       "  <thead>\n",
       "    <tr style=\"text-align: right;\">\n",
       "      <th></th>\n",
       "      <th>first_name</th>\n",
       "      <th>last_name</th>\n",
       "      <th>email</th>\n",
       "      <th>status</th>\n",
       "    </tr>\n",
       "  </thead>\n",
       "  <tbody>\n",
       "    <tr>\n",
       "      <th>0</th>\n",
       "      <td>Kelvin</td>\n",
       "      <td>Mwaka</td>\n",
       "      <td>kelvinmwaka@gmail.com</td>\n",
       "      <td>0</td>\n",
       "    </tr>\n",
       "    <tr>\n",
       "      <th>1</th>\n",
       "      <td>Etuonu</td>\n",
       "      <td>David</td>\n",
       "      <td>davidetuonu12@gmail.com</td>\n",
       "      <td>0</td>\n",
       "    </tr>\n",
       "    <tr>\n",
       "      <th>2</th>\n",
       "      <td>Emmanuel</td>\n",
       "      <td>Otiti</td>\n",
       "      <td>fammava@gmail.com</td>\n",
       "      <td>0</td>\n",
       "    </tr>\n",
       "  </tbody>\n",
       "</table>\n",
       "</div>"
      ],
      "text/plain": [
       "  first_name last_name                    email  status\n",
       "0     Kelvin     Mwaka    kelvinmwaka@gmail.com       0\n",
       "1     Etuonu     David  davidetuonu12@gmail.com       0\n",
       "2   Emmanuel     Otiti        fammava@gmail.com       0"
      ]
     },
     "execution_count": 18,
     "metadata": {},
     "output_type": "execute_result"
    }
   ],
   "source": [
    "cols = list(df.columns[:2])\n",
    "\n",
    "for col in cols:\n",
    "    df[col] = df[col].str.capitalize()\n",
    "df.head(3)"
   ]
  },
  {
   "cell_type": "code",
   "execution_count": 20,
   "id": "4c5b4b10",
   "metadata": {},
   "outputs": [],
   "source": [
    "df['email'] = df['email'].str.lower()"
   ]
  },
  {
   "cell_type": "code",
   "execution_count": 21,
   "id": "bf9fc0ce",
   "metadata": {},
   "outputs": [],
   "source": [
    "# create a students table\n",
    "\n",
    "cursor.execute(\"CREATE TABLE IF NOT EXISTS students (\"\n",
    "               \"first_name VARCHAR(100),\"\n",
    "               \"last_name VARCHAR(100),\"\n",
    "               \"email VARCHAR(100),\"\n",
    "               \"status INT(1) )\")\n",
    "\n",
    "cnxn.commit()  # this commits changes to the database"
   ]
  },
  {
   "cell_type": "code",
   "execution_count": 22,
   "id": "03756475",
   "metadata": {},
   "outputs": [
    {
     "data": {
      "text/plain": [
       "[('att_07_09',), ('students',)]"
      ]
     },
     "execution_count": 22,
     "metadata": {},
     "output_type": "execute_result"
    }
   ],
   "source": [
    "# Lets see the table\n",
    "cursor.execute('SHOW TABLES;')\n",
    "out = cursor.fetchall()\n",
    "out"
   ]
  },
  {
   "cell_type": "code",
   "execution_count": 23,
   "id": "05eaf923",
   "metadata": {},
   "outputs": [],
   "source": [
    "def df_to_table(df):\n",
    "    \"\"\"This method loads a dataframe\n",
    "        into a given table\n",
    "    \"\"\"\n",
    "    for ind, row in df.iterrows():\n",
    "        first, last = row.first_name, row.last_name\n",
    "        email, status = row.email, row.status\n",
    "        cursor.execute(f'INSERT INTO students (first_name, last_name, email, status) \\\n",
    "        VALUES (\"{first}\", \"{last}\", \"{email}\", \"{status}\")')\n",
    "        \n",
    "    cnxn.commit()  # this commits changes to the database"
   ]
  },
  {
   "cell_type": "code",
   "execution_count": 28,
   "id": "cd44a7f5",
   "metadata": {},
   "outputs": [],
   "source": [
    "if False:\n",
    "    df_to_table(df)"
   ]
  },
  {
   "cell_type": "code",
   "execution_count": 29,
   "id": "0190045d",
   "metadata": {},
   "outputs": [],
   "source": [
    "def query_to_df(query):\n",
    "    st = time.time()\n",
    "    # Assert Every Query ends with a semi-colon\n",
    "    try:\n",
    "        assert query.endswith(';')\n",
    "    except AssertionError:\n",
    "        return 'ERROR: Query Must End with ;'\n",
    "\n",
    "    # so we never have more than 20 rows displayed\n",
    "    pd.set_option('display.max_rows', 20) \n",
    "    df = None\n",
    "\n",
    "    # Process the query\n",
    "    cursor.execute(query)\n",
    "    columns = cursor.description\n",
    "    result = []\n",
    "    for value in cursor.fetchall():\n",
    "        tmp = {}\n",
    "        for (index,column) in enumerate(value):\n",
    "            tmp[columns[index][0]] = [column]\n",
    "        result.append(tmp)\n",
    "\n",
    "    # Create a DataFrame from all results\n",
    "    for ind, data in enumerate(result):\n",
    "        if ind >= 1:\n",
    "            x = pd.DataFrame(data)\n",
    "            df = pd.concat([df, x], ignore_index=True)\n",
    "        else:\n",
    "            df = pd.DataFrame(data)\n",
    "    print(f'Query ran for {time.time()-st} secs!')\n",
    "    return df"
   ]
  },
  {
   "cell_type": "code",
   "execution_count": 30,
   "id": "344cfa88",
   "metadata": {},
   "outputs": [
    {
     "name": "stdout",
     "output_type": "stream",
     "text": [
      "Query ran for 0.3002662658691406 secs!\n"
     ]
    },
    {
     "data": {
      "text/html": [
       "<div>\n",
       "<style scoped>\n",
       "    .dataframe tbody tr th:only-of-type {\n",
       "        vertical-align: middle;\n",
       "    }\n",
       "\n",
       "    .dataframe tbody tr th {\n",
       "        vertical-align: top;\n",
       "    }\n",
       "\n",
       "    .dataframe thead th {\n",
       "        text-align: right;\n",
       "    }\n",
       "</style>\n",
       "<table border=\"1\" class=\"dataframe\">\n",
       "  <thead>\n",
       "    <tr style=\"text-align: right;\">\n",
       "      <th></th>\n",
       "      <th>first_name</th>\n",
       "      <th>last_name</th>\n",
       "      <th>email</th>\n",
       "      <th>status</th>\n",
       "    </tr>\n",
       "  </thead>\n",
       "  <tbody>\n",
       "    <tr>\n",
       "      <th>0</th>\n",
       "      <td>Kelvin</td>\n",
       "      <td>Mwaka</td>\n",
       "      <td>kelvinmwaka@gmail.com</td>\n",
       "      <td>0</td>\n",
       "    </tr>\n",
       "    <tr>\n",
       "      <th>1</th>\n",
       "      <td>Etuonu</td>\n",
       "      <td>David</td>\n",
       "      <td>davidetuonu12@gmail.com</td>\n",
       "      <td>0</td>\n",
       "    </tr>\n",
       "    <tr>\n",
       "      <th>2</th>\n",
       "      <td>Emmanuel</td>\n",
       "      <td>Otiti</td>\n",
       "      <td>fammava@gmail.com</td>\n",
       "      <td>0</td>\n",
       "    </tr>\n",
       "    <tr>\n",
       "      <th>3</th>\n",
       "      <td>Chimezie</td>\n",
       "      <td>Ogbuu</td>\n",
       "      <td>ogbuchimezie17@gmail.com</td>\n",
       "      <td>0</td>\n",
       "    </tr>\n",
       "    <tr>\n",
       "      <th>4</th>\n",
       "      <td>Mugendi</td>\n",
       "      <td>Muthimi</td>\n",
       "      <td>mugendimike80@gmail.com</td>\n",
       "      <td>0</td>\n",
       "    </tr>\n",
       "    <tr>\n",
       "      <th>...</th>\n",
       "      <td>...</td>\n",
       "      <td>...</td>\n",
       "      <td>...</td>\n",
       "      <td>...</td>\n",
       "    </tr>\n",
       "    <tr>\n",
       "      <th>49</th>\n",
       "      <td>Moses</td>\n",
       "      <td>Bernard</td>\n",
       "      <td>mosesbernard5@gmail.com</td>\n",
       "      <td>0</td>\n",
       "    </tr>\n",
       "    <tr>\n",
       "      <th>50</th>\n",
       "      <td>Samuel</td>\n",
       "      <td>Sofela</td>\n",
       "      <td>sofela.olufemi@gmail.com</td>\n",
       "      <td>0</td>\n",
       "    </tr>\n",
       "    <tr>\n",
       "      <th>51</th>\n",
       "      <td>Stephanie</td>\n",
       "      <td>Elluh</td>\n",
       "      <td>elluhstephanie@gmail.com</td>\n",
       "      <td>0</td>\n",
       "    </tr>\n",
       "    <tr>\n",
       "      <th>52</th>\n",
       "      <td>Julius</td>\n",
       "      <td>Murigi</td>\n",
       "      <td>murigijulius1@gmail.com</td>\n",
       "      <td>0</td>\n",
       "    </tr>\n",
       "    <tr>\n",
       "      <th>53</th>\n",
       "      <td>Hubert ovie</td>\n",
       "      <td>Madise</td>\n",
       "      <td>madisehubertovie@gmail.com</td>\n",
       "      <td>0</td>\n",
       "    </tr>\n",
       "  </tbody>\n",
       "</table>\n",
       "<p>54 rows × 4 columns</p>\n",
       "</div>"
      ],
      "text/plain": [
       "     first_name last_name                       email  status\n",
       "0        Kelvin     Mwaka       kelvinmwaka@gmail.com       0\n",
       "1        Etuonu     David     davidetuonu12@gmail.com       0\n",
       "2      Emmanuel     Otiti           fammava@gmail.com       0\n",
       "3      Chimezie     Ogbuu    ogbuchimezie17@gmail.com       0\n",
       "4       Mugendi   Muthimi     mugendimike80@gmail.com       0\n",
       "..          ...       ...                         ...     ...\n",
       "49        Moses   Bernard     mosesbernard5@gmail.com       0\n",
       "50       Samuel    Sofela    sofela.olufemi@gmail.com       0\n",
       "51    Stephanie     Elluh    elluhstephanie@gmail.com       0\n",
       "52       Julius    Murigi     murigijulius1@gmail.com       0\n",
       "53  Hubert ovie    Madise  madisehubertovie@gmail.com       0\n",
       "\n",
       "[54 rows x 4 columns]"
      ]
     },
     "execution_count": 30,
     "metadata": {},
     "output_type": "execute_result"
    }
   ],
   "source": [
    "query = 'SELECT * FROM students;'\n",
    "query_to_df(query)"
   ]
  },
  {
   "cell_type": "code",
   "execution_count": 31,
   "id": "962a068d",
   "metadata": {},
   "outputs": [
    {
     "data": {
      "text/plain": [
       "True"
      ]
     },
     "execution_count": 31,
     "metadata": {},
     "output_type": "execute_result"
    }
   ],
   "source": [
    "cursor.close()"
   ]
  }
 ],
 "metadata": {
  "kernelspec": {
   "display_name": "Python 3",
   "language": "python",
   "name": "python3"
  },
  "language_info": {
   "codemirror_mode": {
    "name": "ipython",
    "version": 3
   },
   "file_extension": ".py",
   "mimetype": "text/x-python",
   "name": "python",
   "nbconvert_exporter": "python",
   "pygments_lexer": "ipython3",
   "version": "3.6.13"
  }
 },
 "nbformat": 4,
 "nbformat_minor": 5
}
