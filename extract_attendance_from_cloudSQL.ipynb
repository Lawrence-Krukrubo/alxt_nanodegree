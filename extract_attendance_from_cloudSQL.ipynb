{
 "cells": [
  {
   "cell_type": "code",
   "execution_count": 1,
   "id": "83e6678c",
   "metadata": {},
   "outputs": [],
   "source": [
    "import pandas as pd\n",
    "import numpy as np\n",
    "import os\n",
    "import time"
   ]
  },
  {
   "cell_type": "code",
   "execution_count": 2,
   "id": "31b5ce4b",
   "metadata": {},
   "outputs": [],
   "source": [
    "if not os.path.exists('./certs'):\n",
    "    os.mkdir('certs')"
   ]
  },
  {
   "cell_type": "code",
   "execution_count": 3,
   "id": "e0000db4",
   "metadata": {},
   "outputs": [
    {
     "data": {
      "text/plain": [
       "['.idea',\n",
       " '.ipynb_checkpoints',\n",
       " 'ALX-T Connect Weekly Schedule - Data.pdf',\n",
       " 'certs',\n",
       " 'cleaning_and_splitting_movie_genres.ipynb',\n",
       " 'connect_sessions_studyguide.pdf',\n",
       " 'data-wrangling-template.ipynb',\n",
       " 'datasets',\n",
       " 'data_visualization.ipynb',\n",
       " 'data_wrangling.ipynb',\n",
       " 'downloadng_ebert_images.ipynb',\n",
       " 'ebert_imgs.csv',\n",
       " 'extract_attendance_from_cloudSQL.ipynb',\n",
       " 'img',\n",
       " 'img_errors.json',\n",
       " 'lesson3_the_data_analysis_process.ipynb',\n",
       " 'load_students_table_cloudsql.ipynb',\n",
       " 'media_wiki.ipynb',\n",
       " 'merging-data.ipynb',\n",
       " 'name.png',\n",
       " 'testing.ipynb',\n",
       " 'web_scraping.ipynb',\n",
       " 'wine_visualizations_solutions.ipynb']"
      ]
     },
     "execution_count": 3,
     "metadata": {},
     "output_type": "execute_result"
    }
   ],
   "source": [
    "os.listdir()"
   ]
  },
  {
   "cell_type": "code",
   "execution_count": 4,
   "id": "a5d145d0",
   "metadata": {},
   "outputs": [],
   "source": [
    "import mysql.connector\n",
    "from mysql.connector.constants import ClientFlag"
   ]
  },
  {
   "cell_type": "code",
   "execution_count": 5,
   "id": "4f11ceae",
   "metadata": {},
   "outputs": [],
   "source": [
    "config = {\n",
    "    'user': 'root',\n",
    "    'password': 'roots',\n",
    "    'host': '34.133.227.55',\n",
    "    'client_flags': [ClientFlag.SSL],\n",
    "    'ssl_ca': 'certs/server-ca.pem',\n",
    "    'ssl_cert': 'certs/client-cert.pem',\n",
    "    'ssl_key': 'certs/client-key.pem'\n",
    "}"
   ]
  },
  {
   "cell_type": "code",
   "execution_count": 6,
   "id": "b091ea32",
   "metadata": {},
   "outputs": [],
   "source": [
    "# now we establish our connection\n",
    "cnxn = mysql.connector.connect(**config)"
   ]
  },
  {
   "cell_type": "code",
   "execution_count": 7,
   "id": "0c7f4378",
   "metadata": {},
   "outputs": [
    {
     "name": "stdout",
     "output_type": "stream",
     "text": [
      "Connected to MySQL Server version  8.0.26-google\n"
     ]
    }
   ],
   "source": [
    "if cnxn.is_connected():\n",
    "    # Get connection info\n",
    "    db_Info = cnxn.get_server_info()\n",
    "    print(\"Connected to MySQL Server version \", db_Info)\n",
    "    # Initiaize a cursor object\n",
    "    cursor = cnxn.cursor()"
   ]
  },
  {
   "cell_type": "code",
   "execution_count": 8,
   "id": "5ca3257c",
   "metadata": {},
   "outputs": [],
   "source": [
    "cursor.execute('USE alxt')"
   ]
  },
  {
   "cell_type": "code",
   "execution_count": 9,
   "id": "77d19700",
   "metadata": {},
   "outputs": [
    {
     "data": {
      "text/plain": [
       "[('att_07_09',), ('students',)]"
      ]
     },
     "execution_count": 9,
     "metadata": {},
     "output_type": "execute_result"
    }
   ],
   "source": [
    "cursor.execute(\"SHOW TABLES;\")\n",
    "out = cursor.fetchall()\n",
    "out"
   ]
  },
  {
   "cell_type": "code",
   "execution_count": 10,
   "id": "0190045d",
   "metadata": {},
   "outputs": [],
   "source": [
    "def query_to_df(query):\n",
    "    st = time.time()\n",
    "    # Assert Every Query ends with a semi-colon\n",
    "    try:\n",
    "        assert query.endswith(';')\n",
    "    except AssertionError:\n",
    "        return 'ERROR: Query Must End with ;'\n",
    "\n",
    "    # so we never have more than 20 rows displayed\n",
    "    pd.set_option('display.max_rows', 60) \n",
    "    df = None\n",
    "\n",
    "    # Process the query\n",
    "    cursor.execute(query)\n",
    "    columns = cursor.description\n",
    "    result = []\n",
    "    for value in cursor.fetchall():\n",
    "        tmp = {}\n",
    "        for (index,column) in enumerate(value):\n",
    "            tmp[columns[index][0]] = [column]\n",
    "        result.append(tmp)\n",
    "\n",
    "    # Create a DataFrame from all results\n",
    "    for ind, data in enumerate(result):\n",
    "        if ind >= 1:\n",
    "            x = pd.DataFrame(data)\n",
    "            df = pd.concat([df, x], ignore_index=True)\n",
    "        else:\n",
    "            df = pd.DataFrame(data)\n",
    "    print(f'Query ran for {time.time()-st} secs!')\n",
    "    return df"
   ]
  },
  {
   "cell_type": "code",
   "execution_count": 11,
   "id": "9df837f1",
   "metadata": {},
   "outputs": [
    {
     "name": "stdout",
     "output_type": "stream",
     "text": [
      "Query ran for 0.7001125812530518 secs!\n"
     ]
    }
   ],
   "source": [
    "query = 'SELECT * FROM att_07_09;'\n",
    "attendance = query_to_df(query)"
   ]
  },
  {
   "cell_type": "code",
   "execution_count": 12,
   "id": "344cfa88",
   "metadata": {},
   "outputs": [],
   "source": [
    "# sort attendance alphabetically, and replace index\n",
    "\n",
    "attendance = attendance.sort_values(by=['first_name', 'last_name']).reset_index(drop=True)"
   ]
  },
  {
   "cell_type": "code",
   "execution_count": 13,
   "id": "85d3bc2f",
   "metadata": {},
   "outputs": [],
   "source": [
    "# Next select only those present\n",
    "\n",
    "present = attendance[attendance['status']==1]"
   ]
  },
  {
   "cell_type": "code",
   "execution_count": 14,
   "id": "a5db76a6",
   "metadata": {},
   "outputs": [
    {
     "name": "stdout",
     "output_type": "stream",
     "text": [
      "4\n"
     ]
    }
   ],
   "source": [
    "print(len(present))"
   ]
  },
  {
   "cell_type": "code",
   "execution_count": 15,
   "id": "b3ff8c70",
   "metadata": {},
   "outputs": [
    {
     "data": {
      "text/html": [
       "<div>\n",
       "<style scoped>\n",
       "    .dataframe tbody tr th:only-of-type {\n",
       "        vertical-align: middle;\n",
       "    }\n",
       "\n",
       "    .dataframe tbody tr th {\n",
       "        vertical-align: top;\n",
       "    }\n",
       "\n",
       "    .dataframe thead th {\n",
       "        text-align: right;\n",
       "    }\n",
       "</style>\n",
       "<table border=\"1\" class=\"dataframe\">\n",
       "  <thead>\n",
       "    <tr style=\"text-align: right;\">\n",
       "      <th></th>\n",
       "      <th>first_name</th>\n",
       "      <th>last_name</th>\n",
       "      <th>email</th>\n",
       "      <th>status</th>\n",
       "      <th>time</th>\n",
       "    </tr>\n",
       "  </thead>\n",
       "  <tbody>\n",
       "    <tr>\n",
       "      <th>19</th>\n",
       "      <td>Emmanuel</td>\n",
       "      <td>Otiti</td>\n",
       "      <td>fammava@gmail.com</td>\n",
       "      <td>1</td>\n",
       "      <td>19:03</td>\n",
       "    </tr>\n",
       "    <tr>\n",
       "      <th>20</th>\n",
       "      <td>Eric</td>\n",
       "      <td>Kwabena preko addo</td>\n",
       "      <td>addoericjnr@gmail.com</td>\n",
       "      <td>1</td>\n",
       "      <td></td>\n",
       "    </tr>\n",
       "    <tr>\n",
       "      <th>21</th>\n",
       "      <td>Etuonu</td>\n",
       "      <td>David</td>\n",
       "      <td>davidetuonu12@gmail.com</td>\n",
       "      <td>1</td>\n",
       "      <td>19:02</td>\n",
       "    </tr>\n",
       "    <tr>\n",
       "      <th>38</th>\n",
       "      <td>Kelvin</td>\n",
       "      <td>Mwaka</td>\n",
       "      <td>kelvinmwaka@gmail.com</td>\n",
       "      <td>1</td>\n",
       "      <td>19:01</td>\n",
       "    </tr>\n",
       "  </tbody>\n",
       "</table>\n",
       "</div>"
      ],
      "text/plain": [
       "   first_name           last_name                    email  status   time\n",
       "19   Emmanuel               Otiti        fammava@gmail.com       1  19:03\n",
       "20       Eric  Kwabena preko addo    addoericjnr@gmail.com       1       \n",
       "21     Etuonu               David  davidetuonu12@gmail.com       1  19:02\n",
       "38     Kelvin               Mwaka    kelvinmwaka@gmail.com       1  19:01"
      ]
     },
     "execution_count": 15,
     "metadata": {},
     "output_type": "execute_result"
    }
   ],
   "source": [
    "present"
   ]
  },
  {
   "cell_type": "code",
   "execution_count": null,
   "id": "962a068d",
   "metadata": {},
   "outputs": [],
   "source": [
    "cursor.close()"
   ]
  }
 ],
 "metadata": {
  "kernelspec": {
   "display_name": "Python 3",
   "language": "python",
   "name": "python3"
  },
  "language_info": {
   "codemirror_mode": {
    "name": "ipython",
    "version": 3
   },
   "file_extension": ".py",
   "mimetype": "text/x-python",
   "name": "python",
   "nbconvert_exporter": "python",
   "pygments_lexer": "ipython3",
   "version": "3.6.13"
  }
 },
 "nbformat": 4,
 "nbformat_minor": 5
}
