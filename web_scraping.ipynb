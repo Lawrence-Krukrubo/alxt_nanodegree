{
 "cells": [
  {
   "cell_type": "markdown",
   "id": "b9eaa876",
   "metadata": {},
   "source": [
    "### JSON vs XML\n",
    "\n",
    "Java Script Object Notation (`JSON`) and Extensible Markup Language (`XML`).<br>\n",
    "JSON is exceptionally good in representing and accessing complicated data hierarchies, in a nutshell it's like python dictionaries for the web."
   ]
  },
  {
   "cell_type": "markdown",
   "id": "f0540dd5",
   "metadata": {},
   "source": [
    "#### JSON Structure:\n",
    "JSON is built on 2 key structures\n",
    "\n",
    "1. JSON objects: which are a collection of key-value pairs. JSON objects are surrounded by curly braces like a python dictionary. In python JSON objects are interpreted as dictionaries and we can access them like we would a standard python dict.\n",
    "\n",
    "2. The second key JSON structure is a JSON array, which is an ordered list of values. In python, JSON arrays are interpreted as lists and accessed just like so.\n",
    "\n",
    "* While JSON objects keys must be strings, the values for both JSON objects and arrays can be any valid JSON data type."
   ]
  },
  {
   "cell_type": "markdown",
   "id": "33362e73",
   "metadata": {},
   "source": [
    "### A little about LXML\n",
    "\n",
    "`lxml` module of Python is an `XML` toolkit that is basically a Pythonic binding of the following two `C` libraries: `libxlst` and `libxml2`. `lxml` module is a very unique and special module of Python as it offers a combination of `XML` features and speed. In the lxml module, we are provided with multiple functions and using these functions in a Python program; we can easily perform the web scrapping and curate all the useful information from any web page. `lxml` module of Python also allows us to easily handle all the `HTML` and `XML` files along with its application in the web scraping process."
   ]
  },
  {
   "cell_type": "markdown",
   "id": "d8987105",
   "metadata": {},
   "source": []
  },
  {
   "cell_type": "markdown",
   "id": "dd79afa7",
   "metadata": {},
   "source": [
    "In this Notebook, we will use web scraping to scrape a table from the internet and use that table for data analysis. The table contains the name, district and postal code of local Government Areas in Lagos State, Nigeria\n",
    "\n",
    "The link to the table we will scrape is on here: [lagos-link](https://en.wikipedia.org/wiki/Lagos_State#Cities_and_towns)"
   ]
  },
  {
   "cell_type": "code",
   "execution_count": 1,
   "id": "a54d0896",
   "metadata": {},
   "outputs": [
    {
     "name": "stdout",
     "output_type": "stream",
     "text": [
      "imported\n"
     ]
    }
   ],
   "source": [
    "import pandas as pd\n",
    "import numpy as np\n",
    "import matplotlib.pyplot as plt\n",
    "import requests\n",
    "import glob\n",
    "from bs4 import BeautifulSoup\n",
    "print('imported')"
   ]
  },
  {
   "cell_type": "code",
   "execution_count": 2,
   "id": "5adc92b7",
   "metadata": {},
   "outputs": [],
   "source": [
    "lagos_link = 'https://en.wikipedia.org/wiki/Lagos_State#Cities_and_towns'"
   ]
  },
  {
   "cell_type": "markdown",
   "id": "bfab96b1",
   "metadata": {},
   "source": [
    "Get the source code html data from the website"
   ]
  },
  {
   "cell_type": "code",
   "execution_count": 3,
   "id": "af040768",
   "metadata": {},
   "outputs": [
    {
     "data": {
      "text/plain": [
       "str"
      ]
     },
     "execution_count": 3,
     "metadata": {},
     "output_type": "execute_result"
    }
   ],
   "source": [
    "source = requests.get(lagos_link).text\n",
    "type(source)"
   ]
  },
  {
   "cell_type": "markdown",
   "id": "c49fc4da",
   "metadata": {},
   "source": [
    "Lets Use BeautifulSoup to parse it"
   ]
  },
  {
   "cell_type": "code",
   "execution_count": 4,
   "id": "ae9f09a8",
   "metadata": {},
   "outputs": [],
   "source": [
    "soup = BeautifulSoup(source, 'lxml')"
   ]
  },
  {
   "cell_type": "code",
   "execution_count": 5,
   "id": "dc8c2b01",
   "metadata": {},
   "outputs": [
    {
     "data": {
      "text/plain": [
       "bs4.BeautifulSoup"
      ]
     },
     "execution_count": 5,
     "metadata": {},
     "output_type": "execute_result"
    }
   ],
   "source": [
    "type(soup)"
   ]
  },
  {
   "cell_type": "markdown",
   "id": "63f016b5",
   "metadata": {},
   "source": [
    "Next let's get the table that contains the data we want to scrape"
   ]
  },
  {
   "cell_type": "code",
   "execution_count": 6,
   "id": "13c80c95",
   "metadata": {},
   "outputs": [],
   "source": [
    "My_table = soup.find('table',{'class':'wikitable sortable'})"
   ]
  },
  {
   "cell_type": "markdown",
   "id": "b6a396c5",
   "metadata": {},
   "source": [
    "Let's view the table"
   ]
  },
  {
   "cell_type": "code",
   "execution_count": 7,
   "id": "5e482bad",
   "metadata": {},
   "outputs": [
    {
     "data": {
      "text/plain": [
       "bs4.element.Tag"
      ]
     },
     "execution_count": 7,
     "metadata": {},
     "output_type": "execute_result"
    }
   ],
   "source": [
    "type(My_table)"
   ]
  },
  {
   "cell_type": "code",
   "execution_count": 8,
   "id": "c28d6e48",
   "metadata": {},
   "outputs": [
    {
     "data": {
      "text/plain": [
       "<table class=\"wikitable sortable\">\n",
       "<tbody><tr>\n",
       "<th>LGA</th>\n",
       "<th>District</th>\n",
       "<th>Postal code\n",
       "</th></tr>\n",
       "<tr>\n",
       "<td>Ajeromi Ifelodun</td>\n",
       "<td>Ajeromi</td>\n",
       "<td>102103\n",
       "</td></tr>\n",
       "<tr>\n",
       "<td>Amuwo Odofin</td>\n",
       "<td>Amuwo odofin</td>\n",
       "<td>102102\n",
       "</td></tr>\n",
       "<tr>\n",
       "<td>Amuwo Odofin</td>\n",
       "<td>Trade fair complex</td>\n",
       "<td>102101\n",
       "</td></tr>\n",
       "<tr>\n",
       "<td>Badagry</td>\n",
       "<td>Badagry</td>\n",
       "<td>103101\n",
       "</td></tr>\n",
       "<tr>\n",
       "<td>Epe</td>\n",
       "<td>Agbowa</td>\n",
       "<td>106104\n",
       "</td></tr>\n",
       "<tr>\n",
       "<td>Epe</td>\n",
       "<td>Ejinrin</td>\n",
       "<td>106102\n",
       "</td></tr>\n",
       "<tr>\n",
       "<td>Epe</td>\n",
       "<td>Epe</td>\n",
       "<td>106101\n",
       "</td></tr>\n",
       "<tr>\n",
       "<td>Epe</td>\n",
       "<td>Erodo</td>\n",
       "<td>106103\n",
       "</td></tr>\n",
       "<tr>\n",
       "<td>Ibeju-Lekki</td>\n",
       "<td>Ibeju</td>\n",
       "<td>105101\n",
       "</td></tr>\n",
       "<tr>\n",
       "<td>Ibeju-Lekki</td>\n",
       "<td>Lekki</td>\n",
       "<td>105102\n",
       "</td></tr>\n",
       "<tr>\n",
       "<td>Ikorodu</td>\n",
       "<td>Ikorodu rural</td>\n",
       "<td>104101\n",
       "</td></tr>\n",
       "<tr>\n",
       "<td>Ikorodu</td>\n",
       "<td>Irepodun</td>\n",
       "<td>104102\n",
       "</td></tr>\n",
       "<tr>\n",
       "<td>Ojo</td>\n",
       "<td>Ajangbadi Afromedia</td>\n",
       "<td>102104\n",
       "</td></tr>\n",
       "<tr>\n",
       "<td>Ojo</td>\n",
       "<td>Ajangbadi Ikemba house</td>\n",
       "<td>102107\n",
       "</td></tr>\n",
       "<tr>\n",
       "<td>Ojo</td>\n",
       "<td>Alaba</td>\n",
       "<td>102115\n",
       "</td></tr>\n",
       "<tr>\n",
       "<td>Ojo</td>\n",
       "<td>Iba town new site</td>\n",
       "<td>102112\n",
       "</td></tr>\n",
       "<tr>\n",
       "<td>Ojo</td>\n",
       "<td>Igbede</td>\n",
       "<td>102109\n",
       "</td></tr>\n",
       "<tr>\n",
       "<td>Ojo</td>\n",
       "<td>Igbo Elerin</td>\n",
       "<td>102106\n",
       "</td></tr>\n",
       "<tr>\n",
       "<td>Ojo</td>\n",
       "<td>Ilemba Awori</td>\n",
       "<td>102108\n",
       "</td></tr>\n",
       "<tr>\n",
       "<td>Ojo</td>\n",
       "<td>Ilogbo</td>\n",
       "<td>102110\n",
       "</td></tr>\n",
       "<tr>\n",
       "<td>Ojo</td>\n",
       "<td>Ira</td>\n",
       "<td>102114\n",
       "</td></tr>\n",
       "<tr>\n",
       "<td>Ojo</td>\n",
       "<td>Ojo</td>\n",
       "<td>102101\n",
       "</td></tr>\n",
       "<tr>\n",
       "<td>Ojo</td>\n",
       "<td>Okokomaiko</td>\n",
       "<td>102105\n",
       "</td></tr>\n",
       "<tr>\n",
       "<td>Ojo</td>\n",
       "<td>Olojo</td>\n",
       "<td>102113\n",
       "</td></tr>\n",
       "<tr>\n",
       "<td>Ojo</td>\n",
       "<td>Shibiri Ekune</td>\n",
       "<td>102111\n",
       "</td></tr></tbody></table>"
      ]
     },
     "execution_count": 8,
     "metadata": {},
     "output_type": "execute_result"
    }
   ],
   "source": [
    "My_table"
   ]
  },
  {
   "cell_type": "markdown",
   "id": "a01e3a4f",
   "metadata": {},
   "source": [
    "*Let's define a dictionary that we will use to hold the cleaned values from the table we extracted from*"
   ]
  },
  {
   "cell_type": "code",
   "execution_count": 9,
   "id": "77a74e61",
   "metadata": {},
   "outputs": [],
   "source": [
    "details_dict = {'lga':[], 'district':[], 'postal_code':[]}"
   ]
  },
  {
   "cell_type": "markdown",
   "id": "10741b08",
   "metadata": {},
   "source": [
    "We can see that all the data we want are between the $<td>$ tags, let's get the data between the td brackets"
   ]
  },
  {
   "cell_type": "code",
   "execution_count": 10,
   "id": "0199555c",
   "metadata": {},
   "outputs": [],
   "source": [
    "links = My_table.find_all('td')"
   ]
  },
  {
   "cell_type": "code",
   "execution_count": 11,
   "id": "9c49ac83",
   "metadata": {},
   "outputs": [
    {
     "data": {
      "text/plain": [
       "[<td>Ajeromi Ifelodun</td>,\n",
       " <td>Ajeromi</td>,\n",
       " <td>102103\n",
       " </td>,\n",
       " <td>Amuwo Odofin</td>,\n",
       " <td>Amuwo odofin</td>,\n",
       " <td>102102\n",
       " </td>,\n",
       " <td>Amuwo Odofin</td>,\n",
       " <td>Trade fair complex</td>,\n",
       " <td>102101\n",
       " </td>,\n",
       " <td>Badagry</td>]"
      ]
     },
     "execution_count": 11,
     "metadata": {},
     "output_type": "execute_result"
    }
   ],
   "source": [
    "links[:10]  # let's see the first 10 links"
   ]
  },
  {
   "cell_type": "markdown",
   "id": "7aa3ff77",
   "metadata": {},
   "source": [
    "Next let's loop through links and extract only the text elements to a new list called text_links"
   ]
  },
  {
   "cell_type": "code",
   "execution_count": 12,
   "id": "71a5ca8b",
   "metadata": {},
   "outputs": [
    {
     "data": {
      "text/plain": [
       "bs4.element.Tag"
      ]
     },
     "execution_count": 12,
     "metadata": {},
     "output_type": "execute_result"
    }
   ],
   "source": [
    "type(links[0])"
   ]
  },
  {
   "cell_type": "code",
   "execution_count": 13,
   "id": "d05c8b64",
   "metadata": {},
   "outputs": [
    {
     "data": {
      "text/plain": [
       "['Ajeromi Ifelodun',\n",
       " 'Ajeromi',\n",
       " '102103\\n',\n",
       " 'Amuwo Odofin',\n",
       " 'Amuwo odofin',\n",
       " '102102\\n',\n",
       " 'Amuwo Odofin',\n",
       " 'Trade fair complex',\n",
       " '102101\\n',\n",
       " 'Badagry',\n",
       " 'Badagry',\n",
       " '103101\\n',\n",
       " 'Epe',\n",
       " 'Agbowa',\n",
       " '106104\\n',\n",
       " 'Epe',\n",
       " 'Ejinrin',\n",
       " '106102\\n',\n",
       " 'Epe',\n",
       " 'Epe',\n",
       " '106101\\n',\n",
       " 'Epe',\n",
       " 'Erodo',\n",
       " '106103\\n',\n",
       " 'Ibeju-Lekki',\n",
       " 'Ibeju',\n",
       " '105101\\n',\n",
       " 'Ibeju-Lekki',\n",
       " 'Lekki',\n",
       " '105102\\n',\n",
       " 'Ikorodu',\n",
       " 'Ikorodu rural',\n",
       " '104101\\n',\n",
       " 'Ikorodu',\n",
       " 'Irepodun',\n",
       " '104102\\n',\n",
       " 'Ojo',\n",
       " 'Ajangbadi Afromedia',\n",
       " '102104\\n',\n",
       " 'Ojo',\n",
       " 'Ajangbadi Ikemba house',\n",
       " '102107\\n',\n",
       " 'Ojo',\n",
       " 'Alaba',\n",
       " '102115\\n',\n",
       " 'Ojo',\n",
       " 'Iba town new site',\n",
       " '102112\\n',\n",
       " 'Ojo',\n",
       " 'Igbede',\n",
       " '102109\\n',\n",
       " 'Ojo',\n",
       " 'Igbo Elerin',\n",
       " '102106\\n',\n",
       " 'Ojo',\n",
       " 'Ilemba Awori',\n",
       " '102108\\n',\n",
       " 'Ojo',\n",
       " 'Ilogbo',\n",
       " '102110\\n',\n",
       " 'Ojo',\n",
       " 'Ira',\n",
       " '102114\\n',\n",
       " 'Ojo',\n",
       " 'Ojo',\n",
       " '102101\\n',\n",
       " 'Ojo',\n",
       " 'Okokomaiko',\n",
       " '102105\\n',\n",
       " 'Ojo',\n",
       " 'Olojo',\n",
       " '102113\\n',\n",
       " 'Ojo',\n",
       " 'Shibiri Ekune',\n",
       " '102111\\n']"
      ]
     },
     "execution_count": 13,
     "metadata": {},
     "output_type": "execute_result"
    }
   ],
   "source": [
    "text_links = []\n",
    "\n",
    "for link in links:\n",
    "    text_links.append(link.text)\n",
    "    \n",
    "# uncommnet below to view text_links    \n",
    "text_links"
   ]
  },
  {
   "cell_type": "markdown",
   "id": "af94e6ff",
   "metadata": {},
   "source": [
    "*Now, let's define two functions*\n",
    "\n",
    "\n",
    "1. To extract all the LGA, District and Postal Code values from the `text_links` to the respective lists in `details_dict`\n",
    "2. To clean all the escape characters from the postal code values"
   ]
  },
  {
   "cell_type": "code",
   "execution_count": 14,
   "id": "df71bf78",
   "metadata": {},
   "outputs": [],
   "source": [
    "def list_toDict(arr, dicta):\n",
    "    \"\"\"This method takes a list and a dictionary\n",
    "        and appends the elements from the list\n",
    "        to the respective lists in the dictionary\n",
    "        \n",
    "    @param arr: A List\n",
    "    @param dicta: A dictionary\n",
    "    @return: A dictionary with populated list values\n",
    "    \"\"\"\n",
    "    \n",
    "    # We use while loop that runs as long as the list exists\n",
    "    while arr:\n",
    "        # Next itrate through the keys in the dictionary\n",
    "        for key in list(dicta.keys()):\n",
    "            dicta[key].append(arr[0])\n",
    "            # After appending list element reduce list\n",
    "            arr = arr[1:]\n",
    "    \n",
    "    # finally return the updated dictionary\n",
    "    return dicta"
   ]
  },
  {
   "cell_type": "code",
   "execution_count": 15,
   "id": "db99013d",
   "metadata": {},
   "outputs": [],
   "source": [
    "def clean_text(arr):\n",
    "    \"\"\"Takes a list and cleans all text within\n",
    "        by removing escape characters\n",
    "    @param arr: A list\n",
    "    @return: A list\n",
    "    \"\"\"\n",
    "    arr = [f.replace('\\n','') for f in arr]\n",
    "    return arr"
   ]
  },
  {
   "cell_type": "code",
   "execution_count": 16,
   "id": "1f67bb38",
   "metadata": {},
   "outputs": [],
   "source": [
    "# Let's update the details_dict \n",
    "\n",
    "details_dict = list_toDict(text_links, details_dict)"
   ]
  },
  {
   "cell_type": "code",
   "execution_count": 17,
   "id": "e93b77a9",
   "metadata": {
    "scrolled": false
   },
   "outputs": [
    {
     "data": {
      "text/plain": [
       "['Ajeromi Ifelodun',\n",
       " 'Amuwo Odofin',\n",
       " 'Amuwo Odofin',\n",
       " 'Badagry',\n",
       " 'Epe',\n",
       " 'Epe',\n",
       " 'Epe',\n",
       " 'Epe',\n",
       " 'Ibeju-Lekki',\n",
       " 'Ibeju-Lekki',\n",
       " 'Ikorodu',\n",
       " 'Ikorodu',\n",
       " 'Ojo',\n",
       " 'Ojo',\n",
       " 'Ojo',\n",
       " 'Ojo',\n",
       " 'Ojo',\n",
       " 'Ojo',\n",
       " 'Ojo',\n",
       " 'Ojo',\n",
       " 'Ojo',\n",
       " 'Ojo',\n",
       " 'Ojo',\n",
       " 'Ojo',\n",
       " 'Ojo']"
      ]
     },
     "execution_count": 17,
     "metadata": {},
     "output_type": "execute_result"
    }
   ],
   "source": [
    "# Let's see the details_dict first key\n",
    "\n",
    "details_dict['lga']"
   ]
  },
  {
   "cell_type": "markdown",
   "id": "e540dba0",
   "metadata": {},
   "source": [
    "Finally let's clean the postal code column by removing the escape characters. We will pass it the postalcode list from `details_dict`"
   ]
  },
  {
   "cell_type": "code",
   "execution_count": 18,
   "id": "d6fc6f93",
   "metadata": {},
   "outputs": [],
   "source": [
    "details_dict['postal_code'] = clean_text(details_dict['postal_code'])"
   ]
  },
  {
   "cell_type": "markdown",
   "id": "68bc191d",
   "metadata": {},
   "source": [
    "*Let's display col_dict as a DataFrame, we will also make the keys of `col_dict` the columns of the DataFrame*"
   ]
  },
  {
   "cell_type": "code",
   "execution_count": 19,
   "id": "484f848c",
   "metadata": {},
   "outputs": [],
   "source": [
    "lagos_df = pd.DataFrame(details_dict, columns=details_dict.keys())"
   ]
  },
  {
   "cell_type": "code",
   "execution_count": 20,
   "id": "edaa7036",
   "metadata": {
    "scrolled": true
   },
   "outputs": [
    {
     "data": {
      "text/html": [
       "<div>\n",
       "<style scoped>\n",
       "    .dataframe tbody tr th:only-of-type {\n",
       "        vertical-align: middle;\n",
       "    }\n",
       "\n",
       "    .dataframe tbody tr th {\n",
       "        vertical-align: top;\n",
       "    }\n",
       "\n",
       "    .dataframe thead th {\n",
       "        text-align: right;\n",
       "    }\n",
       "</style>\n",
       "<table border=\"1\" class=\"dataframe\">\n",
       "  <thead>\n",
       "    <tr style=\"text-align: right;\">\n",
       "      <th></th>\n",
       "      <th>lga</th>\n",
       "      <th>district</th>\n",
       "      <th>postal_code</th>\n",
       "    </tr>\n",
       "  </thead>\n",
       "  <tbody>\n",
       "    <tr>\n",
       "      <th>0</th>\n",
       "      <td>Ajeromi Ifelodun</td>\n",
       "      <td>Ajeromi</td>\n",
       "      <td>102103</td>\n",
       "    </tr>\n",
       "    <tr>\n",
       "      <th>1</th>\n",
       "      <td>Amuwo Odofin</td>\n",
       "      <td>Amuwo odofin</td>\n",
       "      <td>102102</td>\n",
       "    </tr>\n",
       "    <tr>\n",
       "      <th>2</th>\n",
       "      <td>Amuwo Odofin</td>\n",
       "      <td>Trade fair complex</td>\n",
       "      <td>102101</td>\n",
       "    </tr>\n",
       "    <tr>\n",
       "      <th>3</th>\n",
       "      <td>Badagry</td>\n",
       "      <td>Badagry</td>\n",
       "      <td>103101</td>\n",
       "    </tr>\n",
       "    <tr>\n",
       "      <th>4</th>\n",
       "      <td>Epe</td>\n",
       "      <td>Agbowa</td>\n",
       "      <td>106104</td>\n",
       "    </tr>\n",
       "    <tr>\n",
       "      <th>5</th>\n",
       "      <td>Epe</td>\n",
       "      <td>Ejinrin</td>\n",
       "      <td>106102</td>\n",
       "    </tr>\n",
       "    <tr>\n",
       "      <th>6</th>\n",
       "      <td>Epe</td>\n",
       "      <td>Epe</td>\n",
       "      <td>106101</td>\n",
       "    </tr>\n",
       "    <tr>\n",
       "      <th>7</th>\n",
       "      <td>Epe</td>\n",
       "      <td>Erodo</td>\n",
       "      <td>106103</td>\n",
       "    </tr>\n",
       "    <tr>\n",
       "      <th>8</th>\n",
       "      <td>Ibeju-Lekki</td>\n",
       "      <td>Ibeju</td>\n",
       "      <td>105101</td>\n",
       "    </tr>\n",
       "    <tr>\n",
       "      <th>9</th>\n",
       "      <td>Ibeju-Lekki</td>\n",
       "      <td>Lekki</td>\n",
       "      <td>105102</td>\n",
       "    </tr>\n",
       "    <tr>\n",
       "      <th>10</th>\n",
       "      <td>Ikorodu</td>\n",
       "      <td>Ikorodu rural</td>\n",
       "      <td>104101</td>\n",
       "    </tr>\n",
       "    <tr>\n",
       "      <th>11</th>\n",
       "      <td>Ikorodu</td>\n",
       "      <td>Irepodun</td>\n",
       "      <td>104102</td>\n",
       "    </tr>\n",
       "    <tr>\n",
       "      <th>12</th>\n",
       "      <td>Ojo</td>\n",
       "      <td>Ajangbadi Afromedia</td>\n",
       "      <td>102104</td>\n",
       "    </tr>\n",
       "    <tr>\n",
       "      <th>13</th>\n",
       "      <td>Ojo</td>\n",
       "      <td>Ajangbadi Ikemba house</td>\n",
       "      <td>102107</td>\n",
       "    </tr>\n",
       "    <tr>\n",
       "      <th>14</th>\n",
       "      <td>Ojo</td>\n",
       "      <td>Alaba</td>\n",
       "      <td>102115</td>\n",
       "    </tr>\n",
       "    <tr>\n",
       "      <th>15</th>\n",
       "      <td>Ojo</td>\n",
       "      <td>Iba town new site</td>\n",
       "      <td>102112</td>\n",
       "    </tr>\n",
       "    <tr>\n",
       "      <th>16</th>\n",
       "      <td>Ojo</td>\n",
       "      <td>Igbede</td>\n",
       "      <td>102109</td>\n",
       "    </tr>\n",
       "    <tr>\n",
       "      <th>17</th>\n",
       "      <td>Ojo</td>\n",
       "      <td>Igbo Elerin</td>\n",
       "      <td>102106</td>\n",
       "    </tr>\n",
       "    <tr>\n",
       "      <th>18</th>\n",
       "      <td>Ojo</td>\n",
       "      <td>Ilemba Awori</td>\n",
       "      <td>102108</td>\n",
       "    </tr>\n",
       "    <tr>\n",
       "      <th>19</th>\n",
       "      <td>Ojo</td>\n",
       "      <td>Ilogbo</td>\n",
       "      <td>102110</td>\n",
       "    </tr>\n",
       "    <tr>\n",
       "      <th>20</th>\n",
       "      <td>Ojo</td>\n",
       "      <td>Ira</td>\n",
       "      <td>102114</td>\n",
       "    </tr>\n",
       "    <tr>\n",
       "      <th>21</th>\n",
       "      <td>Ojo</td>\n",
       "      <td>Ojo</td>\n",
       "      <td>102101</td>\n",
       "    </tr>\n",
       "    <tr>\n",
       "      <th>22</th>\n",
       "      <td>Ojo</td>\n",
       "      <td>Okokomaiko</td>\n",
       "      <td>102105</td>\n",
       "    </tr>\n",
       "    <tr>\n",
       "      <th>23</th>\n",
       "      <td>Ojo</td>\n",
       "      <td>Olojo</td>\n",
       "      <td>102113</td>\n",
       "    </tr>\n",
       "    <tr>\n",
       "      <th>24</th>\n",
       "      <td>Ojo</td>\n",
       "      <td>Shibiri Ekune</td>\n",
       "      <td>102111</td>\n",
       "    </tr>\n",
       "  </tbody>\n",
       "</table>\n",
       "</div>"
      ],
      "text/plain": [
       "                 lga                district postal_code\n",
       "0   Ajeromi Ifelodun                 Ajeromi      102103\n",
       "1       Amuwo Odofin            Amuwo odofin      102102\n",
       "2       Amuwo Odofin      Trade fair complex      102101\n",
       "3            Badagry                 Badagry      103101\n",
       "4                Epe                  Agbowa      106104\n",
       "5                Epe                 Ejinrin      106102\n",
       "6                Epe                     Epe      106101\n",
       "7                Epe                   Erodo      106103\n",
       "8        Ibeju-Lekki                   Ibeju      105101\n",
       "9        Ibeju-Lekki                   Lekki      105102\n",
       "10           Ikorodu           Ikorodu rural      104101\n",
       "11           Ikorodu                Irepodun      104102\n",
       "12               Ojo     Ajangbadi Afromedia      102104\n",
       "13               Ojo  Ajangbadi Ikemba house      102107\n",
       "14               Ojo                   Alaba      102115\n",
       "15               Ojo       Iba town new site      102112\n",
       "16               Ojo                  Igbede      102109\n",
       "17               Ojo             Igbo Elerin      102106\n",
       "18               Ojo            Ilemba Awori      102108\n",
       "19               Ojo                  Ilogbo      102110\n",
       "20               Ojo                     Ira      102114\n",
       "21               Ojo                     Ojo      102101\n",
       "22               Ojo              Okokomaiko      102105\n",
       "23               Ojo                   Olojo      102113\n",
       "24               Ojo           Shibiri Ekune      102111"
      ]
     },
     "execution_count": 20,
     "metadata": {},
     "output_type": "execute_result"
    }
   ],
   "source": [
    "lagos_df"
   ]
  },
  {
   "cell_type": "markdown",
   "id": "6483b0be",
   "metadata": {},
   "source": [
    "*Now that we have our table fully scraped from the website to a pandas dataframe we can go ahead and do any other procssing we want. Like converting the string values in postal_code column to integers and so on... That's how to do webscraping!*"
   ]
  }
 ],
 "metadata": {
  "kernelspec": {
   "display_name": "Python 3 (ipykernel)",
   "language": "python",
   "name": "python3"
  },
  "language_info": {
   "codemirror_mode": {
    "name": "ipython",
    "version": 3
   },
   "file_extension": ".py",
   "mimetype": "text/x-python",
   "name": "python",
   "nbconvert_exporter": "python",
   "pygments_lexer": "ipython3",
   "version": "3.9.12"
  }
 },
 "nbformat": 4,
 "nbformat_minor": 5
}
