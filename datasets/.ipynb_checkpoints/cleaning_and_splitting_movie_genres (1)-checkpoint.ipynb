{
 "cells": [
  {
   "cell_type": "markdown",
   "id": "3ffa10f8",
   "metadata": {},
   "source": [
    "## In This notebook,\n",
    "\n",
    "We will extract the unique genres from the movies data set and plot them to see the most popular movie genres of all time"
   ]
  },
  {
   "cell_type": "code",
   "execution_count": 2,
   "id": "416218bf",
   "metadata": {},
   "outputs": [],
   "source": [
    "import pandas as pd\n",
    "pd.set_option('display.max_columns', None)\n",
    "import numpy as np\n",
    "import matplotlib.pyplot as plt"
   ]
  },
  {
   "cell_type": "markdown",
   "id": "c59aa1f2",
   "metadata": {},
   "source": [
    "**Ensure your pandas version is atleaset 0.25**\n",
    "\n",
    "otherwise you can't use the explode function"
   ]
  },
  {
   "cell_type": "code",
   "execution_count": 3,
   "id": "39f74123",
   "metadata": {},
   "outputs": [
    {
     "name": "stdout",
     "output_type": "stream",
     "text": [
      "1.4.2\n"
     ]
    }
   ],
   "source": [
    "print(pd.__version__)"
   ]
  },
  {
   "cell_type": "code",
   "execution_count": 4,
   "id": "4bb831ad",
   "metadata": {},
   "outputs": [
    {
     "data": {
      "text/html": [
       "<div>\n",
       "<style scoped>\n",
       "    .dataframe tbody tr th:only-of-type {\n",
       "        vertical-align: middle;\n",
       "    }\n",
       "\n",
       "    .dataframe tbody tr th {\n",
       "        vertical-align: top;\n",
       "    }\n",
       "\n",
       "    .dataframe thead th {\n",
       "        text-align: right;\n",
       "    }\n",
       "</style>\n",
       "<table border=\"1\" class=\"dataframe\">\n",
       "  <thead>\n",
       "    <tr style=\"text-align: right;\">\n",
       "      <th></th>\n",
       "      <th>color</th>\n",
       "      <th>director_name</th>\n",
       "      <th>num_critic_for_reviews</th>\n",
       "      <th>duration</th>\n",
       "      <th>director_facebook_likes</th>\n",
       "      <th>actor_3_facebook_likes</th>\n",
       "      <th>actor_2_name</th>\n",
       "      <th>actor_1_facebook_likes</th>\n",
       "      <th>gross</th>\n",
       "      <th>genres</th>\n",
       "      <th>actor_1_name</th>\n",
       "      <th>movie_title</th>\n",
       "      <th>num_voted_users</th>\n",
       "      <th>cast_total_facebook_likes</th>\n",
       "      <th>actor_3_name</th>\n",
       "      <th>facenumber_in_poster</th>\n",
       "      <th>plot_keywords</th>\n",
       "      <th>movie_imdb_link</th>\n",
       "      <th>num_user_for_reviews</th>\n",
       "      <th>language</th>\n",
       "      <th>country</th>\n",
       "      <th>content_rating</th>\n",
       "      <th>budget</th>\n",
       "      <th>title_year</th>\n",
       "      <th>actor_2_facebook_likes</th>\n",
       "      <th>imdb_score</th>\n",
       "      <th>aspect_ratio</th>\n",
       "      <th>movie_facebook_likes</th>\n",
       "    </tr>\n",
       "  </thead>\n",
       "  <tbody>\n",
       "    <tr>\n",
       "      <th>0</th>\n",
       "      <td>Color</td>\n",
       "      <td>James Cameron</td>\n",
       "      <td>723.0</td>\n",
       "      <td>178.0</td>\n",
       "      <td>0.0</td>\n",
       "      <td>855.0</td>\n",
       "      <td>Joel David Moore</td>\n",
       "      <td>1000.0</td>\n",
       "      <td>760505847.0</td>\n",
       "      <td>Action|Adventure|Fantasy|Sci-Fi</td>\n",
       "      <td>CCH Pounder</td>\n",
       "      <td>Avatar</td>\n",
       "      <td>886204</td>\n",
       "      <td>4834</td>\n",
       "      <td>Wes Studi</td>\n",
       "      <td>0.0</td>\n",
       "      <td>avatar|future|marine|native|paraplegic</td>\n",
       "      <td>http://www.imdb.com/title/tt0499549/?ref_=fn_t...</td>\n",
       "      <td>3054.0</td>\n",
       "      <td>English</td>\n",
       "      <td>USA</td>\n",
       "      <td>PG-13</td>\n",
       "      <td>237000000.0</td>\n",
       "      <td>2009.0</td>\n",
       "      <td>936.0</td>\n",
       "      <td>7.9</td>\n",
       "      <td>1.78</td>\n",
       "      <td>33000</td>\n",
       "    </tr>\n",
       "    <tr>\n",
       "      <th>1</th>\n",
       "      <td>Color</td>\n",
       "      <td>Gore Verbinski</td>\n",
       "      <td>302.0</td>\n",
       "      <td>169.0</td>\n",
       "      <td>563.0</td>\n",
       "      <td>1000.0</td>\n",
       "      <td>Orlando Bloom</td>\n",
       "      <td>40000.0</td>\n",
       "      <td>309404152.0</td>\n",
       "      <td>Action|Adventure|Fantasy</td>\n",
       "      <td>Johnny Depp</td>\n",
       "      <td>Pirates of the Caribbean: At World's End</td>\n",
       "      <td>471220</td>\n",
       "      <td>48350</td>\n",
       "      <td>Jack Davenport</td>\n",
       "      <td>0.0</td>\n",
       "      <td>goddess|marriage ceremony|marriage proposal|pi...</td>\n",
       "      <td>http://www.imdb.com/title/tt0449088/?ref_=fn_t...</td>\n",
       "      <td>1238.0</td>\n",
       "      <td>English</td>\n",
       "      <td>USA</td>\n",
       "      <td>PG-13</td>\n",
       "      <td>300000000.0</td>\n",
       "      <td>2007.0</td>\n",
       "      <td>5000.0</td>\n",
       "      <td>7.1</td>\n",
       "      <td>2.35</td>\n",
       "      <td>0</td>\n",
       "    </tr>\n",
       "  </tbody>\n",
       "</table>\n",
       "</div>"
      ],
      "text/plain": [
       "   color   director_name  num_critic_for_reviews  duration  \\\n",
       "0  Color   James Cameron                   723.0     178.0   \n",
       "1  Color  Gore Verbinski                   302.0     169.0   \n",
       "\n",
       "   director_facebook_likes  actor_3_facebook_likes      actor_2_name  \\\n",
       "0                      0.0                   855.0  Joel David Moore   \n",
       "1                    563.0                  1000.0     Orlando Bloom   \n",
       "\n",
       "   actor_1_facebook_likes        gross                           genres  \\\n",
       "0                  1000.0  760505847.0  Action|Adventure|Fantasy|Sci-Fi   \n",
       "1                 40000.0  309404152.0         Action|Adventure|Fantasy   \n",
       "\n",
       "  actor_1_name                               movie_title  num_voted_users  \\\n",
       "0  CCH Pounder                                    Avatar           886204   \n",
       "1  Johnny Depp  Pirates of the Caribbean: At World's End           471220   \n",
       "\n",
       "   cast_total_facebook_likes    actor_3_name  facenumber_in_poster  \\\n",
       "0                       4834       Wes Studi                   0.0   \n",
       "1                      48350  Jack Davenport                   0.0   \n",
       "\n",
       "                                       plot_keywords  \\\n",
       "0             avatar|future|marine|native|paraplegic   \n",
       "1  goddess|marriage ceremony|marriage proposal|pi...   \n",
       "\n",
       "                                     movie_imdb_link  num_user_for_reviews  \\\n",
       "0  http://www.imdb.com/title/tt0499549/?ref_=fn_t...                3054.0   \n",
       "1  http://www.imdb.com/title/tt0449088/?ref_=fn_t...                1238.0   \n",
       "\n",
       "  language country content_rating       budget  title_year  \\\n",
       "0  English     USA          PG-13  237000000.0      2009.0   \n",
       "1  English     USA          PG-13  300000000.0      2007.0   \n",
       "\n",
       "   actor_2_facebook_likes  imdb_score  aspect_ratio  movie_facebook_likes  \n",
       "0                   936.0         7.9          1.78                 33000  \n",
       "1                  5000.0         7.1          2.35                     0  "
      ]
     },
     "execution_count": 4,
     "metadata": {},
     "output_type": "execute_result"
    }
   ],
   "source": [
    "movies = pd.read_csv('data/movie.csv')\n",
    "movies.head(2)"
   ]
  },
  {
   "cell_type": "code",
   "execution_count": 5,
   "id": "81d0cb37",
   "metadata": {},
   "outputs": [
    {
     "data": {
      "text/plain": [
       "(4916, 28)"
      ]
     },
     "execution_count": 5,
     "metadata": {},
     "output_type": "execute_result"
    }
   ],
   "source": [
    "# let's see the shape\n",
    "movies.shape"
   ]
  },
  {
   "cell_type": "code",
   "execution_count": 4,
   "id": "d8e49ce0",
   "metadata": {},
   "outputs": [
    {
     "data": {
      "text/plain": [
       "0"
      ]
     },
     "execution_count": 4,
     "metadata": {},
     "output_type": "execute_result"
    }
   ],
   "source": [
    "# check for missing values in the genre-column\n",
    "movies.genres.isna().sum()"
   ]
  },
  {
   "cell_type": "code",
   "execution_count": 6,
   "id": "76d7b46a",
   "metadata": {},
   "outputs": [
    {
     "data": {
      "text/plain": [
       "0    Action|Adventure|Fantasy|Sci-Fi\n",
       "1           Action|Adventure|Fantasy\n",
       "2          Action|Adventure|Thriller\n",
       "3                    Action|Thriller\n",
       "4                        Documentary\n",
       "Name: genres, dtype: object"
      ]
     },
     "execution_count": 6,
     "metadata": {},
     "output_type": "execute_result"
    }
   ],
   "source": [
    "# Let's see the genres\n",
    "movies.genres.head()"
   ]
  },
  {
   "cell_type": "code",
   "execution_count": 7,
   "id": "ddc2091c",
   "metadata": {},
   "outputs": [
    {
     "data": {
      "text/plain": [
       "dtype('O')"
      ]
     },
     "execution_count": 7,
     "metadata": {},
     "output_type": "execute_result"
    }
   ],
   "source": [
    "movies.genres.dtype"
   ]
  },
  {
   "cell_type": "markdown",
   "id": "f17760b2",
   "metadata": {},
   "source": [
    "We can see that the `genre` column is object type or string. Our goal is to make each genre a unique column in the `movies` dataframe"
   ]
  },
  {
   "cell_type": "markdown",
   "id": "1e850c3a",
   "metadata": {},
   "source": [
    "First, we need to clean each string in the movie `genres` column, remove whitespace and replace any hyphens with underscores and make all genres small case for uniformity "
   ]
  },
  {
   "cell_type": "code",
   "execution_count": 8,
   "id": "26aefdd2",
   "metadata": {},
   "outputs": [],
   "source": [
    "def clean_col(col, df=movies):\n",
    "    \"\"\"This function cleans each row of a \n",
    "        string column, by removing whitespace,\n",
    "        and replacing hyphens and spaces with underscore,\n",
    "        and making each genre small case\n",
    "        \n",
    "    @param col: a series obj of strings in df\n",
    "    @param df: a pandas dataframe\n",
    "    @return: None, cleans in place\n",
    "    \"\"\"\n",
    "    \n",
    "    df[col] = df[col].apply(lambda x: x.strip().lower().replace('-','_').replace(' ', '_'))\n",
    "    \n",
    "    print('Column Cleaned!')"
   ]
  },
  {
   "cell_type": "code",
   "execution_count": 9,
   "id": "19f7fac4",
   "metadata": {
    "scrolled": true
   },
   "outputs": [
    {
     "name": "stdout",
     "output_type": "stream",
     "text": [
      "Column Cleaned!\n"
     ]
    }
   ],
   "source": [
    "clean_col('genres')"
   ]
  },
  {
   "cell_type": "code",
   "execution_count": 10,
   "id": "700221cd",
   "metadata": {},
   "outputs": [
    {
     "data": {
      "text/plain": [
       "0    action|adventure|fantasy|sci_fi\n",
       "1           action|adventure|fantasy\n",
       "2          action|adventure|thriller\n",
       "3                    action|thriller\n",
       "4                        documentary\n",
       "Name: genres, dtype: object"
      ]
     },
     "execution_count": 10,
     "metadata": {},
     "output_type": "execute_result"
    }
   ],
   "source": [
    "# Let's see the genres\n",
    "movies.genres.head()"
   ]
  },
  {
   "cell_type": "markdown",
   "id": "f7812313",
   "metadata": {},
   "source": [
    "Next, we will convert each row to a list of strings. Since each string is divided by a '|', we use that for the separation"
   ]
  },
  {
   "cell_type": "code",
   "execution_count": 11,
   "id": "2f9014e9",
   "metadata": {},
   "outputs": [],
   "source": [
    "movies['genres'] = movies['genres'].apply(lambda x: x.split('|'))"
   ]
  },
  {
   "cell_type": "code",
   "execution_count": 12,
   "id": "898931a1",
   "metadata": {},
   "outputs": [
    {
     "data": {
      "text/plain": [
       "0    [action, adventure, fantasy, sci_fi]\n",
       "1            [action, adventure, fantasy]\n",
       "2           [action, adventure, thriller]\n",
       "3                      [action, thriller]\n",
       "4                           [documentary]\n",
       "Name: genres, dtype: object"
      ]
     },
     "execution_count": 12,
     "metadata": {},
     "output_type": "execute_result"
    }
   ],
   "source": [
    "# Let's see the genres\n",
    "movies.genres.head()"
   ]
  },
  {
   "cell_type": "markdown",
   "id": "0b4b3c39",
   "metadata": {},
   "source": [
    "Now that we have lists, we will explode into one series object and get the unique genres"
   ]
  },
  {
   "cell_type": "code",
   "execution_count": 13,
   "id": "49f5526d",
   "metadata": {},
   "outputs": [
    {
     "data": {
      "text/plain": [
       "(14124, 28)"
      ]
     },
     "execution_count": 13,
     "metadata": {},
     "output_type": "execute_result"
    }
   ],
   "source": [
    "genres_exploded = movies.explode('genres', ignore_index=True)\n",
    "\n",
    "# Lets see shape\n",
    "genres_exploded.shape"
   ]
  },
  {
   "cell_type": "code",
   "execution_count": 14,
   "id": "98c7c02d",
   "metadata": {},
   "outputs": [
    {
     "data": {
      "text/plain": [
       "pandas.core.frame.DataFrame"
      ]
     },
     "execution_count": 14,
     "metadata": {},
     "output_type": "execute_result"
    }
   ],
   "source": [
    "type(genres_exploded)"
   ]
  },
  {
   "cell_type": "markdown",
   "id": "a5e161d1",
   "metadata": {},
   "source": [
    "*Now we can select the unique genres in descending order and plot it to to show the most popular gnres of all time*"
   ]
  },
  {
   "cell_type": "code",
   "execution_count": 21,
   "id": "07f05e06",
   "metadata": {},
   "outputs": [],
   "source": [
    "genres = genres_exploded.groupby('genres').count()['color'].sort_values(ascending=False)"
   ]
  },
  {
   "cell_type": "code",
   "execution_count": 22,
   "id": "a19ac48e",
   "metadata": {},
   "outputs": [
    {
     "data": {
      "image/png": "[encoded data removed]",
      "text/plain": [
       "<Figure size 720x504 with 1 Axes>"
      ]
     },
     "metadata": {
      "needs_background": "light"
     },
     "output_type": "display_data"
    }
   ],
   "source": [
    "genres.plot(kind='bar', figsize=(10,7));"
   ]
  },
  {
   "cell_type": "markdown",
   "id": "59445724",
   "metadata": {},
   "source": [
    "*Now let's select the unique genres from the exploded dataframe `genres` column*"
   ]
  },
  {
   "cell_type": "code",
   "execution_count": 23,
   "id": "0c91ea80",
   "metadata": {},
   "outputs": [
    {
     "data": {
      "text/plain": [
       "array(['action', 'adventure', 'fantasy', 'sci_fi', 'thriller',\n",
       "       'documentary', 'romance', 'animation', 'comedy', 'family',\n",
       "       'musical', 'mystery', 'western', 'drama', 'history', 'sport',\n",
       "       'crime', 'horror', 'war', 'biography', 'music', 'game_show',\n",
       "       'reality_tv', 'news', 'short', 'film_noir'], dtype=object)"
      ]
     },
     "execution_count": 23,
     "metadata": {},
     "output_type": "execute_result"
    }
   ],
   "source": [
    "unique_genres = genres_exploded.genres.unique()\n",
    "\n",
    "# Let's see them\n",
    "unique_genres"
   ]
  },
  {
   "cell_type": "code",
   "execution_count": 24,
   "id": "2387e121",
   "metadata": {},
   "outputs": [
    {
     "data": {
      "text/plain": [
       "26"
      ]
     },
     "execution_count": 24,
     "metadata": {},
     "output_type": "execute_result"
    }
   ],
   "source": [
    "# How many unique genres do we have\n",
    "\n",
    "len(unique_genres)"
   ]
  },
  {
   "cell_type": "code",
   "execution_count": 28,
   "id": "54bc72fa",
   "metadata": {
    "scrolled": true
   },
   "outputs": [],
   "source": [
    "# !jupyter nbconvert --execute --to pdf cleaning_and_splitting_movie_genres.ipynb"
   ]
  }
 ],
 "metadata": {
  "kernelspec": {
   "display_name": "Python 3 (ipykernel)",
   "language": "python",
   "name": "python3"
  },
  "language_info": {
   "codemirror_mode": {
    "name": "ipython",
    "version": 3
   },
   "file_extension": ".py",
   "mimetype": "text/x-python",
   "name": "python",
   "nbconvert_exporter": "python",
   "pygments_lexer": "ipython3",
   "version": "3.8.5"
  }
 },
 "nbformat": 4,
 "nbformat_minor": 5
}
