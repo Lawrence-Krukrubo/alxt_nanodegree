{
 "cells": [
  {
   "cell_type": "code",
   "execution_count": 1,
   "id": "6f77bc71",
   "metadata": {},
   "outputs": [],
   "source": [
    "import pandas as pd\n",
    "import numpy as np\n",
    "import matplotlib.pyplot as plt\n",
    "import warnings\n",
    "warnings.filterwarnings(\"ignore\")\n",
    "import os"
   ]
  },
  {
   "cell_type": "markdown",
   "id": "42ac9b46",
   "metadata": {},
   "source": [
    "*Downloading session chat from Github*"
   ]
  },
  {
   "cell_type": "code",
   "execution_count": 2,
   "id": "43bfaab1",
   "metadata": {},
   "outputs": [
    {
     "name": "stderr",
     "output_type": "stream",
     "text": [
      "  % Total    % Received % Xferd  Average Speed   Time    Time     Time  Current\n",
      "                                 Dload  Upload   Total   Spent    Left  Speed\n",
      "\n",
      "  0     0    0     0    0     0      0      0 --:--:-- --:--:-- --:--:--     0\n",
      "100  3862  100  3862    0     0  11919      0 --:--:-- --:--:-- --:--:-- 11919\n",
      "100  3862  100  3862    0     0  11919      0 --:--:-- --:--:-- --:--:-- 11919\n"
     ]
    }
   ],
   "source": [
    "!curl https://raw.githubusercontent.com/Lawrence-Krukrubo/GADS2020_Cloud_Practice_Project/master/meeting_13th_june.txt -o meeting_13th_june.txt"
   ]
  },
  {
   "cell_type": "code",
   "execution_count": 3,
   "id": "889d3f3f",
   "metadata": {},
   "outputs": [
    {
     "data": {
      "text/plain": [
       "['.ipynb_checkpoints',\n",
       " '17may_69_students.csv',\n",
       " '4th_session_chat.txt',\n",
       " 'archive.zip',\n",
       " 'attendance_16thMay.csv',\n",
       " 'attendance_condensed16thMay.csv',\n",
       " 'bestofrt.tsv',\n",
       " 'cleaning_and_splitting_movie_genres (1).ipynb',\n",
       " 'ebert_reviews',\n",
       " 'example-job-posting.jpg',\n",
       " 'extract_attendance.ipynb',\n",
       " 'extract_attendance_13thJune.ipynb',\n",
       " 'features.txt',\n",
       " 'getting_data.ipynb',\n",
       " 'June_analysis.ipynb',\n",
       " 'meeting_13th_june.txt',\n",
       " 'online-job-postings.csv',\n",
       " 'p1_incomplete.csv',\n",
       " 'p1_ungraded.csv',\n",
       " 'p1_unsubs.csv',\n",
       " 'rt-html.zip',\n",
       " 'rt_html',\n",
       " 'session-4356-report-5_15_2022.csv',\n",
       " 'session-4356-report-5_17_2022.csv',\n",
       " 'session-4356-report-6_1_2022.csv',\n",
       " 'session-4356-report-6_7_2022.csv',\n",
       " 'sessions_data.ipynb']"
      ]
     },
     "execution_count": 3,
     "metadata": {},
     "output_type": "execute_result"
    }
   ],
   "source": [
    "os.listdir()"
   ]
  },
  {
   "cell_type": "code",
   "execution_count": 4,
   "id": "b9ed6588",
   "metadata": {
    "scrolled": true
   },
   "outputs": [
    {
     "data": {
      "text/plain": [
       "(69, 3)"
      ]
     },
     "execution_count": 4,
     "metadata": {},
     "output_type": "execute_result"
    }
   ],
   "source": [
    "df = pd.read_csv('17may_69_students.csv')\n",
    "df.shape"
   ]
  },
  {
   "cell_type": "code",
   "execution_count": 5,
   "id": "31529476",
   "metadata": {},
   "outputs": [
    {
     "name": "stdout",
     "output_type": "stream",
     "text": [
      "<class 'pandas.core.frame.DataFrame'>\n",
      "RangeIndex: 69 entries, 0 to 68\n",
      "Data columns (total 3 columns):\n",
      " #   Column      Non-Null Count  Dtype \n",
      "---  ------      --------------  ----- \n",
      " 0   Email       69 non-null     object\n",
      " 1   First Name  69 non-null     object\n",
      " 2   Last Name   69 non-null     object\n",
      "dtypes: object(3)\n",
      "memory usage: 1.7+ KB\n"
     ]
    }
   ],
   "source": [
    "df.info()"
   ]
  },
  {
   "cell_type": "code",
   "execution_count": 6,
   "id": "5185e9b2",
   "metadata": {},
   "outputs": [],
   "source": [
    "for col in ['First Name', 'Last Name']:\n",
    "    df[col] = df[col].apply(lambda x: x.lower().replace('_', ' ').replace('-', ' '))"
   ]
  },
  {
   "cell_type": "code",
   "execution_count": 7,
   "id": "ce6eb233",
   "metadata": {},
   "outputs": [
    {
     "data": {
      "text/html": [
       "<div>\n",
       "<style scoped>\n",
       "    .dataframe tbody tr th:only-of-type {\n",
       "        vertical-align: middle;\n",
       "    }\n",
       "\n",
       "    .dataframe tbody tr th {\n",
       "        vertical-align: top;\n",
       "    }\n",
       "\n",
       "    .dataframe thead th {\n",
       "        text-align: right;\n",
       "    }\n",
       "</style>\n",
       "<table border=\"1\" class=\"dataframe\">\n",
       "  <thead>\n",
       "    <tr style=\"text-align: right;\">\n",
       "      <th></th>\n",
       "      <th>First Name</th>\n",
       "      <th>Last Name</th>\n",
       "    </tr>\n",
       "  </thead>\n",
       "  <tbody>\n",
       "    <tr>\n",
       "      <th>0</th>\n",
       "      <td>abdullah</td>\n",
       "      <td>ajao</td>\n",
       "    </tr>\n",
       "    <tr>\n",
       "      <th>1</th>\n",
       "      <td>abdullahi</td>\n",
       "      <td>adedayo</td>\n",
       "    </tr>\n",
       "    <tr>\n",
       "      <th>2</th>\n",
       "      <td>abdulmalik</td>\n",
       "      <td>ismail</td>\n",
       "    </tr>\n",
       "  </tbody>\n",
       "</table>\n",
       "</div>"
      ],
      "text/plain": [
       "   First Name Last Name\n",
       "0    abdullah      ajao\n",
       "1   abdullahi   adedayo\n",
       "2  abdulmalik    ismail"
      ]
     },
     "execution_count": 7,
     "metadata": {},
     "output_type": "execute_result"
    }
   ],
   "source": [
    "df[['First Name', 'Last Name']].head(3)"
   ]
  },
  {
   "cell_type": "code",
   "execution_count": 8,
   "id": "48e86aed",
   "metadata": {},
   "outputs": [],
   "source": [
    "all_names = list(df['First Name']) + list(df['Last Name'])"
   ]
  },
  {
   "cell_type": "code",
   "execution_count": 9,
   "id": "ae0c2499",
   "metadata": {},
   "outputs": [],
   "source": [
    "chats = 'meeting_13th_june.txt'\n",
    "with open(chats, 'r') as fyle:\n",
    "    lines = fyle.readlines()"
   ]
  },
  {
   "cell_type": "markdown",
   "id": "52ebd734",
   "metadata": {},
   "source": [
    "*Making the read-out texts a dataframe to easily clean all rows...*"
   ]
  },
  {
   "cell_type": "code",
   "execution_count": 10,
   "id": "f4f70561",
   "metadata": {},
   "outputs": [],
   "source": [
    "def make_df(texts, col='strings'):\n",
    "    dd = pd.DataFrame(texts, columns=[col])\n",
    "    return dd"
   ]
  },
  {
   "cell_type": "code",
   "execution_count": 11,
   "id": "84470083",
   "metadata": {
    "scrolled": false
   },
   "outputs": [
    {
     "data": {
      "text/html": [
       "<div>\n",
       "<style scoped>\n",
       "    .dataframe tbody tr th:only-of-type {\n",
       "        vertical-align: middle;\n",
       "    }\n",
       "\n",
       "    .dataframe tbody tr th {\n",
       "        vertical-align: top;\n",
       "    }\n",
       "\n",
       "    .dataframe thead th {\n",
       "        text-align: right;\n",
       "    }\n",
       "</style>\n",
       "<table border=\"1\" class=\"dataframe\">\n",
       "  <thead>\n",
       "    <tr style=\"text-align: right;\">\n",
       "      <th></th>\n",
       "      <th>strings</th>\n",
       "    </tr>\n",
       "  </thead>\n",
       "  <tbody>\n",
       "    <tr>\n",
       "      <th>0</th>\n",
       "      <td>19:02:03 From  Lawrence Krukrubo  to  Everyone:\\n</td>\n",
       "    </tr>\n",
       "    <tr>\n",
       "      <th>1</th>\n",
       "      <td>\\tNigeria\\n</td>\n",
       "    </tr>\n",
       "    <tr>\n",
       "      <th>2</th>\n",
       "      <td>19:02:11 From  Lawrence Krukrubo  to  Everyone:\\n</td>\n",
       "    </tr>\n",
       "    <tr>\n",
       "      <th>3</th>\n",
       "      <td>\\tGhana\\n</td>\n",
       "    </tr>\n",
       "    <tr>\n",
       "      <th>4</th>\n",
       "      <td>19:02:13 From  Lawrence Krukrubo  to  Everyone:\\n</td>\n",
       "    </tr>\n",
       "  </tbody>\n",
       "</table>\n",
       "</div>"
      ],
      "text/plain": [
       "                                             strings\n",
       "0  19:02:03 From  Lawrence Krukrubo  to  Everyone:\\n\n",
       "1                                        \\tNigeria\\n\n",
       "2  19:02:11 From  Lawrence Krukrubo  to  Everyone:\\n\n",
       "3                                          \\tGhana\\n\n",
       "4  19:02:13 From  Lawrence Krukrubo  to  Everyone:\\n"
      ]
     },
     "execution_count": 11,
     "metadata": {},
     "output_type": "execute_result"
    }
   ],
   "source": [
    "dd = make_df(lines)\n",
    "dd.head()"
   ]
  },
  {
   "cell_type": "markdown",
   "id": "f1397bbe",
   "metadata": {},
   "source": [
    "Next, we clean the cols, convert each row to a list, explode the list and return a set of unique words"
   ]
  },
  {
   "cell_type": "code",
   "execution_count": 12,
   "id": "52d30d08",
   "metadata": {},
   "outputs": [],
   "source": [
    "# First, we define a regex pattern for keeping only alphabets\n",
    "\n",
    "import re\n",
    "rgex = re.compile('[^a-zA-Z]')"
   ]
  },
  {
   "cell_type": "code",
   "execution_count": 13,
   "id": "4a5b4713",
   "metadata": {},
   "outputs": [],
   "source": [
    "def clean_lists_explode(df, col):\n",
    "    # first clean all non-alphabetic characters\n",
    "    df[col] = df[col].apply(lambda x: rgex.sub(' ', x).lower().strip())\n",
    "    \n",
    "    # Next split each row to a list\n",
    "    df[col] = df[col].str.split(' ')\n",
    "    \n",
    "    # Next we explode the column of lists\n",
    "    exploded = df.explode(col)[col]\n",
    "    \n",
    "    # next we keep a set of unique values\n",
    "    exploded = set(exploded)\n",
    "    \n",
    "    print('Column Cleaned, Listed, Exploded!')\n",
    "    \n",
    "    # Finally, return a list of exploded values\n",
    "    return list(exploded)"
   ]
  },
  {
   "cell_type": "code",
   "execution_count": 14,
   "id": "34b72e47",
   "metadata": {},
   "outputs": [
    {
     "data": {
      "text/html": [
       "<div>\n",
       "<style scoped>\n",
       "    .dataframe tbody tr th:only-of-type {\n",
       "        vertical-align: middle;\n",
       "    }\n",
       "\n",
       "    .dataframe tbody tr th {\n",
       "        vertical-align: top;\n",
       "    }\n",
       "\n",
       "    .dataframe thead th {\n",
       "        text-align: right;\n",
       "    }\n",
       "</style>\n",
       "<table border=\"1\" class=\"dataframe\">\n",
       "  <thead>\n",
       "    <tr style=\"text-align: right;\">\n",
       "      <th></th>\n",
       "      <th>names</th>\n",
       "    </tr>\n",
       "  </thead>\n",
       "  <tbody>\n",
       "    <tr>\n",
       "      <th>0</th>\n",
       "      <td>abdullah</td>\n",
       "    </tr>\n",
       "    <tr>\n",
       "      <th>1</th>\n",
       "      <td>abdullahi</td>\n",
       "    </tr>\n",
       "    <tr>\n",
       "      <th>2</th>\n",
       "      <td>abdulmalik</td>\n",
       "    </tr>\n",
       "  </tbody>\n",
       "</table>\n",
       "</div>"
      ],
      "text/plain": [
       "        names\n",
       "0    abdullah\n",
       "1   abdullahi\n",
       "2  abdulmalik"
      ]
     },
     "execution_count": 14,
     "metadata": {},
     "output_type": "execute_result"
    }
   ],
   "source": [
    "names_df = pd.DataFrame(all_names, columns=['names'])\n",
    "names_df.head(3)"
   ]
  },
  {
   "cell_type": "code",
   "execution_count": 15,
   "id": "b17d360a",
   "metadata": {},
   "outputs": [
    {
     "name": "stdout",
     "output_type": "stream",
     "text": [
      "Column Cleaned, Listed, Exploded!\n"
     ]
    }
   ],
   "source": [
    "exploded1 = clean_lists_explode(dd, 'strings')"
   ]
  },
  {
   "cell_type": "code",
   "execution_count": 16,
   "id": "28717f63",
   "metadata": {},
   "outputs": [
    {
     "data": {
      "text/plain": [
       "160"
      ]
     },
     "execution_count": 16,
     "metadata": {},
     "output_type": "execute_result"
    }
   ],
   "source": [
    "len(exploded1)"
   ]
  },
  {
   "cell_type": "code",
   "execution_count": 17,
   "id": "b4eabcdf",
   "metadata": {},
   "outputs": [
    {
     "name": "stdout",
     "output_type": "stream",
     "text": [
      "Column Cleaned, Listed, Exploded!\n"
     ]
    }
   ],
   "source": [
    "exploded2 = clean_lists_explode(names_df, 'names')"
   ]
  },
  {
   "cell_type": "code",
   "execution_count": 18,
   "id": "bd350295",
   "metadata": {},
   "outputs": [
    {
     "data": {
      "text/plain": [
       "144"
      ]
     },
     "execution_count": 18,
     "metadata": {},
     "output_type": "execute_result"
    }
   ],
   "source": [
    "len(exploded2)"
   ]
  },
  {
   "cell_type": "markdown",
   "id": "318ccb0f",
   "metadata": {},
   "source": [
    "Let's now keep only common values in both exploded and all_names..."
   ]
  },
  {
   "cell_type": "code",
   "execution_count": 19,
   "id": "48342201",
   "metadata": {},
   "outputs": [
    {
     "name": "stdout",
     "output_type": "stream",
     "text": [
      "ln commons: 67\n"
     ]
    }
   ],
   "source": [
    "commons = list(set(exploded1).intersection(set(exploded2)))\n",
    "print(f'ln commons: {len(commons)}')"
   ]
  },
  {
   "cell_type": "code",
   "execution_count": 20,
   "id": "08958bd7",
   "metadata": {},
   "outputs": [],
   "source": [
    "def find_present(commons):\n",
    "    ddf = pd.DataFrame([], columns=['present'])\n",
    "    \n",
    "    for name in commons:\n",
    "        long_name = [i for i in all_names if name in i][0]\n",
    "        if long_name:\n",
    "            try:\n",
    "                q = f'`First Name` == \"{long_name}\"'\n",
    "                tmp = df.query(q)[['First Name', 'Last Name']].values\n",
    "                assert len(tmp) > 0\n",
    "            except AssertionError:\n",
    "                q = f'`Last Name` == \"{long_name}\"'\n",
    "                tmp = df.query(q)[['First Name', 'Last Name']].values\n",
    "        \n",
    "            name_ = ['_'.join(i) for i in tmp][0]\n",
    "            ddf = ddf.append({'present':name_}, ignore_index=True)\n",
    "            \n",
    "    # drop Duplicates\n",
    "    ddf.drop_duplicates(inplace=True)\n",
    "    \n",
    "    # sort names alphabetically\n",
    "    ddf.sort_values(by='present', inplace=True)\n",
    "    \n",
    "    # reset_index\n",
    "    ddf.index = range(len(ddf))\n",
    "    \n",
    "    # replace empty space with underscore\n",
    "    ddf.present = ddf.present.apply(lambda x: x.replace(' ','_').strip())\n",
    "    \n",
    "    return ddf"
   ]
  },
  {
   "cell_type": "code",
   "execution_count": 21,
   "id": "b1485464",
   "metadata": {
    "scrolled": true
   },
   "outputs": [],
   "source": [
    "present = find_present(commons)"
   ]
  },
  {
   "cell_type": "code",
   "execution_count": 22,
   "id": "a2fba5e0",
   "metadata": {},
   "outputs": [
    {
     "name": "stdout",
     "output_type": "stream",
     "text": [
      "total present: 34\n"
     ]
    }
   ],
   "source": [
    "print(f'total present: {len(present)}')"
   ]
  },
  {
   "cell_type": "code",
   "execution_count": 23,
   "id": "84e75a13",
   "metadata": {
    "scrolled": true
   },
   "outputs": [
    {
     "data": {
      "text/html": [
       "<div>\n",
       "<style scoped>\n",
       "    .dataframe tbody tr th:only-of-type {\n",
       "        vertical-align: middle;\n",
       "    }\n",
       "\n",
       "    .dataframe tbody tr th {\n",
       "        vertical-align: top;\n",
       "    }\n",
       "\n",
       "    .dataframe thead th {\n",
       "        text-align: right;\n",
       "    }\n",
       "</style>\n",
       "<table border=\"1\" class=\"dataframe\">\n",
       "  <thead>\n",
       "    <tr style=\"text-align: right;\">\n",
       "      <th></th>\n",
       "      <th>present</th>\n",
       "    </tr>\n",
       "  </thead>\n",
       "  <tbody>\n",
       "    <tr>\n",
       "      <th>0</th>\n",
       "      <td>abdullah_ajao</td>\n",
       "    </tr>\n",
       "    <tr>\n",
       "      <th>1</th>\n",
       "      <td>abdullahi_adedayo</td>\n",
       "    </tr>\n",
       "    <tr>\n",
       "      <th>2</th>\n",
       "      <td>abdulmalik_ismail</td>\n",
       "    </tr>\n",
       "    <tr>\n",
       "      <th>3</th>\n",
       "      <td>adedeji_kayode</td>\n",
       "    </tr>\n",
       "    <tr>\n",
       "      <th>4</th>\n",
       "      <td>annabella_blankson</td>\n",
       "    </tr>\n",
       "    <tr>\n",
       "      <th>5</th>\n",
       "      <td>courtney_gallant</td>\n",
       "    </tr>\n",
       "    <tr>\n",
       "      <th>6</th>\n",
       "      <td>cyril_ocloo</td>\n",
       "    </tr>\n",
       "    <tr>\n",
       "      <th>7</th>\n",
       "      <td>derick_biney</td>\n",
       "    </tr>\n",
       "    <tr>\n",
       "      <th>8</th>\n",
       "      <td>emmanuel_bamidele</td>\n",
       "    </tr>\n",
       "    <tr>\n",
       "      <th>9</th>\n",
       "      <td>fuad_adebisi</td>\n",
       "    </tr>\n",
       "    <tr>\n",
       "      <th>10</th>\n",
       "      <td>gberbie_derick</td>\n",
       "    </tr>\n",
       "    <tr>\n",
       "      <th>11</th>\n",
       "      <td>gerald_aguocha</td>\n",
       "    </tr>\n",
       "    <tr>\n",
       "      <th>12</th>\n",
       "      <td>hubert_ovie_madise</td>\n",
       "    </tr>\n",
       "    <tr>\n",
       "      <th>13</th>\n",
       "      <td>juliet_ondisi</td>\n",
       "    </tr>\n",
       "    <tr>\n",
       "      <th>14</th>\n",
       "      <td>kelvin_mwaka</td>\n",
       "    </tr>\n",
       "    <tr>\n",
       "      <th>15</th>\n",
       "      <td>kenneth_mambo</td>\n",
       "    </tr>\n",
       "    <tr>\n",
       "      <th>16</th>\n",
       "      <td>mark_okaba</td>\n",
       "    </tr>\n",
       "    <tr>\n",
       "      <th>17</th>\n",
       "      <td>moses_bernard</td>\n",
       "    </tr>\n",
       "    <tr>\n",
       "      <th>18</th>\n",
       "      <td>motselisi_leketa</td>\n",
       "    </tr>\n",
       "    <tr>\n",
       "      <th>19</th>\n",
       "      <td>mugendi_muthimi</td>\n",
       "    </tr>\n",
       "    <tr>\n",
       "      <th>20</th>\n",
       "      <td>murhula_bienfait</td>\n",
       "    </tr>\n",
       "    <tr>\n",
       "      <th>21</th>\n",
       "      <td>naomi_frank_opigo</td>\n",
       "    </tr>\n",
       "    <tr>\n",
       "      <th>22</th>\n",
       "      <td>nkrumah_dubazana</td>\n",
       "    </tr>\n",
       "    <tr>\n",
       "      <th>23</th>\n",
       "      <td>nndweleni_sundani</td>\n",
       "    </tr>\n",
       "    <tr>\n",
       "      <th>24</th>\n",
       "      <td>oluwakayode_abubakre</td>\n",
       "    </tr>\n",
       "    <tr>\n",
       "      <th>25</th>\n",
       "      <td>omotola_bankole</td>\n",
       "    </tr>\n",
       "    <tr>\n",
       "      <th>26</th>\n",
       "      <td>percy_chukwudi</td>\n",
       "    </tr>\n",
       "    <tr>\n",
       "      <th>27</th>\n",
       "      <td>samuel_duah_boadi</td>\n",
       "    </tr>\n",
       "    <tr>\n",
       "      <th>28</th>\n",
       "      <td>samuel_sofela</td>\n",
       "    </tr>\n",
       "    <tr>\n",
       "      <th>29</th>\n",
       "      <td>sboniso_mjaja</td>\n",
       "    </tr>\n",
       "    <tr>\n",
       "      <th>30</th>\n",
       "      <td>timiebi_agunoweh</td>\n",
       "    </tr>\n",
       "    <tr>\n",
       "      <th>31</th>\n",
       "      <td>umutoni_gaelle</td>\n",
       "    </tr>\n",
       "    <tr>\n",
       "      <th>32</th>\n",
       "      <td>vitalis_masrinez</td>\n",
       "    </tr>\n",
       "    <tr>\n",
       "      <th>33</th>\n",
       "      <td>zablon_rioba</td>\n",
       "    </tr>\n",
       "  </tbody>\n",
       "</table>\n",
       "</div>"
      ],
      "text/plain": [
       "                 present\n",
       "0          abdullah_ajao\n",
       "1      abdullahi_adedayo\n",
       "2      abdulmalik_ismail\n",
       "3         adedeji_kayode\n",
       "4     annabella_blankson\n",
       "5       courtney_gallant\n",
       "6            cyril_ocloo\n",
       "7           derick_biney\n",
       "8      emmanuel_bamidele\n",
       "9           fuad_adebisi\n",
       "10        gberbie_derick\n",
       "11        gerald_aguocha\n",
       "12    hubert_ovie_madise\n",
       "13         juliet_ondisi\n",
       "14          kelvin_mwaka\n",
       "15         kenneth_mambo\n",
       "16            mark_okaba\n",
       "17         moses_bernard\n",
       "18      motselisi_leketa\n",
       "19       mugendi_muthimi\n",
       "20      murhula_bienfait\n",
       "21     naomi_frank_opigo\n",
       "22      nkrumah_dubazana\n",
       "23     nndweleni_sundani\n",
       "24  oluwakayode_abubakre\n",
       "25       omotola_bankole\n",
       "26        percy_chukwudi\n",
       "27     samuel_duah_boadi\n",
       "28         samuel_sofela\n",
       "29         sboniso_mjaja\n",
       "30      timiebi_agunoweh\n",
       "31        umutoni_gaelle\n",
       "32      vitalis_masrinez\n",
       "33          zablon_rioba"
      ]
     },
     "execution_count": 23,
     "metadata": {},
     "output_type": "execute_result"
    }
   ],
   "source": [
    "present"
   ]
  }
 ],
 "metadata": {
  "kernelspec": {
   "display_name": "Python 3",
   "language": "python",
   "name": "python3"
  },
  "language_info": {
   "codemirror_mode": {
    "name": "ipython",
    "version": 3
   },
   "file_extension": ".py",
   "mimetype": "text/x-python",
   "name": "python",
   "nbconvert_exporter": "python",
   "pygments_lexer": "ipython3",
   "version": "3.6.13"
  }
 },
 "nbformat": 4,
 "nbformat_minor": 5
}
