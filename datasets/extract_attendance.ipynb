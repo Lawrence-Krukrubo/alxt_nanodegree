{
 "cells": [
  {
   "cell_type": "code",
   "execution_count": 1,
   "id": "6f77bc71",
   "metadata": {},
   "outputs": [],
   "source": [
    "import pandas as pd\n",
    "import numpy as np\n",
    "import matplotlib.pyplot as plt\n",
    "import warnings\n",
    "warnings.filterwarnings(\"ignore\")\n",
    "from glob import glob\n",
    "import os"
   ]
  },
  {
   "cell_type": "markdown",
   "id": "42ac9b46",
   "metadata": {},
   "source": [
    "*Downloading session chats 1 and 2 from Github*"
   ]
  },
  {
   "cell_type": "code",
   "execution_count": null,
   "id": "d22be7f8",
   "metadata": {},
   "outputs": [],
   "source": [
    "!curl https://raw.githubusercontent.com/Lawrence-Krukrubo/GADS2020_Cloud_Practice_Project/master/meeting_saved_chat_jul18.txt -o chat_jul18.txt"
   ]
  },
  {
   "cell_type": "code",
   "execution_count": 2,
   "id": "889d3f3f",
   "metadata": {},
   "outputs": [
    {
     "data": {
      "text/plain": [
       "['4th_session_chat.txt',\n",
       " 'chat_jul11.txt',\n",
       " 'chat_jul18.txt',\n",
       " 'features.txt',\n",
       " 'jul4.txt',\n",
       " 'jul4merge.txt',\n",
       " 'jul4zoom.txt',\n",
       " 'june20.txt',\n",
       " 'june27.txt',\n",
       " 'meeting_13th_june.txt']"
      ]
     },
     "execution_count": 2,
     "metadata": {},
     "output_type": "execute_result"
    }
   ],
   "source": [
    "glob('*.txt')"
   ]
  },
  {
   "cell_type": "markdown",
   "id": "7f263418",
   "metadata": {},
   "source": [
    "Let's merge both text files into one"
   ]
  },
  {
   "cell_type": "code",
   "execution_count": null,
   "id": "4f691c22",
   "metadata": {},
   "outputs": [],
   "source": [
    "# files_ = [f for f in glob('[jul4]*') if f.startswith('jul4')]\n",
    "# files_"
   ]
  },
  {
   "cell_type": "code",
   "execution_count": null,
   "id": "cd4abc14",
   "metadata": {},
   "outputs": [],
   "source": [
    "# # Python program to\n",
    "# # demonstrate merging\n",
    "# # of two files\n",
    "  \n",
    "# data = data2 = \"\"\n",
    "  \n",
    "# # Reading data from file1\n",
    "# with open(files_[0], 'r', encoding='utf8') as fp:\n",
    "#     data = fp.read()\n",
    "\n",
    "# # Reading data from file2\n",
    "# with open(files_[1], 'r', encoding='utf8') as fp:\n",
    "#     data2 = fp.read()\n",
    "\n",
    "# # Merging 2 files\n",
    "# # To add the data of file2\n",
    "# # from next line\n",
    "# data += \"\\n\"\n",
    "# data += data2\n",
    "  \n",
    "# with open ('jul4merge.txt', 'w', encoding='utf8') as fp:\n",
    "#     fp.write(data)"
   ]
  },
  {
   "cell_type": "markdown",
   "id": "a3727bc1",
   "metadata": {},
   "source": [
    "*Before June 12th Revokation...*"
   ]
  },
  {
   "cell_type": "code",
   "execution_count": 3,
   "id": "b9ed6588",
   "metadata": {
    "scrolled": true
   },
   "outputs": [
    {
     "data": {
      "text/plain": [
       "(69, 3)"
      ]
     },
     "execution_count": 3,
     "metadata": {},
     "output_type": "execute_result"
    }
   ],
   "source": [
    "df = pd.read_csv('17may_69_students.csv')\n",
    "df.shape"
   ]
  },
  {
   "cell_type": "code",
   "execution_count": 4,
   "id": "31529476",
   "metadata": {},
   "outputs": [
    {
     "name": "stdout",
     "output_type": "stream",
     "text": [
      "<class 'pandas.core.frame.DataFrame'>\n",
      "RangeIndex: 69 entries, 0 to 68\n",
      "Data columns (total 3 columns):\n",
      " #   Column      Non-Null Count  Dtype \n",
      "---  ------      --------------  ----- \n",
      " 0   Email       69 non-null     object\n",
      " 1   First Name  69 non-null     object\n",
      " 2   Last Name   69 non-null     object\n",
      "dtypes: object(3)\n",
      "memory usage: 1.7+ KB\n"
     ]
    }
   ],
   "source": [
    "df.info()"
   ]
  },
  {
   "cell_type": "markdown",
   "id": "b60e3d1c",
   "metadata": {},
   "source": [
    "*After June 12th Revokation...*"
   ]
  },
  {
   "cell_type": "code",
   "execution_count": 5,
   "id": "5bf60e30",
   "metadata": {},
   "outputs": [
    {
     "data": {
      "text/plain": [
       "(54, 3)"
      ]
     },
     "execution_count": 5,
     "metadata": {},
     "output_type": "execute_result"
    }
   ],
   "source": [
    "df = pd.read_csv('session-4356-report-7_12_2022.csv').loc[:,['First Name', 'Last Name', 'Email']]\n",
    "df.shape"
   ]
  },
  {
   "cell_type": "code",
   "execution_count": 6,
   "id": "484985fa",
   "metadata": {},
   "outputs": [
    {
     "name": "stdout",
     "output_type": "stream",
     "text": [
      "<class 'pandas.core.frame.DataFrame'>\n",
      "RangeIndex: 54 entries, 0 to 53\n",
      "Data columns (total 3 columns):\n",
      " #   Column      Non-Null Count  Dtype \n",
      "---  ------      --------------  ----- \n",
      " 0   First Name  54 non-null     object\n",
      " 1   Last Name   54 non-null     object\n",
      " 2   Email       54 non-null     object\n",
      "dtypes: object(3)\n",
      "memory usage: 1.4+ KB\n"
     ]
    }
   ],
   "source": [
    "df.info()"
   ]
  },
  {
   "cell_type": "code",
   "execution_count": 7,
   "id": "5185e9b2",
   "metadata": {},
   "outputs": [],
   "source": [
    "for col in ['First Name', 'Last Name']:\n",
    "    df[col] = df[col].apply(lambda x: x.lower().replace('_', ' ').replace('-', ' '))"
   ]
  },
  {
   "cell_type": "code",
   "execution_count": 9,
   "id": "ce6eb233",
   "metadata": {},
   "outputs": [
    {
     "data": {
      "text/html": [
       "<div>\n",
       "<style scoped>\n",
       "    .dataframe tbody tr th:only-of-type {\n",
       "        vertical-align: middle;\n",
       "    }\n",
       "\n",
       "    .dataframe tbody tr th {\n",
       "        vertical-align: top;\n",
       "    }\n",
       "\n",
       "    .dataframe thead th {\n",
       "        text-align: right;\n",
       "    }\n",
       "</style>\n",
       "<table border=\"1\" class=\"dataframe\">\n",
       "  <thead>\n",
       "    <tr style=\"text-align: right;\">\n",
       "      <th></th>\n",
       "      <th>First Name</th>\n",
       "      <th>Last Name</th>\n",
       "    </tr>\n",
       "  </thead>\n",
       "  <tbody>\n",
       "    <tr>\n",
       "      <th>0</th>\n",
       "      <td>kelvin</td>\n",
       "      <td>mwaka</td>\n",
       "    </tr>\n",
       "    <tr>\n",
       "      <th>1</th>\n",
       "      <td>etuonu</td>\n",
       "      <td>david</td>\n",
       "    </tr>\n",
       "    <tr>\n",
       "      <th>2</th>\n",
       "      <td>emmanuel</td>\n",
       "      <td>otiti</td>\n",
       "    </tr>\n",
       "  </tbody>\n",
       "</table>\n",
       "</div>"
      ],
      "text/plain": [
       "  First Name Last Name\n",
       "0     kelvin     mwaka\n",
       "1     etuonu     david\n",
       "2   emmanuel     otiti"
      ]
     },
     "execution_count": 9,
     "metadata": {},
     "output_type": "execute_result"
    }
   ],
   "source": [
    "df[['First Name', 'Last Name']].head(3)"
   ]
  },
  {
   "cell_type": "code",
   "execution_count": 10,
   "id": "48e86aed",
   "metadata": {},
   "outputs": [],
   "source": [
    "all_names = list(df['First Name']) + list(df['Last Name'])"
   ]
  },
  {
   "cell_type": "markdown",
   "id": "4eb09fac",
   "metadata": {},
   "source": [
    "*Read in the Connect Session Chats for the last session*"
   ]
  },
  {
   "cell_type": "code",
   "execution_count": 11,
   "id": "ae0c2499",
   "metadata": {},
   "outputs": [],
   "source": [
    "chats = 'chat_jul18.txt'\n",
    "with open(chats, 'r') as fyle:\n",
    "    lines = fyle.readlines()"
   ]
  },
  {
   "cell_type": "markdown",
   "id": "52ebd734",
   "metadata": {},
   "source": [
    "*Making the read-out texts a dataframe to easily clean all rows...*"
   ]
  },
  {
   "cell_type": "code",
   "execution_count": 12,
   "id": "f4f70561",
   "metadata": {},
   "outputs": [],
   "source": [
    "def make_df(texts, col='strings'):\n",
    "    dd = pd.DataFrame(texts, columns=[col])\n",
    "    return dd"
   ]
  },
  {
   "cell_type": "code",
   "execution_count": 13,
   "id": "84470083",
   "metadata": {
    "scrolled": false
   },
   "outputs": [
    {
     "data": {
      "text/html": [
       "<div>\n",
       "<style scoped>\n",
       "    .dataframe tbody tr th:only-of-type {\n",
       "        vertical-align: middle;\n",
       "    }\n",
       "\n",
       "    .dataframe tbody tr th {\n",
       "        vertical-align: top;\n",
       "    }\n",
       "\n",
       "    .dataframe thead th {\n",
       "        text-align: right;\n",
       "    }\n",
       "</style>\n",
       "<table border=\"1\" class=\"dataframe\">\n",
       "  <thead>\n",
       "    <tr style=\"text-align: right;\">\n",
       "      <th></th>\n",
       "      <th>strings</th>\n",
       "    </tr>\n",
       "  </thead>\n",
       "  <tbody>\n",
       "    <tr>\n",
       "      <th>0</th>\n",
       "      <td>19:00:56 From  Nkrumah Dubazana  to  Everyone:\\n</td>\n",
       "    </tr>\n",
       "    <tr>\n",
       "      <th>1</th>\n",
       "      <td>\\tNkrumah Dubazana\\n</td>\n",
       "    </tr>\n",
       "    <tr>\n",
       "      <th>2</th>\n",
       "      <td>19:03:00 From  Abdulmalik Ismail  to  Everyone:\\n</td>\n",
       "    </tr>\n",
       "    <tr>\n",
       "      <th>3</th>\n",
       "      <td>\\tAbdulmalik Ismail\\n</td>\n",
       "    </tr>\n",
       "    <tr>\n",
       "      <th>4</th>\n",
       "      <td>19:03:03 From  biney derick  to  Everyone:\\n</td>\n",
       "    </tr>\n",
       "  </tbody>\n",
       "</table>\n",
       "</div>"
      ],
      "text/plain": [
       "                                             strings\n",
       "0   19:00:56 From  Nkrumah Dubazana  to  Everyone:\\n\n",
       "1                               \\tNkrumah Dubazana\\n\n",
       "2  19:03:00 From  Abdulmalik Ismail  to  Everyone:\\n\n",
       "3                              \\tAbdulmalik Ismail\\n\n",
       "4       19:03:03 From  biney derick  to  Everyone:\\n"
      ]
     },
     "execution_count": 13,
     "metadata": {},
     "output_type": "execute_result"
    }
   ],
   "source": [
    "dd = make_df(lines)\n",
    "dd.head()"
   ]
  },
  {
   "cell_type": "markdown",
   "id": "f1397bbe",
   "metadata": {},
   "source": [
    "Next, we clean the cols, convert each row to a list, explode the list and return a set of unique words"
   ]
  },
  {
   "cell_type": "code",
   "execution_count": 14,
   "id": "52d30d08",
   "metadata": {},
   "outputs": [],
   "source": [
    "# First, we define a regex pattern for keeping only alphabets\n",
    "\n",
    "import re\n",
    "rgex = re.compile('[^a-zA-Z]')"
   ]
  },
  {
   "cell_type": "code",
   "execution_count": 15,
   "id": "4a5b4713",
   "metadata": {},
   "outputs": [],
   "source": [
    "def clean_lists_explode(df, col):\n",
    "    # first clean all non-alphabetic characters\n",
    "    df[col] = df[col].apply(lambda x: rgex.sub(' ', x).lower().strip())\n",
    "    \n",
    "    # Next split each row to a list\n",
    "    df[col] = df[col].str.split(' ')\n",
    "    \n",
    "    # Next we explode the column of lists\n",
    "    exploded = df.explode(col)[col]\n",
    "    \n",
    "    # next we keep a set of unique values\n",
    "    exploded = set(exploded)\n",
    "    \n",
    "    print('Column Cleaned, Listed, Exploded!')\n",
    "    \n",
    "    # Finally, return a list of exploded values\n",
    "    return list(exploded)"
   ]
  },
  {
   "cell_type": "code",
   "execution_count": 16,
   "id": "34b72e47",
   "metadata": {},
   "outputs": [
    {
     "data": {
      "text/html": [
       "<div>\n",
       "<style scoped>\n",
       "    .dataframe tbody tr th:only-of-type {\n",
       "        vertical-align: middle;\n",
       "    }\n",
       "\n",
       "    .dataframe tbody tr th {\n",
       "        vertical-align: top;\n",
       "    }\n",
       "\n",
       "    .dataframe thead th {\n",
       "        text-align: right;\n",
       "    }\n",
       "</style>\n",
       "<table border=\"1\" class=\"dataframe\">\n",
       "  <thead>\n",
       "    <tr style=\"text-align: right;\">\n",
       "      <th></th>\n",
       "      <th>names</th>\n",
       "    </tr>\n",
       "  </thead>\n",
       "  <tbody>\n",
       "    <tr>\n",
       "      <th>0</th>\n",
       "      <td>kelvin</td>\n",
       "    </tr>\n",
       "    <tr>\n",
       "      <th>1</th>\n",
       "      <td>etuonu</td>\n",
       "    </tr>\n",
       "    <tr>\n",
       "      <th>2</th>\n",
       "      <td>emmanuel</td>\n",
       "    </tr>\n",
       "  </tbody>\n",
       "</table>\n",
       "</div>"
      ],
      "text/plain": [
       "      names\n",
       "0    kelvin\n",
       "1    etuonu\n",
       "2  emmanuel"
      ]
     },
     "execution_count": 16,
     "metadata": {},
     "output_type": "execute_result"
    }
   ],
   "source": [
    "names_df = pd.DataFrame(all_names, columns=['names'])\n",
    "names_df.head(3)"
   ]
  },
  {
   "cell_type": "markdown",
   "id": "d1191193",
   "metadata": {},
   "source": [
    "*Now, we explode the chats dataframe..*"
   ]
  },
  {
   "cell_type": "code",
   "execution_count": 17,
   "id": "b17d360a",
   "metadata": {},
   "outputs": [
    {
     "name": "stdout",
     "output_type": "stream",
     "text": [
      "Column Cleaned, Listed, Exploded!\n"
     ]
    }
   ],
   "source": [
    "exploded1 = clean_lists_explode(dd, 'strings')"
   ]
  },
  {
   "cell_type": "code",
   "execution_count": 18,
   "id": "28717f63",
   "metadata": {},
   "outputs": [
    {
     "data": {
      "text/plain": [
       "133"
      ]
     },
     "execution_count": 18,
     "metadata": {},
     "output_type": "execute_result"
    }
   ],
   "source": [
    "len(exploded1)"
   ]
  },
  {
   "cell_type": "markdown",
   "id": "1a4982e2",
   "metadata": {},
   "source": [
    "*Now, we explode the all names dataframe..*"
   ]
  },
  {
   "cell_type": "code",
   "execution_count": 19,
   "id": "b4eabcdf",
   "metadata": {},
   "outputs": [
    {
     "name": "stdout",
     "output_type": "stream",
     "text": [
      "Column Cleaned, Listed, Exploded!\n"
     ]
    }
   ],
   "source": [
    "exploded2 = clean_lists_explode(names_df, 'names')"
   ]
  },
  {
   "cell_type": "code",
   "execution_count": 20,
   "id": "bd350295",
   "metadata": {},
   "outputs": [
    {
     "data": {
      "text/plain": [
       "111"
      ]
     },
     "execution_count": 20,
     "metadata": {},
     "output_type": "execute_result"
    }
   ],
   "source": [
    "len(exploded2)"
   ]
  },
  {
   "cell_type": "markdown",
   "id": "318ccb0f",
   "metadata": {},
   "source": [
    "Let's now keep only common words in both exploded and all_names..."
   ]
  },
  {
   "cell_type": "code",
   "execution_count": 21,
   "id": "48342201",
   "metadata": {},
   "outputs": [
    {
     "name": "stdout",
     "output_type": "stream",
     "text": [
      "len commons: 59\n"
     ]
    }
   ],
   "source": [
    "commons = list(set(exploded1).intersection(set(exploded2)))\n",
    "print(f'len commons: {len(commons)}')"
   ]
  },
  {
   "cell_type": "code",
   "execution_count": 22,
   "id": "08958bd7",
   "metadata": {},
   "outputs": [],
   "source": [
    "def find_present(commons, all_names=all_names, df=df):\n",
    "    ddf = pd.DataFrame([], columns=['present'])\n",
    "    \n",
    "    for name in commons:\n",
    "        long_name = [i for i in all_names if name in i][0]\n",
    "        if long_name:\n",
    "            try:\n",
    "                q = f'`First Name` == \"{long_name}\"'\n",
    "                tmp = df.query(q)[['First Name', 'Last Name']].values\n",
    "                assert len(tmp) > 0\n",
    "            except AssertionError:\n",
    "                q = f'`Last Name` == \"{long_name}\"'\n",
    "                tmp = df.query(q)[['First Name', 'Last Name']].values\n",
    "        \n",
    "            name_ = ['_'.join(i) for i in tmp][0]\n",
    "            ddf = ddf.append({'present':name_}, ignore_index=True)\n",
    "            \n",
    "    # drop Duplicates\n",
    "    ddf.drop_duplicates(inplace=True)\n",
    "    \n",
    "    # sort names alphabetically\n",
    "    ddf.sort_values(by='present', inplace=True)\n",
    "    \n",
    "    # reset_index\n",
    "    ddf.index = range(len(ddf))\n",
    "    \n",
    "    # replace empty space with underscore\n",
    "    ddf.present = ddf.present.apply(lambda x: x.replace(' ','_').strip())\n",
    "    \n",
    "    return ddf"
   ]
  },
  {
   "cell_type": "code",
   "execution_count": 23,
   "id": "b1485464",
   "metadata": {
    "scrolled": true
   },
   "outputs": [],
   "source": [
    "present = find_present(commons)"
   ]
  },
  {
   "cell_type": "code",
   "execution_count": 24,
   "id": "a2fba5e0",
   "metadata": {},
   "outputs": [
    {
     "name": "stdout",
     "output_type": "stream",
     "text": [
      "total present: 29\n"
     ]
    }
   ],
   "source": [
    "print(f'total present: {len(present)}')"
   ]
  },
  {
   "cell_type": "code",
   "execution_count": 25,
   "id": "84e75a13",
   "metadata": {
    "scrolled": true
   },
   "outputs": [
    {
     "data": {
      "text/html": [
       "<div>\n",
       "<style scoped>\n",
       "    .dataframe tbody tr th:only-of-type {\n",
       "        vertical-align: middle;\n",
       "    }\n",
       "\n",
       "    .dataframe tbody tr th {\n",
       "        vertical-align: top;\n",
       "    }\n",
       "\n",
       "    .dataframe thead th {\n",
       "        text-align: right;\n",
       "    }\n",
       "</style>\n",
       "<table border=\"1\" class=\"dataframe\">\n",
       "  <thead>\n",
       "    <tr style=\"text-align: right;\">\n",
       "      <th></th>\n",
       "      <th>present</th>\n",
       "    </tr>\n",
       "  </thead>\n",
       "  <tbody>\n",
       "    <tr>\n",
       "      <th>0</th>\n",
       "      <td>abdulmalik_ismail</td>\n",
       "    </tr>\n",
       "    <tr>\n",
       "      <th>1</th>\n",
       "      <td>adedeji_kayode</td>\n",
       "    </tr>\n",
       "    <tr>\n",
       "      <th>2</th>\n",
       "      <td>ajirotutu_lukmon</td>\n",
       "    </tr>\n",
       "    <tr>\n",
       "      <th>3</th>\n",
       "      <td>benjamin_onyenekwe</td>\n",
       "    </tr>\n",
       "    <tr>\n",
       "      <th>4</th>\n",
       "      <td>chimezie_ogbuu</td>\n",
       "    </tr>\n",
       "    <tr>\n",
       "      <th>5</th>\n",
       "      <td>cyril_ocloo</td>\n",
       "    </tr>\n",
       "    <tr>\n",
       "      <th>6</th>\n",
       "      <td>derick_biney</td>\n",
       "    </tr>\n",
       "    <tr>\n",
       "      <th>7</th>\n",
       "      <td>emmanuel_bamidele</td>\n",
       "    </tr>\n",
       "    <tr>\n",
       "      <th>8</th>\n",
       "      <td>emmanuel_otiti</td>\n",
       "    </tr>\n",
       "    <tr>\n",
       "      <th>9</th>\n",
       "      <td>gberbie_derick_tsatsu</td>\n",
       "    </tr>\n",
       "    <tr>\n",
       "      <th>10</th>\n",
       "      <td>gerald_aguocha</td>\n",
       "    </tr>\n",
       "    <tr>\n",
       "      <th>11</th>\n",
       "      <td>hubert_ovie_madise</td>\n",
       "    </tr>\n",
       "    <tr>\n",
       "      <th>12</th>\n",
       "      <td>jane_mutende</td>\n",
       "    </tr>\n",
       "    <tr>\n",
       "      <th>13</th>\n",
       "      <td>joseph_kossi_dessouassi</td>\n",
       "    </tr>\n",
       "    <tr>\n",
       "      <th>14</th>\n",
       "      <td>joshua_nyajuaya</td>\n",
       "    </tr>\n",
       "    <tr>\n",
       "      <th>15</th>\n",
       "      <td>kelvin_mwaka</td>\n",
       "    </tr>\n",
       "    <tr>\n",
       "      <th>16</th>\n",
       "      <td>kenneth_mambo</td>\n",
       "    </tr>\n",
       "    <tr>\n",
       "      <th>17</th>\n",
       "      <td>mark_okaba</td>\n",
       "    </tr>\n",
       "    <tr>\n",
       "      <th>18</th>\n",
       "      <td>moses_bernard</td>\n",
       "    </tr>\n",
       "    <tr>\n",
       "      <th>19</th>\n",
       "      <td>motselisi_leketa</td>\n",
       "    </tr>\n",
       "    <tr>\n",
       "      <th>20</th>\n",
       "      <td>murhula_bienfait</td>\n",
       "    </tr>\n",
       "    <tr>\n",
       "      <th>21</th>\n",
       "      <td>naomi_frank_opigo</td>\n",
       "    </tr>\n",
       "    <tr>\n",
       "      <th>22</th>\n",
       "      <td>nkrumah_dubazana</td>\n",
       "    </tr>\n",
       "    <tr>\n",
       "      <th>23</th>\n",
       "      <td>nndweleni_sundani</td>\n",
       "    </tr>\n",
       "    <tr>\n",
       "      <th>24</th>\n",
       "      <td>oluwakayode_abubakre</td>\n",
       "    </tr>\n",
       "    <tr>\n",
       "      <th>25</th>\n",
       "      <td>omotola_bankole</td>\n",
       "    </tr>\n",
       "    <tr>\n",
       "      <th>26</th>\n",
       "      <td>samuel_duah_boadi</td>\n",
       "    </tr>\n",
       "    <tr>\n",
       "      <th>27</th>\n",
       "      <td>timiebi_agunoweh</td>\n",
       "    </tr>\n",
       "    <tr>\n",
       "      <th>28</th>\n",
       "      <td>zablon_rioba</td>\n",
       "    </tr>\n",
       "  </tbody>\n",
       "</table>\n",
       "</div>"
      ],
      "text/plain": [
       "                    present\n",
       "0         abdulmalik_ismail\n",
       "1            adedeji_kayode\n",
       "2          ajirotutu_lukmon\n",
       "3        benjamin_onyenekwe\n",
       "4            chimezie_ogbuu\n",
       "5               cyril_ocloo\n",
       "6              derick_biney\n",
       "7         emmanuel_bamidele\n",
       "8            emmanuel_otiti\n",
       "9     gberbie_derick_tsatsu\n",
       "10           gerald_aguocha\n",
       "11       hubert_ovie_madise\n",
       "12             jane_mutende\n",
       "13  joseph_kossi_dessouassi\n",
       "14          joshua_nyajuaya\n",
       "15             kelvin_mwaka\n",
       "16            kenneth_mambo\n",
       "17               mark_okaba\n",
       "18            moses_bernard\n",
       "19         motselisi_leketa\n",
       "20         murhula_bienfait\n",
       "21        naomi_frank_opigo\n",
       "22         nkrumah_dubazana\n",
       "23        nndweleni_sundani\n",
       "24     oluwakayode_abubakre\n",
       "25          omotola_bankole\n",
       "26        samuel_duah_boadi\n",
       "27         timiebi_agunoweh\n",
       "28             zablon_rioba"
      ]
     },
     "execution_count": 25,
     "metadata": {},
     "output_type": "execute_result"
    }
   ],
   "source": [
    "present"
   ]
  }
 ],
 "metadata": {
  "kernelspec": {
   "display_name": "Python 3 (ipykernel)",
   "language": "python",
   "name": "python3"
  },
  "language_info": {
   "codemirror_mode": {
    "name": "ipython",
    "version": 3
   },
   "file_extension": ".py",
   "mimetype": "text/x-python",
   "name": "python",
   "nbconvert_exporter": "python",
   "pygments_lexer": "ipython3",
   "version": "3.8.5"
  }
 },
 "nbformat": 4,
 "nbformat_minor": 5
}
