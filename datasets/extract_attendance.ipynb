{
 "cells": [
  {
   "cell_type": "code",
   "execution_count": 1,
   "id": "6f77bc71",
   "metadata": {},
   "outputs": [
    {
     "name": "stdout",
     "output_type": "stream",
     "text": [
      "done\n"
     ]
    }
   ],
   "source": [
    "import pandas as pd\n",
    "import numpy as np\n",
    "import matplotlib.pyplot as plt\n",
    "import warnings\n",
    "warnings.filterwarnings(\"ignore\")\n",
    "from glob import glob\n",
    "import os\n",
    "print('done')"
   ]
  },
  {
   "cell_type": "markdown",
   "id": "42ac9b46",
   "metadata": {},
   "source": [
    "*Downloading session chats 1 and 2 from Github*"
   ]
  },
  {
   "cell_type": "code",
   "execution_count": 1,
   "id": "889d3f3f",
   "metadata": {},
   "outputs": [
    {
     "ename": "NameError",
     "evalue": "name 'glob' is not defined",
     "output_type": "error",
     "traceback": [
      "\u001b[1;31m---------------------------------------------------------------------------\u001b[0m",
      "\u001b[1;31mNameError\u001b[0m                                 Traceback (most recent call last)",
      "Input \u001b[1;32mIn [1]\u001b[0m, in \u001b[0;36m<cell line: 1>\u001b[1;34m()\u001b[0m\n\u001b[1;32m----> 1\u001b[0m \u001b[43mglob\u001b[49m(\u001b[38;5;124m'\u001b[39m\u001b[38;5;124m*.txt\u001b[39m\u001b[38;5;124m'\u001b[39m)\n",
      "\u001b[1;31mNameError\u001b[0m: name 'glob' is not defined"
     ]
    }
   ],
   "source": [
    "glob('*.txt')"
   ]
  },
  {
   "cell_type": "markdown",
   "id": "eccde8e6",
   "metadata": {},
   "source": [
    "save the last session chat..."
   ]
  },
  {
   "cell_type": "code",
   "execution_count": 4,
   "id": "a82d441e",
   "metadata": {},
   "outputs": [],
   "source": [
    "chats = 'chat_Aug15.txt'"
   ]
  },
  {
   "cell_type": "code",
   "execution_count": 5,
   "id": "4f691c22",
   "metadata": {},
   "outputs": [],
   "source": [
    "# Let's merge both text files into one\n",
    "\n",
    "# files_ = [f for f in glob('[jul4]*') if f.startswith('jul4')]\n",
    "# files_"
   ]
  },
  {
   "cell_type": "code",
   "execution_count": 6,
   "id": "cd4abc14",
   "metadata": {},
   "outputs": [],
   "source": [
    "# # Python program to\n",
    "# # demonstrate merging\n",
    "# # of two files\n",
    "  \n",
    "# data = data2 = \"\"\n",
    "  \n",
    "# # Reading data from file1\n",
    "# with open(files_[0], 'r', encoding='utf8') as fp:\n",
    "#     data = fp.read()\n",
    "\n",
    "# # Reading data from file2\n",
    "# with open(files_[1], 'r', encoding='utf8') as fp:\n",
    "#     data2 = fp.read()\n",
    "\n",
    "# # Merging 2 files\n",
    "# # To add the data of file2\n",
    "# # from next line\n",
    "# data += \"\\n\"\n",
    "# data += data2\n",
    "  \n",
    "# with open ('jul4merge.txt', 'w', encoding='utf8') as fp:\n",
    "#     fp.write(data)"
   ]
  },
  {
   "cell_type": "markdown",
   "id": "a3727bc1",
   "metadata": {},
   "source": [
    "*Before June 12th Revokation...*"
   ]
  },
  {
   "cell_type": "code",
   "execution_count": 7,
   "id": "b9ed6588",
   "metadata": {
    "scrolled": true
   },
   "outputs": [
    {
     "data": {
      "text/plain": [
       "(69, 3)"
      ]
     },
     "execution_count": 7,
     "metadata": {},
     "output_type": "execute_result"
    }
   ],
   "source": [
    "df = pd.read_csv('17may_69_students.csv')\n",
    "df.shape"
   ]
  },
  {
   "cell_type": "code",
   "execution_count": 8,
   "id": "31529476",
   "metadata": {},
   "outputs": [
    {
     "name": "stdout",
     "output_type": "stream",
     "text": [
      "<class 'pandas.core.frame.DataFrame'>\n",
      "RangeIndex: 69 entries, 0 to 68\n",
      "Data columns (total 3 columns):\n",
      " #   Column      Non-Null Count  Dtype \n",
      "---  ------      --------------  ----- \n",
      " 0   Email       69 non-null     object\n",
      " 1   First Name  69 non-null     object\n",
      " 2   Last Name   69 non-null     object\n",
      "dtypes: object(3)\n",
      "memory usage: 1.7+ KB\n"
     ]
    }
   ],
   "source": [
    "df.info()"
   ]
  },
  {
   "cell_type": "markdown",
   "id": "b60e3d1c",
   "metadata": {},
   "source": [
    "*After June 12th Revokation...*"
   ]
  },
  {
   "cell_type": "code",
   "execution_count": 9,
   "id": "5bf60e30",
   "metadata": {},
   "outputs": [
    {
     "data": {
      "text/plain": [
       "(54, 3)"
      ]
     },
     "execution_count": 9,
     "metadata": {},
     "output_type": "execute_result"
    }
   ],
   "source": [
    "df = pd.read_csv('session-4356-report-7_12_2022.csv').loc[:,['First Name', 'Last Name', 'Email']]\n",
    "df.shape"
   ]
  },
  {
   "cell_type": "code",
   "execution_count": 10,
   "id": "484985fa",
   "metadata": {},
   "outputs": [
    {
     "name": "stdout",
     "output_type": "stream",
     "text": [
      "<class 'pandas.core.frame.DataFrame'>\n",
      "RangeIndex: 54 entries, 0 to 53\n",
      "Data columns (total 3 columns):\n",
      " #   Column      Non-Null Count  Dtype \n",
      "---  ------      --------------  ----- \n",
      " 0   First Name  54 non-null     object\n",
      " 1   Last Name   54 non-null     object\n",
      " 2   Email       54 non-null     object\n",
      "dtypes: object(3)\n",
      "memory usage: 1.4+ KB\n"
     ]
    }
   ],
   "source": [
    "df.info()"
   ]
  },
  {
   "cell_type": "code",
   "execution_count": 11,
   "id": "5185e9b2",
   "metadata": {},
   "outputs": [],
   "source": [
    "for col in ['First Name', 'Last Name']:\n",
    "    df[col] = df[col].apply(lambda x: x.lower().replace('_', ' ').replace('-', ' '))"
   ]
  },
  {
   "cell_type": "code",
   "execution_count": 12,
   "id": "ce6eb233",
   "metadata": {},
   "outputs": [
    {
     "data": {
      "text/html": [
       "<div>\n",
       "<style scoped>\n",
       "    .dataframe tbody tr th:only-of-type {\n",
       "        vertical-align: middle;\n",
       "    }\n",
       "\n",
       "    .dataframe tbody tr th {\n",
       "        vertical-align: top;\n",
       "    }\n",
       "\n",
       "    .dataframe thead th {\n",
       "        text-align: right;\n",
       "    }\n",
       "</style>\n",
       "<table border=\"1\" class=\"dataframe\">\n",
       "  <thead>\n",
       "    <tr style=\"text-align: right;\">\n",
       "      <th></th>\n",
       "      <th>First Name</th>\n",
       "      <th>Last Name</th>\n",
       "    </tr>\n",
       "  </thead>\n",
       "  <tbody>\n",
       "    <tr>\n",
       "      <th>0</th>\n",
       "      <td>kelvin</td>\n",
       "      <td>mwaka</td>\n",
       "    </tr>\n",
       "    <tr>\n",
       "      <th>1</th>\n",
       "      <td>etuonu</td>\n",
       "      <td>david</td>\n",
       "    </tr>\n",
       "    <tr>\n",
       "      <th>2</th>\n",
       "      <td>emmanuel</td>\n",
       "      <td>otiti</td>\n",
       "    </tr>\n",
       "  </tbody>\n",
       "</table>\n",
       "</div>"
      ],
      "text/plain": [
       "  First Name Last Name\n",
       "0     kelvin     mwaka\n",
       "1     etuonu     david\n",
       "2   emmanuel     otiti"
      ]
     },
     "execution_count": 12,
     "metadata": {},
     "output_type": "execute_result"
    }
   ],
   "source": [
    "df[['First Name', 'Last Name']].head(3)"
   ]
  },
  {
   "cell_type": "code",
   "execution_count": 13,
   "id": "48e86aed",
   "metadata": {},
   "outputs": [],
   "source": [
    "all_names = list(df['First Name']) + list(df['Last Name'])"
   ]
  },
  {
   "cell_type": "markdown",
   "id": "4eb09fac",
   "metadata": {},
   "source": [
    "*Read in the Connect Session Chats for the last session*"
   ]
  },
  {
   "cell_type": "code",
   "execution_count": 14,
   "id": "ae0c2499",
   "metadata": {},
   "outputs": [],
   "source": [
    "with open(chats, 'r') as fyle:\n",
    "    lines = fyle.readlines()"
   ]
  },
  {
   "cell_type": "markdown",
   "id": "52ebd734",
   "metadata": {},
   "source": [
    "*Making the read-out texts a dataframe to easily clean all rows...*"
   ]
  },
  {
   "cell_type": "code",
   "execution_count": 15,
   "id": "f4f70561",
   "metadata": {},
   "outputs": [],
   "source": [
    "def make_df(texts, col='strings'):\n",
    "    dd = pd.DataFrame(texts, columns=[col])\n",
    "    return dd"
   ]
  },
  {
   "cell_type": "code",
   "execution_count": 16,
   "id": "84470083",
   "metadata": {
    "scrolled": false
   },
   "outputs": [
    {
     "data": {
      "text/html": [
       "<div>\n",
       "<style scoped>\n",
       "    .dataframe tbody tr th:only-of-type {\n",
       "        vertical-align: middle;\n",
       "    }\n",
       "\n",
       "    .dataframe tbody tr th {\n",
       "        vertical-align: top;\n",
       "    }\n",
       "\n",
       "    .dataframe thead th {\n",
       "        text-align: right;\n",
       "    }\n",
       "</style>\n",
       "<table border=\"1\" class=\"dataframe\">\n",
       "  <thead>\n",
       "    <tr style=\"text-align: right;\">\n",
       "      <th></th>\n",
       "      <th>strings</th>\n",
       "    </tr>\n",
       "  </thead>\n",
       "  <tbody>\n",
       "    <tr>\n",
       "      <th>0</th>\n",
       "      <td>19:09:02 From  Nndweleni Sundani  to  Everyone:\\n</td>\n",
       "    </tr>\n",
       "    <tr>\n",
       "      <th>1</th>\n",
       "      <td>\\tNndweleni Sundani\\n</td>\n",
       "    </tr>\n",
       "    <tr>\n",
       "      <th>2</th>\n",
       "      <td>19:09:19 From  Naomi Frank-Opigo  to  Everyone:\\n</td>\n",
       "    </tr>\n",
       "    <tr>\n",
       "      <th>3</th>\n",
       "      <td>\\tNaomi Ayibaemi Frank-Opigo\\n</td>\n",
       "    </tr>\n",
       "    <tr>\n",
       "      <th>4</th>\n",
       "      <td>19:10:29 From  Lawrence Krukrubo  to  Everyone:\\n</td>\n",
       "    </tr>\n",
       "  </tbody>\n",
       "</table>\n",
       "</div>"
      ],
      "text/plain": [
       "                                             strings\n",
       "0  19:09:02 From  Nndweleni Sundani  to  Everyone:\\n\n",
       "1                              \\tNndweleni Sundani\\n\n",
       "2  19:09:19 From  Naomi Frank-Opigo  to  Everyone:\\n\n",
       "3                     \\tNaomi Ayibaemi Frank-Opigo\\n\n",
       "4  19:10:29 From  Lawrence Krukrubo  to  Everyone:\\n"
      ]
     },
     "execution_count": 16,
     "metadata": {},
     "output_type": "execute_result"
    }
   ],
   "source": [
    "dd = make_df(lines)\n",
    "dd.head()"
   ]
  },
  {
   "cell_type": "markdown",
   "id": "f1397bbe",
   "metadata": {},
   "source": [
    "Next, we clean the cols, convert each row to a list, explode the list and return a set of unique words"
   ]
  },
  {
   "cell_type": "code",
   "execution_count": 17,
   "id": "52d30d08",
   "metadata": {},
   "outputs": [],
   "source": [
    "# First, we define a regex pattern for keeping only alphabets\n",
    "\n",
    "import re\n",
    "rgex = re.compile('[^a-zA-Z]')"
   ]
  },
  {
   "cell_type": "code",
   "execution_count": 18,
   "id": "4a5b4713",
   "metadata": {},
   "outputs": [],
   "source": [
    "def clean_lists_explode(df, col):\n",
    "    # first clean all non-alphabetic characters\n",
    "    df[col] = df[col].apply(lambda x: rgex.sub(' ', x).lower().strip())\n",
    "    \n",
    "    # Next split each row to a list\n",
    "    df[col] = df[col].str.split(' ')\n",
    "    \n",
    "    # Next we explode the column of lists\n",
    "    exploded = df.explode(col)[col]\n",
    "    \n",
    "    # next we keep a set of unique values\n",
    "    exploded = set(exploded)\n",
    "    \n",
    "    print('Column Cleaned, Listed, Exploded!')\n",
    "    \n",
    "    # Finally, return a list of exploded values\n",
    "    return list(exploded)"
   ]
  },
  {
   "cell_type": "code",
   "execution_count": 19,
   "id": "34b72e47",
   "metadata": {},
   "outputs": [
    {
     "data": {
      "text/html": [
       "<div>\n",
       "<style scoped>\n",
       "    .dataframe tbody tr th:only-of-type {\n",
       "        vertical-align: middle;\n",
       "    }\n",
       "\n",
       "    .dataframe tbody tr th {\n",
       "        vertical-align: top;\n",
       "    }\n",
       "\n",
       "    .dataframe thead th {\n",
       "        text-align: right;\n",
       "    }\n",
       "</style>\n",
       "<table border=\"1\" class=\"dataframe\">\n",
       "  <thead>\n",
       "    <tr style=\"text-align: right;\">\n",
       "      <th></th>\n",
       "      <th>names</th>\n",
       "    </tr>\n",
       "  </thead>\n",
       "  <tbody>\n",
       "    <tr>\n",
       "      <th>0</th>\n",
       "      <td>kelvin</td>\n",
       "    </tr>\n",
       "    <tr>\n",
       "      <th>1</th>\n",
       "      <td>etuonu</td>\n",
       "    </tr>\n",
       "    <tr>\n",
       "      <th>2</th>\n",
       "      <td>emmanuel</td>\n",
       "    </tr>\n",
       "  </tbody>\n",
       "</table>\n",
       "</div>"
      ],
      "text/plain": [
       "      names\n",
       "0    kelvin\n",
       "1    etuonu\n",
       "2  emmanuel"
      ]
     },
     "execution_count": 19,
     "metadata": {},
     "output_type": "execute_result"
    }
   ],
   "source": [
    "names_df = pd.DataFrame(all_names, columns=['names'])\n",
    "names_df.head(3)"
   ]
  },
  {
   "cell_type": "markdown",
   "id": "d1191193",
   "metadata": {},
   "source": [
    "*Now, we explode the chats dataframe..*"
   ]
  },
  {
   "cell_type": "code",
   "execution_count": 20,
   "id": "b17d360a",
   "metadata": {},
   "outputs": [
    {
     "name": "stdout",
     "output_type": "stream",
     "text": [
      "Column Cleaned, Listed, Exploded!\n"
     ]
    }
   ],
   "source": [
    "exploded1 = clean_lists_explode(dd, 'strings')"
   ]
  },
  {
   "cell_type": "code",
   "execution_count": 21,
   "id": "28717f63",
   "metadata": {},
   "outputs": [
    {
     "data": {
      "text/plain": [
       "46"
      ]
     },
     "execution_count": 21,
     "metadata": {},
     "output_type": "execute_result"
    }
   ],
   "source": [
    "len(exploded1)"
   ]
  },
  {
   "cell_type": "markdown",
   "id": "1a4982e2",
   "metadata": {},
   "source": [
    "*Now, we explode the all names dataframe..*"
   ]
  },
  {
   "cell_type": "code",
   "execution_count": 22,
   "id": "b4eabcdf",
   "metadata": {},
   "outputs": [
    {
     "name": "stdout",
     "output_type": "stream",
     "text": [
      "Column Cleaned, Listed, Exploded!\n"
     ]
    }
   ],
   "source": [
    "exploded2 = clean_lists_explode(names_df, 'names')"
   ]
  },
  {
   "cell_type": "code",
   "execution_count": 23,
   "id": "bd350295",
   "metadata": {},
   "outputs": [
    {
     "data": {
      "text/plain": [
       "111"
      ]
     },
     "execution_count": 23,
     "metadata": {},
     "output_type": "execute_result"
    }
   ],
   "source": [
    "len(exploded2)"
   ]
  },
  {
   "cell_type": "markdown",
   "id": "318ccb0f",
   "metadata": {},
   "source": [
    "Let's now keep only common words in both exploded and all_names..."
   ]
  },
  {
   "cell_type": "code",
   "execution_count": 24,
   "id": "48342201",
   "metadata": {},
   "outputs": [
    {
     "name": "stdout",
     "output_type": "stream",
     "text": [
      "len commons: 11\n"
     ]
    }
   ],
   "source": [
    "commons = list(set(exploded1).intersection(set(exploded2)))\n",
    "print(f'len commons: {len(commons)}')"
   ]
  },
  {
   "cell_type": "code",
   "execution_count": 25,
   "id": "08958bd7",
   "metadata": {},
   "outputs": [],
   "source": [
    "def find_present(commons, all_names=all_names, df=df):\n",
    "    ddf = pd.DataFrame([], columns=['present'])\n",
    "    \n",
    "    for name in commons:\n",
    "        long_name = [i for i in all_names if name in i][0]\n",
    "        if long_name:\n",
    "            try:\n",
    "                q = f'`First Name` == \"{long_name}\"'\n",
    "                tmp = df.query(q)[['First Name', 'Last Name']].values\n",
    "                assert len(tmp) > 0\n",
    "            except AssertionError:\n",
    "                q = f'`Last Name` == \"{long_name}\"'\n",
    "                tmp = df.query(q)[['First Name', 'Last Name']].values\n",
    "        \n",
    "            name_ = ['_'.join(i) for i in tmp][0]\n",
    "            ddf = ddf.append({'present':name_}, ignore_index=True)\n",
    "            \n",
    "    # drop Duplicates\n",
    "    ddf.drop_duplicates(inplace=True)\n",
    "    \n",
    "    # sort names alphabetically\n",
    "    ddf.sort_values(by='present', inplace=True)\n",
    "    \n",
    "    # reset_index\n",
    "    ddf.index = range(len(ddf))\n",
    "    \n",
    "    # replace empty space with underscore\n",
    "    ddf.present = ddf.present.apply(lambda x: x.replace(' ','_').strip())\n",
    "    \n",
    "    return ddf"
   ]
  },
  {
   "cell_type": "code",
   "execution_count": 26,
   "id": "b1485464",
   "metadata": {
    "scrolled": true
   },
   "outputs": [],
   "source": [
    "present = find_present(commons)"
   ]
  },
  {
   "cell_type": "code",
   "execution_count": 27,
   "id": "a2fba5e0",
   "metadata": {},
   "outputs": [
    {
     "name": "stdout",
     "output_type": "stream",
     "text": [
      "total present: 5\n"
     ]
    }
   ],
   "source": [
    "print(f'total present: {len(present)}')"
   ]
  },
  {
   "cell_type": "code",
   "execution_count": 28,
   "id": "84e75a13",
   "metadata": {
    "scrolled": true
   },
   "outputs": [
    {
     "data": {
      "text/html": [
       "<div>\n",
       "<style scoped>\n",
       "    .dataframe tbody tr th:only-of-type {\n",
       "        vertical-align: middle;\n",
       "    }\n",
       "\n",
       "    .dataframe tbody tr th {\n",
       "        vertical-align: top;\n",
       "    }\n",
       "\n",
       "    .dataframe thead th {\n",
       "        text-align: right;\n",
       "    }\n",
       "</style>\n",
       "<table border=\"1\" class=\"dataframe\">\n",
       "  <thead>\n",
       "    <tr style=\"text-align: right;\">\n",
       "      <th></th>\n",
       "      <th>present</th>\n",
       "    </tr>\n",
       "  </thead>\n",
       "  <tbody>\n",
       "    <tr>\n",
       "      <th>0</th>\n",
       "      <td>abdullah_ajao</td>\n",
       "    </tr>\n",
       "    <tr>\n",
       "      <th>1</th>\n",
       "      <td>abdulmalik_ismail</td>\n",
       "    </tr>\n",
       "    <tr>\n",
       "      <th>2</th>\n",
       "      <td>benjamin_onyenekwe</td>\n",
       "    </tr>\n",
       "    <tr>\n",
       "      <th>3</th>\n",
       "      <td>naomi_frank_opigo</td>\n",
       "    </tr>\n",
       "    <tr>\n",
       "      <th>4</th>\n",
       "      <td>nndweleni_sundani</td>\n",
       "    </tr>\n",
       "  </tbody>\n",
       "</table>\n",
       "</div>"
      ],
      "text/plain": [
       "              present\n",
       "0       abdullah_ajao\n",
       "1   abdulmalik_ismail\n",
       "2  benjamin_onyenekwe\n",
       "3   naomi_frank_opigo\n",
       "4   nndweleni_sundani"
      ]
     },
     "execution_count": 28,
     "metadata": {},
     "output_type": "execute_result"
    }
   ],
   "source": [
    "present"
   ]
  }
 ],
 "metadata": {
  "kernelspec": {
   "display_name": "Python 3 (ipykernel)",
   "language": "python",
   "name": "python3"
  },
  "language_info": {
   "codemirror_mode": {
    "name": "ipython",
    "version": 3
   },
   "file_extension": ".py",
   "mimetype": "text/x-python",
   "name": "python",
   "nbconvert_exporter": "python",
   "pygments_lexer": "ipython3",
   "version": "3.9.12"
  }
 },
 "nbformat": 4,
 "nbformat_minor": 5
}
