{
 "cells": [
  {
   "cell_type": "code",
   "execution_count": 1,
   "id": "6f554fe6",
   "metadata": {},
   "outputs": [
    {
     "ename": "ModuleNotFoundError",
     "evalue": "No module named 'wptools'",
     "output_type": "error",
     "traceback": [
      "\u001b[1;31m---------------------------------------------------------------------------\u001b[0m",
      "\u001b[1;31mModuleNotFoundError\u001b[0m                       Traceback (most recent call last)",
      "Input \u001b[1;32mIn [1]\u001b[0m, in \u001b[0;36m<cell line: 5>\u001b[1;34m()\u001b[0m\n\u001b[0;32m      3\u001b[0m \u001b[38;5;28;01mimport\u001b[39;00m \u001b[38;5;21;01mnumpy\u001b[39;00m \u001b[38;5;28;01mas\u001b[39;00m \u001b[38;5;21;01mnp\u001b[39;00m\n\u001b[0;32m      4\u001b[0m \u001b[38;5;28;01mimport\u001b[39;00m \u001b[38;5;21;01mmatplotlib\u001b[39;00m\u001b[38;5;21;01m.\u001b[39;00m\u001b[38;5;21;01mpyplot\u001b[39;00m \u001b[38;5;28;01mas\u001b[39;00m \u001b[38;5;21;01mplt\u001b[39;00m\n\u001b[1;32m----> 5\u001b[0m \u001b[38;5;28;01mimport\u001b[39;00m \u001b[38;5;21;01mwptools\u001b[39;00m\n\u001b[0;32m      6\u001b[0m \u001b[38;5;28;01mimport\u001b[39;00m \u001b[38;5;21;01mrequests\u001b[39;00m\n\u001b[0;32m      7\u001b[0m \u001b[38;5;28;01mfrom\u001b[39;00m \u001b[38;5;21;01mglob\u001b[39;00m \u001b[38;5;28;01mimport\u001b[39;00m glob\n",
      "\u001b[1;31mModuleNotFoundError\u001b[0m: No module named 'wptools'"
     ]
    }
   ],
   "source": [
    "import pandas as pd\n",
    "pd.set_option('display.max_rows', 40)\n",
    "import numpy as np\n",
    "import matplotlib.pyplot as plt\n",
    "import wptools\n",
    "import requests\n",
    "from glob import glob\n",
    "print('imported!')"
   ]
  },
  {
   "cell_type": "markdown",
   "id": "0a4669fb",
   "metadata": {},
   "source": [
    "*readng and writing JSON files in python [Stackabuse](http://stackabuse.com/reading-and-writing-json-to-a-file-in-python/)*"
   ]
  },
  {
   "cell_type": "code",
   "execution_count": 3,
   "id": "5e276bd3",
   "metadata": {},
   "outputs": [
    {
     "name": "stderr",
     "output_type": "stream",
     "text": [
      "en.wikipedia.org (query) Mahatma_Gandhi\n",
      "en.wikipedia.org (query) Mahatma Gandhi (&plcontinue=19379|0|Envi...\n",
      "en.wikipedia.org (query) Mahatma Gandhi (&plcontinue=19379|0|Laks...\n",
      "en.wikipedia.org (query) Mahatma Gandhi (&plcontinue=19379|0|Robe...\n",
      "en.wikipedia.org (query) Mahatma Gandhi (&plcontinue=19379|0|Worl...\n",
      "en.wikipedia.org (parse) 19379\n",
      "www.wikidata.org (wikidata) Q1001\n",
      "www.wikidata.org (labels) P8980|Q194279|P1819|Q193196|P6573|P4619...\n",
      "www.wikidata.org (labels) P4293|P3219|P910|P3847|P8349|P1066|P136...\n",
      "www.wikidata.org (labels) P21|Q1860|P5587|Q10225|Q17244894|P6821|...\n",
      "www.wikidata.org (labels) P9984|P6351|Q100778902|P396|P409|P551|P...\n",
      "www.wikidata.org (labels) P906|Q11774156|P4200|P463|P6764|P8839|P...\n",
      "www.wikidata.org (labels) P8849|P2963|P7829|P5421|P9037|P268|P702...\n",
      "www.wikidata.org (labels) Q1233784|P3235|Q131149|Q1390715|P3232|P...\n",
      "en.wikipedia.org (restbase) /page/summary/Mahatma_Gandhi\n",
      "en.wikipedia.org (imageinfo) File:Mahatma-Gandhi, studio, 1931.jpg\n",
      "Mahatma Gandhi (en) data\n",
      "{\n",
      "  WARNINGS: <dict(1)> extracts\n",
      "  aliases: <list(13)> Mahatma Mohandas Karamchand Gandhi, M. K. Ga...\n",
      "  assessments: <dict(10)> Biography, Politics, Alternative Views, ...\n",
      "  claims: <dict(254)> P27, P19, P20, P26, P157, P103, P69, P140, P...\n",
      "  description: <str(62)> Indian nationalist leader and nonviolence...\n",
      "  exhtml: <str(410)> <p><b>Mohandas Karamchand Gandhi</b> was an I...\n",
      "  exrest: <str(389)> Mohandas Karamchand Gandhi was an Indian lawy...\n",
      "  extext: <str(3573)> **Mohandas Karamchand Gandhi** (; _GAHN-dee_...\n",
      "  extract: <str(3766)> <p class=\"mw-empty-elt\"></p><p><b>Mohandas ...\n",
      "  image: <list(14)> {'kind': 'query-pageimage', 'file': 'File:Maha...\n",
      "  infobox: <dict(32)> honorific_prefix, name, image, caption, citi...\n",
      "  iwlinks: <list(7)> https://commons.wikimedia.org/wiki/Mohandas_K...\n",
      "  label: Mohandas Karamchand Gandhi\n",
      "  labels: <dict(337)> P8980, Q194279, P1819, Q193196, P6573, P4619...\n",
      "  length: 298,838\n",
      "  links: <list(2027)> 10, Janpath, 120461 Gandhi, 14th Dalai Lama,...\n",
      "  modified: <dict(2)> page, wikidata\n",
      "  pageid: 19379\n",
      "  parsetree: <str(375360)> <root><template><title>Short descriptio...\n",
      "  random: Watford and Edgware Railway\n",
      "  redirects: <list(56)> {'pageid': 55342, 'ns': 0, 'title': 'Mahat...\n",
      "  requests: <list(16)> query, query, query, query, query, parse, w...\n",
      "  title: Mahatma_Gandhi\n",
      "  url: https://en.wikipedia.org/wiki/Mahatma_Gandhi\n",
      "  url_raw: https://en.wikipedia.org/wiki/Mahatma_Gandhi?action=raw\n",
      "  watchers: 2,404\n",
      "  what: human\n",
      "  wikibase: Q1001\n",
      "  wikidata: <dict(254)> country of citizenship (P27), place of bir...\n",
      "  wikidata_pageid: 1330\n",
      "  wikidata_url: https://www.wikidata.org/wiki/Q1001\n",
      "  wikitext: <str(297219)> {{Short description|Indian nationalist l...\n",
      "}\n"
     ]
    }
   ],
   "source": [
    "page = wptools.page('Mahatma_Gandhi').get()"
   ]
  },
  {
   "cell_type": "code",
   "execution_count": 5,
   "id": "ce1123a2",
   "metadata": {},
   "outputs": [
    {
     "data": {
      "text/plain": [
       "wptools.page.WPToolsPage"
      ]
     },
     "execution_count": 5,
     "metadata": {},
     "output_type": "execute_result"
    }
   ],
   "source": [
    "# Let's see what type of object it is\n",
    "\n",
    "type(page)"
   ]
  },
  {
   "cell_type": "markdown",
   "id": "0a6e31f7",
   "metadata": {},
   "source": [
    "*Well, it looks like a dictionary wrapped up in somethng, let's use the key() function of a dict on it to get the keys...*"
   ]
  },
  {
   "cell_type": "code",
   "execution_count": 4,
   "id": "2e716e71",
   "metadata": {},
   "outputs": [
    {
     "data": {
      "text/plain": [
       "dict_keys(['requests', 'WARNINGS', 'random', 'redirected', 'pageid', 'assessments', 'extract', 'extext', 'url', 'url_raw', 'length', 'links', 'modified', 'wikibase', 'wikidata_url', 'redirects', 'aliases', 'description', 'label', 'title', 'watchers', 'image', 'iwlinks', 'wikitext', 'parsetree', 'infobox', 'labels', 'wikidata', 'wikidata_pageid', 'claims', 'what', 'exrest', 'exhtml'])"
      ]
     },
     "execution_count": 4,
     "metadata": {},
     "output_type": "execute_result"
    }
   ],
   "source": [
    "page.data.keys()"
   ]
  },
  {
   "cell_type": "markdown",
   "id": "da9c86c5",
   "metadata": {},
   "source": [
    "*Let's look at the images*"
   ]
  },
  {
   "cell_type": "code",
   "execution_count": 8,
   "id": "5b410872",
   "metadata": {},
   "outputs": [
    {
     "data": {
      "text/plain": [
       "[{'kind': 'query-pageimage',\n",
       "  'file': 'File:Mahatma-Gandhi, studio, 1931.jpg',\n",
       "  'orig': 'Mahatma-Gandhi,_studio,_1931.jpg',\n",
       "  'timestamp': '2019-02-26T13:14:24Z',\n",
       "  'size': 3250029,\n",
       "  'width': 2620,\n",
       "  'height': 3270,\n",
       "  'url': 'https://upload.wikimedia.org/wikipedia/commons/7/7a/Mahatma-Gandhi%2C_studio%2C_1931.jpg',\n",
       "  'descriptionurl': 'https://commons.wikimedia.org/wiki/File:Mahatma-Gandhi,_studio,_1931.jpg',\n",
       "  'descriptionshorturl': 'https://commons.wikimedia.org/w/index.php?curid=76882768',\n",
       "  'title': 'File:Mahatma-Gandhi, studio, 1931.jpg',\n",
       "  'metadata': {'DateTime': {'value': '2019-02-26 13:14:24',\n",
       "    'source': 'mediawiki-metadata',\n",
       "    'hidden': ''},\n",
       "   'ObjectName': {'value': 'Mahatma-Gandhi, studio, 1931',\n",
       "    'source': 'mediawiki-metadata',\n",
       "    'hidden': ''},\n",
       "   'CommonsMetadataExtension': {'value': 1.2,\n",
       "    'source': 'extension',\n",
       "    'hidden': ''},\n",
       "   'Categories': {'value': 'Files uploaded by Yann Forget|Mohandas K. Gandhi in 1931|Mohandas K. Gandhi in England|PD-1996|PD-UK',\n",
       "    'source': 'commons-categories',\n",
       "    'hidden': ''},\n",
       "   'Assessments': {'value': 'valued',\n",
       "    'source': 'commons-categories',\n",
       "    'hidden': ''},\n",
       "   'ImageDescription': {'value': 'Studio photograph of Mahatma Gandhi, London, 1931.',\n",
       "    'source': 'commons-desc-page'},\n",
       "   'DateTimeOriginal': {'value': '1931', 'source': 'commons-desc-page'},\n",
       "   'Credit': {'value': '<a rel=\"nofollow\" class=\"external free\" href=\"http://philogalichet.fr/wp-content/uploads/2019/01/Gandhi_Photo-Alamy.jpg\">http://philogalichet.fr/wp-content/uploads/2019/01/Gandhi_Photo-Alamy.jpg</a>',\n",
       "    'source': 'commons-desc-page',\n",
       "    'hidden': ''},\n",
       "   'Artist': {'value': 'Elliott &amp; Fry (see <a rel=\"nofollow\" class=\"external autonumber\" href=\"https://www.gettyimages.in/detail/news-photo/indian-nationalist-leader-mohandas-karamchand-gandhi-news-photo/2668873\">[1]</a>)',\n",
       "    'source': 'commons-desc-page'},\n",
       "   'Permission': {'value': 'Copyright expired 50 years after publication. It was most probably published in USA at the time.',\n",
       "    'source': 'commons-desc-page',\n",
       "    'hidden': ''},\n",
       "   'LicenseShortName': {'value': 'Public domain',\n",
       "    'source': 'commons-desc-page',\n",
       "    'hidden': ''},\n",
       "   'UsageTerms': {'value': 'Public domain',\n",
       "    'source': 'commons-desc-page',\n",
       "    'hidden': ''},\n",
       "   'AttributionRequired': {'value': 'false',\n",
       "    'source': 'commons-desc-page',\n",
       "    'hidden': ''},\n",
       "   'Copyrighted': {'value': 'False',\n",
       "    'source': 'commons-desc-page',\n",
       "    'hidden': ''},\n",
       "   'Restrictions': {'value': '', 'source': 'commons-desc-page', 'hidden': ''},\n",
       "   'License': {'value': 'pd', 'source': 'commons-templates', 'hidden': ''}}},\n",
       " {'kind': 'query-thumbnail',\n",
       "  'width': 192,\n",
       "  'height': 240,\n",
       "  'url': 'https://upload.wikimedia.org/wikipedia/commons/thumb/7/7a/Mahatma-Gandhi%2C_studio%2C_1931.jpg/192px-Mahatma-Gandhi%2C_studio%2C_1931.jpg',\n",
       "  'file': 'File:Mahatma-Gandhi%2C studio%2C 1931.jpg',\n",
       "  'orig': 'Mahatma-Gandhi%2C_studio%2C_1931.jpg'},\n",
       " {'kind': 'query-pageimage',\n",
       "  'file': 'File:Mahatma-Gandhi, studio, 1931.jpg',\n",
       "  'orig': 'Mahatma-Gandhi,_studio,_1931.jpg',\n",
       "  'timestamp': '2019-02-26T13:14:24Z',\n",
       "  'size': 3250029,\n",
       "  'width': 2620,\n",
       "  'height': 3270,\n",
       "  'url': 'https://upload.wikimedia.org/wikipedia/commons/7/7a/Mahatma-Gandhi%2C_studio%2C_1931.jpg',\n",
       "  'descriptionurl': 'https://commons.wikimedia.org/wiki/File:Mahatma-Gandhi,_studio,_1931.jpg',\n",
       "  'descriptionshorturl': 'https://commons.wikimedia.org/w/index.php?curid=76882768',\n",
       "  'title': 'File:Mahatma-Gandhi, studio, 1931.jpg',\n",
       "  'metadata': {'DateTime': {'value': '2019-02-26 13:14:24',\n",
       "    'source': 'mediawiki-metadata',\n",
       "    'hidden': ''},\n",
       "   'ObjectName': {'value': 'Mahatma-Gandhi, studio, 1931',\n",
       "    'source': 'mediawiki-metadata',\n",
       "    'hidden': ''},\n",
       "   'CommonsMetadataExtension': {'value': 1.2,\n",
       "    'source': 'extension',\n",
       "    'hidden': ''},\n",
       "   'Categories': {'value': 'Files uploaded by Yann Forget|Mohandas K. Gandhi in 1931|Mohandas K. Gandhi in England|PD-1996|PD-UK',\n",
       "    'source': 'commons-categories',\n",
       "    'hidden': ''},\n",
       "   'Assessments': {'value': 'valued',\n",
       "    'source': 'commons-categories',\n",
       "    'hidden': ''},\n",
       "   'ImageDescription': {'value': 'Studio photograph of Mahatma Gandhi, London, 1931.',\n",
       "    'source': 'commons-desc-page'},\n",
       "   'DateTimeOriginal': {'value': '1931', 'source': 'commons-desc-page'},\n",
       "   'Credit': {'value': '<a rel=\"nofollow\" class=\"external free\" href=\"http://philogalichet.fr/wp-content/uploads/2019/01/Gandhi_Photo-Alamy.jpg\">http://philogalichet.fr/wp-content/uploads/2019/01/Gandhi_Photo-Alamy.jpg</a>',\n",
       "    'source': 'commons-desc-page',\n",
       "    'hidden': ''},\n",
       "   'Artist': {'value': 'Elliott &amp; Fry (see <a rel=\"nofollow\" class=\"external autonumber\" href=\"https://www.gettyimages.in/detail/news-photo/indian-nationalist-leader-mohandas-karamchand-gandhi-news-photo/2668873\">[1]</a>)',\n",
       "    'source': 'commons-desc-page'},\n",
       "   'Permission': {'value': 'Copyright expired 50 years after publication. It was most probably published in USA at the time.',\n",
       "    'source': 'commons-desc-page',\n",
       "    'hidden': ''},\n",
       "   'LicenseShortName': {'value': 'Public domain',\n",
       "    'source': 'commons-desc-page',\n",
       "    'hidden': ''},\n",
       "   'UsageTerms': {'value': 'Public domain',\n",
       "    'source': 'commons-desc-page',\n",
       "    'hidden': ''},\n",
       "   'AttributionRequired': {'value': 'false',\n",
       "    'source': 'commons-desc-page',\n",
       "    'hidden': ''},\n",
       "   'Copyrighted': {'value': 'False',\n",
       "    'source': 'commons-desc-page',\n",
       "    'hidden': ''},\n",
       "   'Restrictions': {'value': '', 'source': 'commons-desc-page', 'hidden': ''},\n",
       "   'License': {'value': 'pd', 'source': 'commons-templates', 'hidden': ''}}},\n",
       " {'kind': 'query-thumbnail',\n",
       "  'width': 192,\n",
       "  'height': 240,\n",
       "  'url': 'https://upload.wikimedia.org/wikipedia/commons/thumb/7/7a/Mahatma-Gandhi%2C_studio%2C_1931.jpg/192px-Mahatma-Gandhi%2C_studio%2C_1931.jpg',\n",
       "  'file': 'File:Mahatma-Gandhi%2C studio%2C 1931.jpg',\n",
       "  'orig': 'Mahatma-Gandhi%2C_studio%2C_1931.jpg'},\n",
       " {'kind': 'query-pageimage',\n",
       "  'file': 'File:Mahatma-Gandhi, studio, 1931.jpg',\n",
       "  'orig': 'Mahatma-Gandhi,_studio,_1931.jpg',\n",
       "  'timestamp': '2019-02-26T13:14:24Z',\n",
       "  'size': 3250029,\n",
       "  'width': 2620,\n",
       "  'height': 3270,\n",
       "  'url': 'https://upload.wikimedia.org/wikipedia/commons/7/7a/Mahatma-Gandhi%2C_studio%2C_1931.jpg',\n",
       "  'descriptionurl': 'https://commons.wikimedia.org/wiki/File:Mahatma-Gandhi,_studio,_1931.jpg',\n",
       "  'descriptionshorturl': 'https://commons.wikimedia.org/w/index.php?curid=76882768',\n",
       "  'title': 'File:Mahatma-Gandhi, studio, 1931.jpg',\n",
       "  'metadata': {'DateTime': {'value': '2019-02-26 13:14:24',\n",
       "    'source': 'mediawiki-metadata',\n",
       "    'hidden': ''},\n",
       "   'ObjectName': {'value': 'Mahatma-Gandhi, studio, 1931',\n",
       "    'source': 'mediawiki-metadata',\n",
       "    'hidden': ''},\n",
       "   'CommonsMetadataExtension': {'value': 1.2,\n",
       "    'source': 'extension',\n",
       "    'hidden': ''},\n",
       "   'Categories': {'value': 'Files uploaded by Yann Forget|Mohandas K. Gandhi in 1931|Mohandas K. Gandhi in England|PD-1996|PD-UK',\n",
       "    'source': 'commons-categories',\n",
       "    'hidden': ''},\n",
       "   'Assessments': {'value': 'valued',\n",
       "    'source': 'commons-categories',\n",
       "    'hidden': ''},\n",
       "   'ImageDescription': {'value': 'Studio photograph of Mahatma Gandhi, London, 1931.',\n",
       "    'source': 'commons-desc-page'},\n",
       "   'DateTimeOriginal': {'value': '1931', 'source': 'commons-desc-page'},\n",
       "   'Credit': {'value': '<a rel=\"nofollow\" class=\"external free\" href=\"http://philogalichet.fr/wp-content/uploads/2019/01/Gandhi_Photo-Alamy.jpg\">http://philogalichet.fr/wp-content/uploads/2019/01/Gandhi_Photo-Alamy.jpg</a>',\n",
       "    'source': 'commons-desc-page',\n",
       "    'hidden': ''},\n",
       "   'Artist': {'value': 'Elliott &amp; Fry (see <a rel=\"nofollow\" class=\"external autonumber\" href=\"https://www.gettyimages.in/detail/news-photo/indian-nationalist-leader-mohandas-karamchand-gandhi-news-photo/2668873\">[1]</a>)',\n",
       "    'source': 'commons-desc-page'},\n",
       "   'Permission': {'value': 'Copyright expired 50 years after publication. It was most probably published in USA at the time.',\n",
       "    'source': 'commons-desc-page',\n",
       "    'hidden': ''},\n",
       "   'LicenseShortName': {'value': 'Public domain',\n",
       "    'source': 'commons-desc-page',\n",
       "    'hidden': ''},\n",
       "   'UsageTerms': {'value': 'Public domain',\n",
       "    'source': 'commons-desc-page',\n",
       "    'hidden': ''},\n",
       "   'AttributionRequired': {'value': 'false',\n",
       "    'source': 'commons-desc-page',\n",
       "    'hidden': ''},\n",
       "   'Copyrighted': {'value': 'False',\n",
       "    'source': 'commons-desc-page',\n",
       "    'hidden': ''},\n",
       "   'Restrictions': {'value': '', 'source': 'commons-desc-page', 'hidden': ''},\n",
       "   'License': {'value': 'pd', 'source': 'commons-templates', 'hidden': ''}}},\n",
       " {'kind': 'query-thumbnail',\n",
       "  'width': 192,\n",
       "  'height': 240,\n",
       "  'url': 'https://upload.wikimedia.org/wikipedia/commons/thumb/7/7a/Mahatma-Gandhi%2C_studio%2C_1931.jpg/192px-Mahatma-Gandhi%2C_studio%2C_1931.jpg',\n",
       "  'file': 'File:Mahatma-Gandhi%2C studio%2C 1931.jpg',\n",
       "  'orig': 'Mahatma-Gandhi%2C_studio%2C_1931.jpg'},\n",
       " {'kind': 'query-pageimage',\n",
       "  'file': 'File:Mahatma-Gandhi, studio, 1931.jpg',\n",
       "  'orig': 'Mahatma-Gandhi,_studio,_1931.jpg',\n",
       "  'timestamp': '2019-02-26T13:14:24Z',\n",
       "  'size': 3250029,\n",
       "  'width': 2620,\n",
       "  'height': 3270,\n",
       "  'url': 'https://upload.wikimedia.org/wikipedia/commons/7/7a/Mahatma-Gandhi%2C_studio%2C_1931.jpg',\n",
       "  'descriptionurl': 'https://commons.wikimedia.org/wiki/File:Mahatma-Gandhi,_studio,_1931.jpg',\n",
       "  'descriptionshorturl': 'https://commons.wikimedia.org/w/index.php?curid=76882768',\n",
       "  'title': 'File:Mahatma-Gandhi, studio, 1931.jpg',\n",
       "  'metadata': {'DateTime': {'value': '2019-02-26 13:14:24',\n",
       "    'source': 'mediawiki-metadata',\n",
       "    'hidden': ''},\n",
       "   'ObjectName': {'value': 'Mahatma-Gandhi, studio, 1931',\n",
       "    'source': 'mediawiki-metadata',\n",
       "    'hidden': ''},\n",
       "   'CommonsMetadataExtension': {'value': 1.2,\n",
       "    'source': 'extension',\n",
       "    'hidden': ''},\n",
       "   'Categories': {'value': 'Files uploaded by Yann Forget|Mohandas K. Gandhi in 1931|Mohandas K. Gandhi in England|PD-1996|PD-UK',\n",
       "    'source': 'commons-categories',\n",
       "    'hidden': ''},\n",
       "   'Assessments': {'value': 'valued',\n",
       "    'source': 'commons-categories',\n",
       "    'hidden': ''},\n",
       "   'ImageDescription': {'value': 'Studio photograph of Mahatma Gandhi, London, 1931.',\n",
       "    'source': 'commons-desc-page'},\n",
       "   'DateTimeOriginal': {'value': '1931', 'source': 'commons-desc-page'},\n",
       "   'Credit': {'value': '<a rel=\"nofollow\" class=\"external free\" href=\"http://philogalichet.fr/wp-content/uploads/2019/01/Gandhi_Photo-Alamy.jpg\">http://philogalichet.fr/wp-content/uploads/2019/01/Gandhi_Photo-Alamy.jpg</a>',\n",
       "    'source': 'commons-desc-page',\n",
       "    'hidden': ''},\n",
       "   'Artist': {'value': 'Elliott &amp; Fry (see <a rel=\"nofollow\" class=\"external autonumber\" href=\"https://www.gettyimages.in/detail/news-photo/indian-nationalist-leader-mohandas-karamchand-gandhi-news-photo/2668873\">[1]</a>)',\n",
       "    'source': 'commons-desc-page'},\n",
       "   'Permission': {'value': 'Copyright expired 50 years after publication. It was most probably published in USA at the time.',\n",
       "    'source': 'commons-desc-page',\n",
       "    'hidden': ''},\n",
       "   'LicenseShortName': {'value': 'Public domain',\n",
       "    'source': 'commons-desc-page',\n",
       "    'hidden': ''},\n",
       "   'UsageTerms': {'value': 'Public domain',\n",
       "    'source': 'commons-desc-page',\n",
       "    'hidden': ''},\n",
       "   'AttributionRequired': {'value': 'false',\n",
       "    'source': 'commons-desc-page',\n",
       "    'hidden': ''},\n",
       "   'Copyrighted': {'value': 'False',\n",
       "    'source': 'commons-desc-page',\n",
       "    'hidden': ''},\n",
       "   'Restrictions': {'value': '', 'source': 'commons-desc-page', 'hidden': ''},\n",
       "   'License': {'value': 'pd', 'source': 'commons-templates', 'hidden': ''}}},\n",
       " {'kind': 'query-thumbnail',\n",
       "  'width': 192,\n",
       "  'height': 240,\n",
       "  'url': 'https://upload.wikimedia.org/wikipedia/commons/thumb/7/7a/Mahatma-Gandhi%2C_studio%2C_1931.jpg/192px-Mahatma-Gandhi%2C_studio%2C_1931.jpg',\n",
       "  'file': 'File:Mahatma-Gandhi%2C studio%2C 1931.jpg',\n",
       "  'orig': 'Mahatma-Gandhi%2C_studio%2C_1931.jpg'},\n",
       " {'kind': 'query-pageimage',\n",
       "  'file': 'File:Mahatma-Gandhi, studio, 1931.jpg',\n",
       "  'orig': 'Mahatma-Gandhi,_studio,_1931.jpg',\n",
       "  'timestamp': '2019-02-26T13:14:24Z',\n",
       "  'size': 3250029,\n",
       "  'width': 2620,\n",
       "  'height': 3270,\n",
       "  'url': 'https://upload.wikimedia.org/wikipedia/commons/7/7a/Mahatma-Gandhi%2C_studio%2C_1931.jpg',\n",
       "  'descriptionurl': 'https://commons.wikimedia.org/wiki/File:Mahatma-Gandhi,_studio,_1931.jpg',\n",
       "  'descriptionshorturl': 'https://commons.wikimedia.org/w/index.php?curid=76882768',\n",
       "  'title': 'File:Mahatma-Gandhi, studio, 1931.jpg',\n",
       "  'metadata': {'DateTime': {'value': '2019-02-26 13:14:24',\n",
       "    'source': 'mediawiki-metadata',\n",
       "    'hidden': ''},\n",
       "   'ObjectName': {'value': 'Mahatma-Gandhi, studio, 1931',\n",
       "    'source': 'mediawiki-metadata',\n",
       "    'hidden': ''},\n",
       "   'CommonsMetadataExtension': {'value': 1.2,\n",
       "    'source': 'extension',\n",
       "    'hidden': ''},\n",
       "   'Categories': {'value': 'Files uploaded by Yann Forget|Mohandas K. Gandhi in 1931|Mohandas K. Gandhi in England|PD-1996|PD-UK',\n",
       "    'source': 'commons-categories',\n",
       "    'hidden': ''},\n",
       "   'Assessments': {'value': 'valued',\n",
       "    'source': 'commons-categories',\n",
       "    'hidden': ''},\n",
       "   'ImageDescription': {'value': 'Studio photograph of Mahatma Gandhi, London, 1931.',\n",
       "    'source': 'commons-desc-page'},\n",
       "   'DateTimeOriginal': {'value': '1931', 'source': 'commons-desc-page'},\n",
       "   'Credit': {'value': '<a rel=\"nofollow\" class=\"external free\" href=\"http://philogalichet.fr/wp-content/uploads/2019/01/Gandhi_Photo-Alamy.jpg\">http://philogalichet.fr/wp-content/uploads/2019/01/Gandhi_Photo-Alamy.jpg</a>',\n",
       "    'source': 'commons-desc-page',\n",
       "    'hidden': ''},\n",
       "   'Artist': {'value': 'Elliott &amp; Fry (see <a rel=\"nofollow\" class=\"external autonumber\" href=\"https://www.gettyimages.in/detail/news-photo/indian-nationalist-leader-mohandas-karamchand-gandhi-news-photo/2668873\">[1]</a>)',\n",
       "    'source': 'commons-desc-page'},\n",
       "   'Permission': {'value': 'Copyright expired 50 years after publication. It was most probably published in USA at the time.',\n",
       "    'source': 'commons-desc-page',\n",
       "    'hidden': ''},\n",
       "   'LicenseShortName': {'value': 'Public domain',\n",
       "    'source': 'commons-desc-page',\n",
       "    'hidden': ''},\n",
       "   'UsageTerms': {'value': 'Public domain',\n",
       "    'source': 'commons-desc-page',\n",
       "    'hidden': ''},\n",
       "   'AttributionRequired': {'value': 'false',\n",
       "    'source': 'commons-desc-page',\n",
       "    'hidden': ''},\n",
       "   'Copyrighted': {'value': 'False',\n",
       "    'source': 'commons-desc-page',\n",
       "    'hidden': ''},\n",
       "   'Restrictions': {'value': '', 'source': 'commons-desc-page', 'hidden': ''},\n",
       "   'License': {'value': 'pd', 'source': 'commons-templates', 'hidden': ''}}},\n",
       " {'kind': 'query-thumbnail',\n",
       "  'width': 192,\n",
       "  'height': 240,\n",
       "  'url': 'https://upload.wikimedia.org/wikipedia/commons/thumb/7/7a/Mahatma-Gandhi%2C_studio%2C_1931.jpg/192px-Mahatma-Gandhi%2C_studio%2C_1931.jpg',\n",
       "  'file': 'File:Mahatma-Gandhi%2C studio%2C 1931.jpg',\n",
       "  'orig': 'Mahatma-Gandhi%2C_studio%2C_1931.jpg'},\n",
       " {'kind': 'parse-image',\n",
       "  'file': 'File:Mahatma-Gandhi, studio, 1931.jpg',\n",
       "  'orig': 'Mahatma-Gandhi, studio, 1931.jpg',\n",
       "  'timestamp': '2019-02-26T13:14:24Z',\n",
       "  'size': 3250029,\n",
       "  'width': 2620,\n",
       "  'height': 3270,\n",
       "  'url': 'https://upload.wikimedia.org/wikipedia/commons/7/7a/Mahatma-Gandhi%2C_studio%2C_1931.jpg',\n",
       "  'descriptionurl': 'https://commons.wikimedia.org/wiki/File:Mahatma-Gandhi,_studio,_1931.jpg',\n",
       "  'descriptionshorturl': 'https://commons.wikimedia.org/w/index.php?curid=76882768',\n",
       "  'title': 'File:Mahatma-Gandhi, studio, 1931.jpg',\n",
       "  'metadata': {'DateTime': {'value': '2019-02-26 13:14:24',\n",
       "    'source': 'mediawiki-metadata',\n",
       "    'hidden': ''},\n",
       "   'ObjectName': {'value': 'Mahatma-Gandhi, studio, 1931',\n",
       "    'source': 'mediawiki-metadata',\n",
       "    'hidden': ''},\n",
       "   'CommonsMetadataExtension': {'value': 1.2,\n",
       "    'source': 'extension',\n",
       "    'hidden': ''},\n",
       "   'Categories': {'value': 'Files uploaded by Yann Forget|Mohandas K. Gandhi in 1931|Mohandas K. Gandhi in England|PD-1996|PD-UK',\n",
       "    'source': 'commons-categories',\n",
       "    'hidden': ''},\n",
       "   'Assessments': {'value': 'valued',\n",
       "    'source': 'commons-categories',\n",
       "    'hidden': ''},\n",
       "   'ImageDescription': {'value': 'Studio photograph of Mahatma Gandhi, London, 1931.',\n",
       "    'source': 'commons-desc-page'},\n",
       "   'DateTimeOriginal': {'value': '1931', 'source': 'commons-desc-page'},\n",
       "   'Credit': {'value': '<a rel=\"nofollow\" class=\"external free\" href=\"http://philogalichet.fr/wp-content/uploads/2019/01/Gandhi_Photo-Alamy.jpg\">http://philogalichet.fr/wp-content/uploads/2019/01/Gandhi_Photo-Alamy.jpg</a>',\n",
       "    'source': 'commons-desc-page',\n",
       "    'hidden': ''},\n",
       "   'Artist': {'value': 'Elliott &amp; Fry (see <a rel=\"nofollow\" class=\"external autonumber\" href=\"https://www.gettyimages.in/detail/news-photo/indian-nationalist-leader-mohandas-karamchand-gandhi-news-photo/2668873\">[1]</a>)',\n",
       "    'source': 'commons-desc-page'},\n",
       "   'Permission': {'value': 'Copyright expired 50 years after publication. It was most probably published in USA at the time.',\n",
       "    'source': 'commons-desc-page',\n",
       "    'hidden': ''},\n",
       "   'LicenseShortName': {'value': 'Public domain',\n",
       "    'source': 'commons-desc-page',\n",
       "    'hidden': ''},\n",
       "   'UsageTerms': {'value': 'Public domain',\n",
       "    'source': 'commons-desc-page',\n",
       "    'hidden': ''},\n",
       "   'AttributionRequired': {'value': 'false',\n",
       "    'source': 'commons-desc-page',\n",
       "    'hidden': ''},\n",
       "   'Copyrighted': {'value': 'False',\n",
       "    'source': 'commons-desc-page',\n",
       "    'hidden': ''},\n",
       "   'Restrictions': {'value': '', 'source': 'commons-desc-page', 'hidden': ''},\n",
       "   'License': {'value': 'pd', 'source': 'commons-templates', 'hidden': ''}}},\n",
       " {'file': 'File:Mahatma-Gandhi, studio, 1931.jpg',\n",
       "  'kind': 'wikidata-image',\n",
       "  'orig': 'Mahatma-Gandhi, studio, 1931.jpg',\n",
       "  'timestamp': '2019-02-26T13:14:24Z',\n",
       "  'size': 3250029,\n",
       "  'width': 2620,\n",
       "  'height': 3270,\n",
       "  'url': 'https://upload.wikimedia.org/wikipedia/commons/7/7a/Mahatma-Gandhi%2C_studio%2C_1931.jpg',\n",
       "  'descriptionurl': 'https://commons.wikimedia.org/wiki/File:Mahatma-Gandhi,_studio,_1931.jpg',\n",
       "  'descriptionshorturl': 'https://commons.wikimedia.org/w/index.php?curid=76882768',\n",
       "  'title': 'File:Mahatma-Gandhi, studio, 1931.jpg',\n",
       "  'metadata': {'DateTime': {'value': '2019-02-26 13:14:24',\n",
       "    'source': 'mediawiki-metadata',\n",
       "    'hidden': ''},\n",
       "   'ObjectName': {'value': 'Mahatma-Gandhi, studio, 1931',\n",
       "    'source': 'mediawiki-metadata',\n",
       "    'hidden': ''},\n",
       "   'CommonsMetadataExtension': {'value': 1.2,\n",
       "    'source': 'extension',\n",
       "    'hidden': ''},\n",
       "   'Categories': {'value': 'Files uploaded by Yann Forget|Mohandas K. Gandhi in 1931|Mohandas K. Gandhi in England|PD-1996|PD-UK',\n",
       "    'source': 'commons-categories',\n",
       "    'hidden': ''},\n",
       "   'Assessments': {'value': 'valued',\n",
       "    'source': 'commons-categories',\n",
       "    'hidden': ''},\n",
       "   'ImageDescription': {'value': 'Studio photograph of Mahatma Gandhi, London, 1931.',\n",
       "    'source': 'commons-desc-page'},\n",
       "   'DateTimeOriginal': {'value': '1931', 'source': 'commons-desc-page'},\n",
       "   'Credit': {'value': '<a rel=\"nofollow\" class=\"external free\" href=\"http://philogalichet.fr/wp-content/uploads/2019/01/Gandhi_Photo-Alamy.jpg\">http://philogalichet.fr/wp-content/uploads/2019/01/Gandhi_Photo-Alamy.jpg</a>',\n",
       "    'source': 'commons-desc-page',\n",
       "    'hidden': ''},\n",
       "   'Artist': {'value': 'Elliott &amp; Fry (see <a rel=\"nofollow\" class=\"external autonumber\" href=\"https://www.gettyimages.in/detail/news-photo/indian-nationalist-leader-mohandas-karamchand-gandhi-news-photo/2668873\">[1]</a>)',\n",
       "    'source': 'commons-desc-page'},\n",
       "   'Permission': {'value': 'Copyright expired 50 years after publication. It was most probably published in USA at the time.',\n",
       "    'source': 'commons-desc-page',\n",
       "    'hidden': ''},\n",
       "   'LicenseShortName': {'value': 'Public domain',\n",
       "    'source': 'commons-desc-page',\n",
       "    'hidden': ''},\n",
       "   'UsageTerms': {'value': 'Public domain',\n",
       "    'source': 'commons-desc-page',\n",
       "    'hidden': ''},\n",
       "   'AttributionRequired': {'value': 'false',\n",
       "    'source': 'commons-desc-page',\n",
       "    'hidden': ''},\n",
       "   'Copyrighted': {'value': 'False',\n",
       "    'source': 'commons-desc-page',\n",
       "    'hidden': ''},\n",
       "   'Restrictions': {'value': '', 'source': 'commons-desc-page', 'hidden': ''},\n",
       "   'License': {'value': 'pd', 'source': 'commons-templates', 'hidden': ''}}},\n",
       " {'kind': 'restbase-original',\n",
       "  'width': 2620,\n",
       "  'height': 3270,\n",
       "  'url': 'https://upload.wikimedia.org/wikipedia/commons/7/7a/Mahatma-Gandhi%2C_studio%2C_1931.jpg',\n",
       "  'file': 'File:Mahatma-Gandhi%2C studio%2C 1931.jpg',\n",
       "  'orig': 'Mahatma-Gandhi%2C_studio%2C_1931.jpg'},\n",
       " {'kind': 'restbase-thumb',\n",
       "  'width': 256,\n",
       "  'height': 320,\n",
       "  'url': 'https://upload.wikimedia.org/wikipedia/commons/thumb/7/7a/Mahatma-Gandhi%2C_studio%2C_1931.jpg/256px-Mahatma-Gandhi%2C_studio%2C_1931.jpg',\n",
       "  'file': 'File:256px-Mahatma-Gandhi%2C studio%2C 1931.jpg',\n",
       "  'orig': '256px-Mahatma-Gandhi%2C_studio%2C_1931.jpg'}]"
      ]
     },
     "execution_count": 8,
     "metadata": {},
     "output_type": "execute_result"
    }
   ],
   "source": [
    "page.data['image']"
   ]
  },
  {
   "cell_type": "markdown",
   "id": "dfd42fbd",
   "metadata": {},
   "source": [
    "**Now, let's try it on the ET Page**"
   ]
  },
  {
   "cell_type": "code",
   "execution_count": 12,
   "id": "54177932",
   "metadata": {},
   "outputs": [
    {
     "name": "stderr",
     "output_type": "stream",
     "text": [
      "en.wikipedia.org (query) E.T._the_Extra-Terrestrial\n",
      "en.wikipedia.org (query) E.T. the Extra-Terrestrial (&plcontinue=...\n",
      "en.wikipedia.org (parse) 73441\n",
      "www.wikidata.org (wikidata) Q11621\n",
      "www.wikidata.org (labels) Q65|P3203|P6262|P1874|P4947|Q258064|Q16...\n",
      "www.wikidata.org (labels) Q131285|P2704|Q377616|P3808|Q4834543|Q4...\n",
      "www.wikidata.org (labels) P136|P31|P1411|P9215|Q131520|P3995|Q491...\n",
      "www.wikidata.org (labels) Q787131|Q1011509|Q139184|Q374540|P162|P...\n",
      "www.wikidata.org (labels) P1804|Q1720784|Q21571487|Q652644|P1237|...\n",
      "www.wikidata.org (labels) P2465\n",
      "en.wikipedia.org (restbase) /page/summary/E.T._the_Extra-Terrestrial\n",
      "en.wikipedia.org (imageinfo) File:ET logo 3.svg|File:E t the extr...\n",
      "E.T. the Extra-Terrestrial (en) data\n",
      "{\n",
      "  WARNINGS: <dict(1)> extracts\n",
      "  aliases: <list(2)> E.T., ET\n",
      "  assessments: <dict(4)> United States, Film, Science Fiction, Lib...\n",
      "  claims: <dict(130)> P1562, P57, P272, P345, P31, P161, P373, P48...\n",
      "  description: 1982 American science fiction film\n",
      "  exhtml: <str(485)> <p><i><b>E.T. the Extra-Terrestrial</b></i> i...\n",
      "  exrest: <str(464)> E.T. the Extra-Terrestrial is a 1982 American...\n",
      "  extext: <str(2272)> _**E.T. the Extra-Terrestrial**_ (or simply ...\n",
      "  extract: <str(2398)> <p class=\"mw-empty-elt\"></p><p><i><b>E.T. t...\n",
      "  image: <list(4)> {'kind': 'parse-image', 'file': 'File:E t the e...\n",
      "  infobox: <dict(19)> name, image, alt, caption, director, produce...\n",
      "  iwlinks: <list(6)> https://commons.wikimedia.org/wiki/Category:E...\n",
      "  label: E.T. the Extra-Terrestrial\n",
      "  labels: <dict(251)> Q65, P3203, P6262, P1874, P4947, Q258064, Q1...\n",
      "  length: 120,529\n",
      "  links: <list(670)> 10th Saturn Awards, 12 Angry Men (1957 film),...\n",
      "  modified: <dict(2)> page, wikidata\n",
      "  pageid: 73441\n",
      "  parsetree: <str(147866)> <root><template><title>Redirect</title>...\n",
      "  random: Cape May diamonds\n",
      "  redirects: <list(37)> {'pageid': 177061, 'ns': 0, 'title': 'E.T....\n",
      "  requests: <list(12)> query, query, parse, wikidata, labels, labe...\n",
      "  title: E.T._the_Extra-Terrestrial\n",
      "  url: https://en.wikipedia.org/wiki/E.T._the_Extra-Terrestrial\n",
      "  url_raw: <str(67)> https://en.wikipedia.org/wiki/E.T._the_Extra-...\n",
      "  watchers: 361\n",
      "  what: film\n",
      "  wikibase: Q11621\n",
      "  wikidata: <dict(130)> AllMovie title ID (P1562), director (P57),...\n",
      "  wikidata_pageid: 13150\n",
      "  wikidata_url: https://www.wikidata.org/wiki/Q11621\n",
      "  wikitext: <str(119855)> {{Redirect|E.T.|other uses|ET (disambigu...\n",
      "}\n"
     ]
    }
   ],
   "source": [
    "# Your code here: get the E.T. page object\n",
    "# This cell make take a few seconds to run\n",
    "page = wptools.page('E.T._the_Extra-Terrestrial').get()"
   ]
  },
  {
   "cell_type": "code",
   "execution_count": 13,
   "id": "f2c80f30",
   "metadata": {},
   "outputs": [
    {
     "data": {
      "text/plain": [
       "dict_keys(['requests', 'WARNINGS', 'random', 'redirected', 'pageid', 'assessments', 'extract', 'extext', 'url', 'url_raw', 'length', 'links', 'modified', 'wikibase', 'wikidata_url', 'redirects', 'aliases', 'description', 'label', 'title', 'watchers', 'iwlinks', 'wikitext', 'parsetree', 'infobox', 'image', 'labels', 'wikidata', 'wikidata_pageid', 'claims', 'what', 'exrest', 'exhtml'])"
      ]
     },
     "execution_count": 13,
     "metadata": {},
     "output_type": "execute_result"
    }
   ],
   "source": [
    "# let's see the keys\n",
    "\n",
    "page.data.keys()"
   ]
  },
  {
   "cell_type": "code",
   "execution_count": 14,
   "id": "d58fbcc8",
   "metadata": {
    "scrolled": false
   },
   "outputs": [
    {
     "data": {
      "text/plain": [
       "[{'kind': 'parse-image',\n",
       "  'file': 'File:E t the extra terrestrial ver3.jpg',\n",
       "  'orig': 'E t the extra terrestrial ver3.jpg',\n",
       "  'timestamp': '2016-06-04T10:30:46Z',\n",
       "  'size': 83073,\n",
       "  'width': 253,\n",
       "  'height': 394,\n",
       "  'url': 'https://upload.wikimedia.org/wikipedia/en/6/66/E_t_the_extra_terrestrial_ver3.jpg',\n",
       "  'descriptionurl': 'https://en.wikipedia.org/wiki/File:E_t_the_extra_terrestrial_ver3.jpg',\n",
       "  'descriptionshorturl': 'https://en.wikipedia.org/w/index.php?curid=7419503',\n",
       "  'title': 'File:E t the extra terrestrial ver3.jpg',\n",
       "  'metadata': {'DateTime': {'value': '2016-06-04 10:30:46',\n",
       "    'source': 'mediawiki-metadata',\n",
       "    'hidden': ''},\n",
       "   'ObjectName': {'value': 'E t the extra terrestrial ver3',\n",
       "    'source': 'mediawiki-metadata',\n",
       "    'hidden': ''},\n",
       "   'CommonsMetadataExtension': {'value': 1.2,\n",
       "    'source': 'extension',\n",
       "    'hidden': ''},\n",
       "   'Categories': {'value': 'All non-free media|E.T. the Extra-Terrestrial|Fair use images of film posters|Files with no machine-readable author|Noindexed pages|Wikipedia non-free files for NFUR review|Wikipedia non-free files with valid backlink',\n",
       "    'source': 'commons-categories',\n",
       "    'hidden': ''},\n",
       "   'Assessments': {'value': '', 'source': 'commons-categories', 'hidden': ''},\n",
       "   'ImageDescription': {'value': '<p>This is a poster for  <i>E.T. the Extra-Terrestrial</i>. <br>The poster art copyright is believed to belong to <a href=\"//en.wikipedia.org/wiki/John_Alvin\" title=\"John Alvin\">John Alvin</a>.\\n</p>',\n",
       "    'source': 'commons-desc-page'},\n",
       "   'Credit': {'value': '<p>The poster art can or could be obtained from <a href=\"//en.wikipedia.org/wiki/John_Alvin\" title=\"John Alvin\">John Alvin</a>.\\n</p>',\n",
       "    'source': 'commons-desc-page',\n",
       "    'hidden': ''},\n",
       "   'LicenseShortName': {'value': 'Fair use',\n",
       "    'source': 'commons-desc-page',\n",
       "    'hidden': ''},\n",
       "   'UsageTerms': {'value': '<a href=\"//en.wikipedia.org/wiki/Wikipedia:Non-free_use_rationale_guideline\" title=\"Wikipedia:Non-free use rationale guideline\">Fair use</a> of copyrighted material in the context of <a href=\"//en.wikipedia.org/wiki/E.T._the_Extra-Terrestrial\" title=\"E.T. the Extra-Terrestrial\">E.T. the Extra-Terrestrial</a>',\n",
       "    'source': 'commons-desc-page',\n",
       "    'hidden': ''},\n",
       "   'Attribution': {'value': '<p>The poster art can or could be obtained from <a href=\"//en.wikipedia.org/wiki/John_Alvin\" title=\"John Alvin\">John Alvin</a>.\\n</p>',\n",
       "    'source': 'commons-desc-page',\n",
       "    'hidden': ''},\n",
       "   'LicenseUrl': {'value': '//en.wikipedia.org/wiki/File:E_t_the_extra_terrestrial_ver3.jpg',\n",
       "    'source': 'commons-desc-page',\n",
       "    'hidden': ''},\n",
       "   'NonFree': {'value': 'true', 'source': 'commons-desc-page', 'hidden': ''},\n",
       "   'Copyrighted': {'value': 'True',\n",
       "    'source': 'commons-desc-page',\n",
       "    'hidden': ''},\n",
       "   'Restrictions': {'value': '',\n",
       "    'source': 'commons-desc-page',\n",
       "    'hidden': ''}}},\n",
       " {'file': 'File:ET logo 3.svg',\n",
       "  'kind': 'wikidata-image',\n",
       "  'orig': 'ET logo 3.svg',\n",
       "  'timestamp': '2011-05-14T20:38:17Z',\n",
       "  'size': 77290,\n",
       "  'width': 512,\n",
       "  'height': 380,\n",
       "  'url': 'https://upload.wikimedia.org/wikipedia/commons/8/85/ET_logo_3.svg',\n",
       "  'descriptionurl': 'https://commons.wikimedia.org/wiki/File:ET_logo_3.svg',\n",
       "  'descriptionshorturl': 'https://commons.wikimedia.org/w/index.php?curid=14138952',\n",
       "  'title': 'File:ET logo 3.svg',\n",
       "  'metadata': {'DateTime': {'value': '2011-05-14 20:38:17',\n",
       "    'source': 'mediawiki-metadata',\n",
       "    'hidden': ''},\n",
       "   'ObjectName': {'value': 'ET logo 3',\n",
       "    'source': 'mediawiki-metadata',\n",
       "    'hidden': ''},\n",
       "   'CommonsMetadataExtension': {'value': 1.2,\n",
       "    'source': 'extension',\n",
       "    'hidden': ''},\n",
       "   'Categories': {'value': 'E.T. the Extra-Terrestrial|PD textlogo|SVG text logos|With trademark',\n",
       "    'source': 'commons-categories',\n",
       "    'hidden': ''},\n",
       "   'Assessments': {'value': '', 'source': 'commons-categories', 'hidden': ''},\n",
       "   'ImageDescription': {'value': 'Opening logo to the <a href=\"https://en.wikipedia.org/wiki/E.T._the_Extra-Terrestrial\" class=\"extiw\" title=\"en:E.T. the Extra-Terrestrial\">en:E.T. the Extra-Terrestrial</a> film',\n",
       "    'source': 'commons-desc-page'},\n",
       "   'DateTimeOriginal': {'value': '2011-02-28', 'source': 'commons-desc-page'},\n",
       "   'Credit': {'value': 'Transferred from <a class=\"external text\" href=\"https://en.wikipedia.org\">en.wikipedia</a>',\n",
       "    'source': 'commons-desc-page',\n",
       "    'hidden': ''},\n",
       "   'Artist': {'value': '<a href=\"https://en.wikipedia.org/wiki/en:User:TheCuriousGnome\" class=\"extiw\" title=\"w:en:User:TheCuriousGnome\">User:TheCuriousGnome</a>',\n",
       "    'source': 'commons-desc-page'},\n",
       "   'LicenseShortName': {'value': 'Public domain',\n",
       "    'source': 'commons-desc-page',\n",
       "    'hidden': ''},\n",
       "   'UsageTerms': {'value': 'Public domain',\n",
       "    'source': 'commons-desc-page',\n",
       "    'hidden': ''},\n",
       "   'AttributionRequired': {'value': 'false',\n",
       "    'source': 'commons-desc-page',\n",
       "    'hidden': ''},\n",
       "   'Copyrighted': {'value': 'False',\n",
       "    'source': 'commons-desc-page',\n",
       "    'hidden': ''},\n",
       "   'Restrictions': {'value': 'trademarked',\n",
       "    'source': 'commons-desc-page',\n",
       "    'hidden': ''},\n",
       "   'License': {'value': 'pd', 'source': 'commons-templates', 'hidden': ''}}},\n",
       " {'kind': 'restbase-original',\n",
       "  'width': 253,\n",
       "  'height': 394,\n",
       "  'url': 'https://upload.wikimedia.org/wikipedia/en/6/66/E_t_the_extra_terrestrial_ver3.jpg',\n",
       "  'file': 'File:E t the extra terrestrial ver3.jpg',\n",
       "  'orig': 'E_t_the_extra_terrestrial_ver3.jpg'},\n",
       " {'kind': 'restbase-thumb',\n",
       "  'width': 205,\n",
       "  'height': 320,\n",
       "  'url': 'https://upload.wikimedia.org/wikipedia/en/thumb/6/66/E_t_the_extra_terrestrial_ver3.jpg/205px-E_t_the_extra_terrestrial_ver3.jpg',\n",
       "  'file': 'File:205px-E t the extra terrestrial ver3.jpg',\n",
       "  'orig': '205px-E_t_the_extra_terrestrial_ver3.jpg'}]"
      ]
     },
     "execution_count": 14,
     "metadata": {},
     "output_type": "execute_result"
    }
   ],
   "source": [
    "# Now let's see the images\n",
    "\n",
    "page.data['image']"
   ]
  },
  {
   "cell_type": "markdown",
   "id": "53044a16",
   "metadata": {},
   "source": [
    "**JSON vs XML**\n",
    "\n",
    "Java Script Object Notation (JSON) and Extensible Markup Language (XML).<br>\n",
    "In this course we focus on JSON. JSON is exceptionally good in representing and accessing complicated data hierarchies"
   ]
  },
  {
   "cell_type": "markdown",
   "id": "055b6f5e",
   "metadata": {},
   "source": [
    "#### JSON Structure:\n",
    "JSON is built on 2 key structures\n",
    "\n",
    "1. JSON objects: which are a collection of key-value pairs. JSON objects are surrounded by curly braces like a python dictionary. In python JSON objects are interpreted as dictionaries and we can access them like we would a standard python dict.\n",
    "\n",
    "2. The second key JSON structure is a JSON array, which is an ordered list of values. In python, JSON arrays are interpreted as lists and accessed just like so.\n",
    "\n",
    "* While JSON objects keys must be strings, the values for both JSON objects and arrays can be any valid JSON data type."
   ]
  },
  {
   "cell_type": "code",
   "execution_count": 16,
   "id": "aca5b780",
   "metadata": {},
   "outputs": [],
   "source": [
    "# Let's see the infobox object\n",
    "\n",
    "infobox_json = page.data['infobox']"
   ]
  },
  {
   "cell_type": "code",
   "execution_count": 17,
   "id": "4619a80f",
   "metadata": {},
   "outputs": [
    {
     "data": {
      "text/plain": [
       "{'name': 'E.T. the Extra-Terrestrial',\n",
       " 'image': 'E t the extra terrestrial ver3.jpg',\n",
       " 'alt': 'The poster shows the planet earth, a child\\'s finger touching E.T\\'s finger, with a light blinking on contact. The top headline reads \"His Adventure On Earth\".',\n",
       " 'caption': 'Theatrical release poster by [[John Alvin]]',\n",
       " 'director': '[[Steven Spielberg]]',\n",
       " 'producers': '{{unbulleted list|[[Kathleen Kennedy (producer)|Kathleen Kennedy]]|[[Steven Spielberg]]}}',\n",
       " 'writer': '[[Melissa Mathison]]',\n",
       " 'starring': '{{Plainlist|<!--Per poster billing-->|\\n* [[Dee Wallace]]\\n* [[Henry Thomas]]\\n* [[Peter Coyote]]\\n* [[Robert MacNaughton]]\\n* [[Drew Barrymore]]}} * [[Dee Wallace]]\\n* [[Henry Thomas]]\\n* [[Peter Coyote]]\\n* [[Robert MacNaughton]]\\n* [[Drew Barrymore]]',\n",
       " 'music': '[[John Williams]]',\n",
       " 'cinematography': '[[Allen Daviau]]',\n",
       " 'editing': '[[Carol Littleton]]',\n",
       " 'studio': '[[Amblin Entertainment]]',\n",
       " 'distributor': '[[Universal Pictures]]',\n",
       " 'released': '{{Film date|1982|5|26|[[1982 Cannes Film Festival|Cannes]]|1982|6|11|United States}}',\n",
       " 'runtime': '114 minutes (original) <br/>120 minutes (2002 version)',\n",
       " 'country': 'United States',\n",
       " 'language': 'English',\n",
       " 'budget': '$10.5 million',\n",
       " 'gross': '$792.9 million'}"
      ]
     },
     "execution_count": 17,
     "metadata": {},
     "output_type": "execute_result"
    }
   ],
   "source": [
    "infobox_json"
   ]
  },
  {
   "cell_type": "code",
   "execution_count": 22,
   "id": "8fd9b0a9",
   "metadata": {},
   "outputs": [
    {
     "data": {
      "text/plain": [
       "dict_keys(['name', 'image', 'alt', 'caption', 'director', 'producers', 'writer', 'starring', 'music', 'cinematography', 'editing', 'studio', 'distributor', 'released', 'runtime', 'country', 'language', 'budget', 'gross'])"
      ]
     },
     "execution_count": 22,
     "metadata": {},
     "output_type": "execute_result"
    }
   ],
   "source": [
    "infobox_json.keys()"
   ]
  },
  {
   "cell_type": "code",
   "execution_count": 27,
   "id": "23045bd5",
   "metadata": {},
   "outputs": [
    {
     "name": "stdout",
     "output_type": "stream",
     "text": [
      "ET Budget: $10.5 million\n",
      "ET Gross: $792.9 million\n",
      "ET Studio: [[Amblin Entertainment]]\n"
     ]
    }
   ],
   "source": [
    "# Here, we can see the budget, gross and language properties for example\n",
    "\n",
    "print(f'ET Budget: {infobox_json[\"budget\"]}\\nET Gross: {infobox_json[\"gross\"]}\\nET Studio: {infobox_json[\"studio\"]}')"
   ]
  },
  {
   "cell_type": "markdown",
   "id": "c7bac815",
   "metadata": {},
   "source": [
    "## Quiz 1\n",
    "Access the first image in the images attribute, which is a JSON array."
   ]
  },
  {
   "cell_type": "code",
   "execution_count": 28,
   "id": "6e220811",
   "metadata": {},
   "outputs": [
    {
     "data": {
      "text/plain": [
       "'File:E t the extra terrestrial ver3.jpg'"
      ]
     },
     "execution_count": 28,
     "metadata": {},
     "output_type": "execute_result"
    }
   ],
   "source": [
    "# Now let's see the first image\n",
    "\n",
    "page.data['image'][0]['file']"
   ]
  },
  {
   "cell_type": "markdown",
   "id": "a1214a15",
   "metadata": {},
   "source": [
    "## Quiz 2\n",
    "Access the director key of the infobox attribute, which is a JSON object."
   ]
  },
  {
   "cell_type": "code",
   "execution_count": 36,
   "id": "7be8070d",
   "metadata": {},
   "outputs": [
    {
     "data": {
      "text/plain": [
       "'Steven Spielberg'"
      ]
     },
     "execution_count": 36,
     "metadata": {},
     "output_type": "execute_result"
    }
   ],
   "source": [
    "infobox_json['director'][2:-2]"
   ]
  },
  {
   "cell_type": "markdown",
   "id": "ce0a9692",
   "metadata": {},
   "source": [
    "*Cleanng the director data with regular expresson*"
   ]
  },
  {
   "cell_type": "code",
   "execution_count": 32,
   "id": "25532808",
   "metadata": {},
   "outputs": [],
   "source": [
    "import re\n",
    "rgex = re.compile('[^a-zA-Z]')"
   ]
  },
  {
   "cell_type": "code",
   "execution_count": 35,
   "id": "216d66e0",
   "metadata": {},
   "outputs": [
    {
     "data": {
      "text/plain": [
       "'Steven Spielberg'"
      ]
     },
     "execution_count": 35,
     "metadata": {},
     "output_type": "execute_result"
    }
   ],
   "source": [
    "# Here we clean it with re and strip off all trailing white spaces before and after\n",
    "\n",
    "rgex.sub(' ',infobox_json['director']).strip()"
   ]
  }
 ],
 "metadata": {
  "kernelspec": {
   "display_name": "Python 3 (ipykernel)",
   "language": "python",
   "name": "python3"
  },
  "language_info": {
   "codemirror_mode": {
    "name": "ipython",
    "version": 3
   },
   "file_extension": ".py",
   "mimetype": "text/x-python",
   "name": "python",
   "nbconvert_exporter": "python",
   "pygments_lexer": "ipython3",
   "version": "3.9.12"
  }
 },
 "nbformat": 4,
 "nbformat_minor": 5
}
