{
 "cells": [
  {
   "cell_type": "code",
   "execution_count": 1,
   "id": "07a990a9",
   "metadata": {},
   "outputs": [],
   "source": [
    "import pandas as pd\n",
    "import numpy as np\n",
    "import matplotlib.pyplot as plt\n",
    "import seaborn as sns\n",
    "import matplotlib as mpl"
   ]
  },
  {
   "cell_type": "markdown",
   "id": "74e6152a",
   "metadata": {},
   "source": [
    "## What is Multivariate Exploration of Data?\n",
    "A multivariate visualization is the visualiziation of three or more variables\n",
    "\n",
    "### Lesson Overview\n",
    "In this lesson we will be covering the following topics:\n",
    "\n",
    "1. Non-Positional Encodings\n",
    "2. Color Palettes\n",
    "3. Faceting in Two Directions\n",
    "4. Adaptations of Bivariate Plots\n",
    "5. Plot Matrices\n",
    "6. Feature Engineering"
   ]
  },
  {
   "cell_type": "markdown",
   "id": "27640dc7",
   "metadata": {},
   "source": [
    "### Non-Positional Encodings\n",
    "\n",
    "The type of encoding that will be most useful for the additional variable will depend on whether it is quantitative or qualitative.\n",
    "\n",
    "1. **Shape**: Shape is ideal for __categorical__ variables and since there's no natural order of shapes, it is best for __nominal__ type data.\n",
    "2. **Size**: Is an encoding that's often used for __numerical__ data. When using size, be careful to associate area with values and not radius with values as this leads to a misrepresentation of values\n",
    "3. **Color**: Color can be used for both qualitative and quantitative variables"
   ]
  },
  {
   "cell_type": "code",
   "execution_count": 18,
   "id": "ee7e59b0",
   "metadata": {},
   "outputs": [
    {
     "data": {
      "text/html": [
       "<div>\n",
       "<style scoped>\n",
       "    .dataframe tbody tr th:only-of-type {\n",
       "        vertical-align: middle;\n",
       "    }\n",
       "\n",
       "    .dataframe tbody tr th {\n",
       "        vertical-align: top;\n",
       "    }\n",
       "\n",
       "    .dataframe thead th {\n",
       "        text-align: right;\n",
       "    }\n",
       "</style>\n",
       "<table border=\"1\" class=\"dataframe\">\n",
       "  <thead>\n",
       "    <tr style=\"text-align: right;\">\n",
       "      <th></th>\n",
       "      <th>id</th>\n",
       "      <th>make</th>\n",
       "      <th>model</th>\n",
       "      <th>year</th>\n",
       "      <th>VClass</th>\n",
       "      <th>drive</th>\n",
       "      <th>trans</th>\n",
       "      <th>fuelType</th>\n",
       "      <th>cylinders</th>\n",
       "      <th>displ</th>\n",
       "      <th>pv2</th>\n",
       "      <th>pv4</th>\n",
       "      <th>city</th>\n",
       "      <th>UCity</th>\n",
       "      <th>highway</th>\n",
       "      <th>UHighway</th>\n",
       "      <th>comb</th>\n",
       "      <th>co2</th>\n",
       "      <th>feScore</th>\n",
       "      <th>ghgScore</th>\n",
       "    </tr>\n",
       "  </thead>\n",
       "  <tbody>\n",
       "    <tr>\n",
       "      <th>0</th>\n",
       "      <td>32204</td>\n",
       "      <td>Nissan</td>\n",
       "      <td>GT-R</td>\n",
       "      <td>2013</td>\n",
       "      <td>Subcompact Cars</td>\n",
       "      <td>All-Wheel Drive</td>\n",
       "      <td>Automatic (AM6)</td>\n",
       "      <td>Premium Gasoline</td>\n",
       "      <td>6</td>\n",
       "      <td>3.8</td>\n",
       "      <td>79</td>\n",
       "      <td>0</td>\n",
       "      <td>16.4596</td>\n",
       "      <td>20.2988</td>\n",
       "      <td>22.5568</td>\n",
       "      <td>30.1798</td>\n",
       "      <td>18.7389</td>\n",
       "      <td>471</td>\n",
       "      <td>4</td>\n",
       "      <td>4</td>\n",
       "    </tr>\n",
       "    <tr>\n",
       "      <th>1</th>\n",
       "      <td>32205</td>\n",
       "      <td>Volkswagen</td>\n",
       "      <td>CC</td>\n",
       "      <td>2013</td>\n",
       "      <td>Compact Cars</td>\n",
       "      <td>Front-Wheel Drive</td>\n",
       "      <td>Automatic (AM-S6)</td>\n",
       "      <td>Premium Gasoline</td>\n",
       "      <td>4</td>\n",
       "      <td>2.0</td>\n",
       "      <td>94</td>\n",
       "      <td>0</td>\n",
       "      <td>21.8706</td>\n",
       "      <td>26.9770</td>\n",
       "      <td>31.0367</td>\n",
       "      <td>42.4936</td>\n",
       "      <td>25.2227</td>\n",
       "      <td>349</td>\n",
       "      <td>6</td>\n",
       "      <td>6</td>\n",
       "    </tr>\n",
       "    <tr>\n",
       "      <th>2</th>\n",
       "      <td>32206</td>\n",
       "      <td>Volkswagen</td>\n",
       "      <td>CC</td>\n",
       "      <td>2013</td>\n",
       "      <td>Compact Cars</td>\n",
       "      <td>Front-Wheel Drive</td>\n",
       "      <td>Automatic (S6)</td>\n",
       "      <td>Premium Gasoline</td>\n",
       "      <td>6</td>\n",
       "      <td>3.6</td>\n",
       "      <td>94</td>\n",
       "      <td>0</td>\n",
       "      <td>17.4935</td>\n",
       "      <td>21.2000</td>\n",
       "      <td>26.5716</td>\n",
       "      <td>35.1000</td>\n",
       "      <td>20.6716</td>\n",
       "      <td>429</td>\n",
       "      <td>5</td>\n",
       "      <td>5</td>\n",
       "    </tr>\n",
       "  </tbody>\n",
       "</table>\n",
       "</div>"
      ],
      "text/plain": [
       "      id        make model  year           VClass              drive  \\\n",
       "0  32204      Nissan  GT-R  2013  Subcompact Cars    All-Wheel Drive   \n",
       "1  32205  Volkswagen    CC  2013     Compact Cars  Front-Wheel Drive   \n",
       "2  32206  Volkswagen    CC  2013     Compact Cars  Front-Wheel Drive   \n",
       "\n",
       "               trans          fuelType  cylinders  displ  pv2  pv4     city  \\\n",
       "0    Automatic (AM6)  Premium Gasoline          6    3.8   79    0  16.4596   \n",
       "1  Automatic (AM-S6)  Premium Gasoline          4    2.0   94    0  21.8706   \n",
       "2     Automatic (S6)  Premium Gasoline          6    3.6   94    0  17.4935   \n",
       "\n",
       "     UCity  highway  UHighway     comb  co2  feScore  ghgScore  \n",
       "0  20.2988  22.5568   30.1798  18.7389  471        4         4  \n",
       "1  26.9770  31.0367   42.4936  25.2227  349        6         6  \n",
       "2  21.2000  26.5716   35.1000  20.6716  429        5         5  "
      ]
     },
     "execution_count": 18,
     "metadata": {},
     "output_type": "execute_result"
    }
   ],
   "source": [
    "fuel_econ = pd.read_csv('datasets/fuel-econ.csv')\n",
    "fuel_econ.head(3)"
   ]
  },
  {
   "cell_type": "code",
   "execution_count": null,
   "id": "724e8b29",
   "metadata": {},
   "outputs": [],
   "source": [
    "fuel_econ['trans_type'] = fuel_econ['trans'].str.split(' ')[0]"
   ]
  },
  {
   "cell_type": "code",
   "execution_count": 3,
   "id": "b046360e",
   "metadata": {},
   "outputs": [
    {
     "data": {
      "text/html": [
       "<div>\n",
       "<style scoped>\n",
       "    .dataframe tbody tr th:only-of-type {\n",
       "        vertical-align: middle;\n",
       "    }\n",
       "\n",
       "    .dataframe tbody tr th {\n",
       "        vertical-align: top;\n",
       "    }\n",
       "\n",
       "    .dataframe thead th {\n",
       "        text-align: right;\n",
       "    }\n",
       "</style>\n",
       "<table border=\"1\" class=\"dataframe\">\n",
       "  <thead>\n",
       "    <tr style=\"text-align: right;\">\n",
       "      <th></th>\n",
       "      <th>id</th>\n",
       "      <th>species</th>\n",
       "      <th>generation_id</th>\n",
       "      <th>height</th>\n",
       "      <th>weight</th>\n",
       "      <th>base_experience</th>\n",
       "      <th>type_1</th>\n",
       "      <th>type_2</th>\n",
       "      <th>hp</th>\n",
       "      <th>attack</th>\n",
       "      <th>defense</th>\n",
       "      <th>speed</th>\n",
       "      <th>special-attack</th>\n",
       "      <th>special-defense</th>\n",
       "    </tr>\n",
       "  </thead>\n",
       "  <tbody>\n",
       "    <tr>\n",
       "      <th>0</th>\n",
       "      <td>1</td>\n",
       "      <td>bulbasaur</td>\n",
       "      <td>1</td>\n",
       "      <td>0.7</td>\n",
       "      <td>6.9</td>\n",
       "      <td>64</td>\n",
       "      <td>grass</td>\n",
       "      <td>poison</td>\n",
       "      <td>45</td>\n",
       "      <td>49</td>\n",
       "      <td>49</td>\n",
       "      <td>45</td>\n",
       "      <td>65</td>\n",
       "      <td>65</td>\n",
       "    </tr>\n",
       "    <tr>\n",
       "      <th>1</th>\n",
       "      <td>2</td>\n",
       "      <td>ivysaur</td>\n",
       "      <td>1</td>\n",
       "      <td>1.0</td>\n",
       "      <td>13.0</td>\n",
       "      <td>142</td>\n",
       "      <td>grass</td>\n",
       "      <td>poison</td>\n",
       "      <td>60</td>\n",
       "      <td>62</td>\n",
       "      <td>63</td>\n",
       "      <td>60</td>\n",
       "      <td>80</td>\n",
       "      <td>80</td>\n",
       "    </tr>\n",
       "    <tr>\n",
       "      <th>2</th>\n",
       "      <td>3</td>\n",
       "      <td>venusaur</td>\n",
       "      <td>1</td>\n",
       "      <td>2.0</td>\n",
       "      <td>100.0</td>\n",
       "      <td>236</td>\n",
       "      <td>grass</td>\n",
       "      <td>poison</td>\n",
       "      <td>80</td>\n",
       "      <td>82</td>\n",
       "      <td>83</td>\n",
       "      <td>80</td>\n",
       "      <td>100</td>\n",
       "      <td>100</td>\n",
       "    </tr>\n",
       "  </tbody>\n",
       "</table>\n",
       "</div>"
      ],
      "text/plain": [
       "   id    species  generation_id  height  weight  base_experience type_1  \\\n",
       "0   1  bulbasaur              1     0.7     6.9               64  grass   \n",
       "1   2    ivysaur              1     1.0    13.0              142  grass   \n",
       "2   3   venusaur              1     2.0   100.0              236  grass   \n",
       "\n",
       "   type_2  hp  attack  defense  speed  special-attack  special-defense  \n",
       "0  poison  45      49       49     45              65               65  \n",
       "1  poison  60      62       63     60              80               80  \n",
       "2  poison  80      82       83     80             100              100  "
      ]
     },
     "execution_count": 3,
     "metadata": {},
     "output_type": "execute_result"
    }
   ],
   "source": [
    "pokemon = pd.read_csv('datasets/pokemon.csv')\n",
    "pokemon.head(3)"
   ]
  },
  {
   "cell_type": "markdown",
   "id": "f5194f39",
   "metadata": {},
   "source": [
    "**Using Shape or Size to encode a 3rd variable in a scatter plot**"
   ]
  },
  {
   "cell_type": "code",
   "execution_count": 5,
   "id": "9430b03e",
   "metadata": {},
   "outputs": [],
   "source": [
    "# taking a random sample of only 200 observations to avoid overplotting\n",
    "np.random.seed(2018)\n",
    "sample = np.random.choice(fuel_econ.shape[0], 200, replace=False)\n",
    "fuel_econ_subset = fuel_econ.loc[sample]"
   ]
  },
  {
   "cell_type": "code",
   "execution_count": 13,
   "id": "91cc5000",
   "metadata": {},
   "outputs": [
    {
     "data": {
      "image/png": "[encoded data removed]",
      "text/plain": [
       "<Figure size 432x288 with 1 Axes>"
      ]
     },
     "metadata": {
      "needs_background": "light"
     },
     "output_type": "display_data"
    }
   ],
   "source": [
    "sns.regplot(data=fuel_econ_subset, x='displ', y='comb', x_jitter=0.04, fit_reg=False)\n",
    "plt.xlabel('Engine-Size')\n",
    "plt.ylabel('Combined MPG');"
   ]
  },
  {
   "cell_type": "markdown",
   "id": "10d82785",
   "metadata": {},
   "source": [
    "So we're trying to use visualization to find out if there are differences between cars with automatic transmission and manual transmission in terms of fuel-efficiency and engine-size?\n",
    "\n",
    "Since transmission type is categorical, shape is the right encoding to use."
   ]
  },
  {
   "cell_type": "code",
   "execution_count": 17,
   "id": "8a3b0764",
   "metadata": {},
   "outputs": [
    {
     "data": {
      "text/plain": [
       "array(['Automatic (AM6)', 'Automatic (AM-S6)', 'Automatic (S6)',\n",
       "       'Automatic 8-spd', 'Manual 6-spd', 'Automatic 6-spd',\n",
       "       'Automatic (S5)', 'Automatic 7-spd', 'Automatic (AV-S6)',\n",
       "       'Automatic (S8)', 'Manual 7-spd', 'Automatic (AM-S7)',\n",
       "       'Automatic (S7)', 'Automatic (variable gear ratios)',\n",
       "       'Manual 5-spd', 'Automatic (AV-S8)', 'Automatic 4-spd',\n",
       "       'Automatic 5-spd', 'Automatic (AM7)', 'Automatic (AV-S7)',\n",
       "       'Automatic 9-spd', 'Automatic (AM-S8)', 'Automatic (A1)',\n",
       "       'Automatic (AM8)', 'Automatic (S9)', 'Automatic (S10)',\n",
       "       'Automatic (AV-S10)'], dtype=object)"
      ]
     },
     "execution_count": 17,
     "metadata": {},
     "output_type": "execute_result"
    }
   ],
   "source": []
  },
  {
   "cell_type": "code",
   "execution_count": 14,
   "id": "2ead0610",
   "metadata": {},
   "outputs": [],
   "source": [
    "ttype_markers = [['Automatic','o'],  # automatic types take circular shape o\n",
    "                ['Manual','^']]  # manual types take triangular shape caret ^"
   ]
  },
  {
   "cell_type": "code",
   "execution_count": 15,
   "id": "0109fb4e",
   "metadata": {},
   "outputs": [
    {
     "name": "stdout",
     "output_type": "stream",
     "text": [
      "Automatic o\n"
     ]
    }
   ],
   "source": [
    "for ttype, marker in ttype_markers:\n",
    "    plot_data = fuel_econ_subset.loc[fuel_econ_subset[]]"
   ]
  }
 ],
 "metadata": {
  "kernelspec": {
   "display_name": "Python 3 (ipykernel)",
   "language": "python",
   "name": "python3"
  },
  "language_info": {
   "codemirror_mode": {
    "name": "ipython",
    "version": 3
   },
   "file_extension": ".py",
   "mimetype": "text/x-python",
   "name": "python",
   "nbconvert_exporter": "python",
   "pygments_lexer": "ipython3",
   "version": "3.9.12"
  }
 },
 "nbformat": 4,
 "nbformat_minor": 5
}
