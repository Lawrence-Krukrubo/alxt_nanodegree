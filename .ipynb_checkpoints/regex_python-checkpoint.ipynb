{
 "cells": [
  {
   "cell_type": "code",
   "execution_count": 1,
   "id": "014def7e",
   "metadata": {},
   "outputs": [],
   "source": [
    "import re\n",
    "import seaborn as sns\n",
    "import numpy\n",
    "import os"
   ]
  },
  {
   "cell_type": "markdown",
   "id": "f9998737",
   "metadata": {},
   "source": [
    "[regex_one](https://regexone.com/lesson/matching_characters?)"
   ]
  },
  {
   "cell_type": "markdown",
   "id": "76add5da",
   "metadata": {},
   "source": [
    "### Matching Digits\n",
    "\n",
    "1. Match any digits in string"
   ]
  },
  {
   "cell_type": "code",
   "execution_count": 2,
   "id": "97e5831c",
   "metadata": {},
   "outputs": [],
   "source": [
    "string = 'hello123#9er3d7!'"
   ]
  },
  {
   "cell_type": "code",
   "execution_count": 3,
   "id": "3ea88a6b",
   "metadata": {},
   "outputs": [],
   "source": [
    "pattern = '\\d+'  \n",
    "\n",
    "# Note that \\d+ matches all numbers occurring contiguously in the string as one entity, \n",
    "# while \\d matches every number as an individual element in the returned list"
   ]
  },
  {
   "cell_type": "code",
   "execution_count": 4,
   "id": "679fcb81",
   "metadata": {},
   "outputs": [
    {
     "data": {
      "text/plain": [
       "['123', '9', '3', '7']"
      ]
     },
     "execution_count": 4,
     "metadata": {},
     "output_type": "execute_result"
    }
   ],
   "source": [
    "re.findall(pattern, string)"
   ]
  },
  {
   "cell_type": "code",
   "execution_count": 5,
   "id": "0a311a89",
   "metadata": {},
   "outputs": [
    {
     "data": {
      "text/plain": [
       "'123'"
      ]
     },
     "execution_count": 5,
     "metadata": {},
     "output_type": "execute_result"
    }
   ],
   "source": [
    "re.search(pattern, string).group()"
   ]
  },
  {
   "cell_type": "code",
   "execution_count": 6,
   "id": "01786fbe",
   "metadata": {},
   "outputs": [],
   "source": [
    "pattern = '\\d' "
   ]
  },
  {
   "cell_type": "code",
   "execution_count": 7,
   "id": "9d93cd03",
   "metadata": {},
   "outputs": [
    {
     "data": {
      "text/plain": [
       "['1', '2', '3', '9', '3', '7']"
      ]
     },
     "execution_count": 7,
     "metadata": {},
     "output_type": "execute_result"
    }
   ],
   "source": [
    "re.findall(pattern, string)"
   ]
  },
  {
   "cell_type": "code",
   "execution_count": 8,
   "id": "e6f419c2",
   "metadata": {},
   "outputs": [
    {
     "data": {
      "text/plain": [
       "'1'"
      ]
     },
     "execution_count": 8,
     "metadata": {},
     "output_type": "execute_result"
    }
   ],
   "source": [
    "re.search(pattern, string).group()"
   ]
  },
  {
   "cell_type": "markdown",
   "id": "765e1ef7",
   "metadata": {},
   "source": [
    "### Matching Any Character\n",
    "\n",
    "* Any character can be matched using the `.` wildcard metacharacter"
   ]
  },
  {
   "cell_type": "code",
   "execution_count": 9,
   "id": "18dc78d8",
   "metadata": {},
   "outputs": [],
   "source": [
    "pattern = '.'"
   ]
  },
  {
   "cell_type": "code",
   "execution_count": 10,
   "id": "2e6913d0",
   "metadata": {},
   "outputs": [
    {
     "data": {
      "text/plain": [
       "['h',\n",
       " 'e',\n",
       " 'l',\n",
       " 'l',\n",
       " 'o',\n",
       " '1',\n",
       " '2',\n",
       " '3',\n",
       " '#',\n",
       " '9',\n",
       " 'e',\n",
       " 'r',\n",
       " '3',\n",
       " 'd',\n",
       " '7',\n",
       " '!']"
      ]
     },
     "execution_count": 10,
     "metadata": {},
     "output_type": "execute_result"
    }
   ],
   "source": [
    "re.findall(pattern, string)"
   ]
  },
  {
   "cell_type": "code",
   "execution_count": 11,
   "id": "6c374f24",
   "metadata": {},
   "outputs": [
    {
     "data": {
      "text/plain": [
       "'h'"
      ]
     },
     "execution_count": 11,
     "metadata": {},
     "output_type": "execute_result"
    }
   ],
   "source": [
    "re.search(pattern, string).group()"
   ]
  },
  {
   "cell_type": "code",
   "execution_count": 12,
   "id": "2f5083b8",
   "metadata": {},
   "outputs": [],
   "source": [
    "# find first 3 characters in the string\n",
    "\n",
    "pattern = '...'"
   ]
  },
  {
   "cell_type": "code",
   "execution_count": 13,
   "id": "70ef130e",
   "metadata": {},
   "outputs": [
    {
     "data": {
      "text/plain": [
       "'hel'"
      ]
     },
     "execution_count": 13,
     "metadata": {},
     "output_type": "execute_result"
    }
   ],
   "source": [
    "re.search(pattern, string).group()"
   ]
  },
  {
   "cell_type": "code",
   "execution_count": 14,
   "id": "77c99cd3",
   "metadata": {},
   "outputs": [],
   "source": [
    "# find last 3 characters in the string next to the exclamation sign only\n",
    "\n",
    "pattern = '...\\!'"
   ]
  },
  {
   "cell_type": "code",
   "execution_count": 15,
   "id": "4eb08bbe",
   "metadata": {},
   "outputs": [
    {
     "data": {
      "text/plain": [
       "'3d7!'"
      ]
     },
     "execution_count": 15,
     "metadata": {},
     "output_type": "execute_result"
    }
   ],
   "source": [
    "re.search(pattern, string).group()"
   ]
  },
  {
   "cell_type": "markdown",
   "id": "e7fcfe2f",
   "metadata": {},
   "source": [
    "### Matching Specific Characters\n",
    "\n",
    "* There is a method for matching specific characters using regular expressions, by defining them inside square brackets. For example, the pattern `[abc]` will only match a single `a`, `b`, or `c` letter and nothing else."
   ]
  },
  {
   "cell_type": "code",
   "execution_count": 16,
   "id": "63403c54",
   "metadata": {},
   "outputs": [],
   "source": [
    "words = ['can', 'man', 'fan', 'dan', 'ran', 'pan']"
   ]
  },
  {
   "cell_type": "code",
   "execution_count": 17,
   "id": "06a7b097",
   "metadata": {},
   "outputs": [],
   "source": [
    "# now, let's define a pattern to match only the first three words\n",
    "\n",
    "pattern = '[cmf]an'  # meaning match words that start with either c,m,f and have `an` after that"
   ]
  },
  {
   "cell_type": "code",
   "execution_count": 18,
   "id": "0f5a4eb0",
   "metadata": {},
   "outputs": [],
   "source": [
    "def search(arr, p=pattern):\n",
    "    print(f'pattern: {p}\\n')\n",
    "    \n",
    "    for item in arr:\n",
    "        find = re.search(p, item)\n",
    "        if find:\n",
    "            print(item)"
   ]
  },
  {
   "cell_type": "code",
   "execution_count": 19,
   "id": "c1ab94bc",
   "metadata": {},
   "outputs": [
    {
     "name": "stdout",
     "output_type": "stream",
     "text": [
      "pattern: [cmf]an\n",
      "\n",
      "can\n",
      "man\n",
      "fan\n"
     ]
    }
   ],
   "source": [
    "search(words)"
   ]
  },
  {
   "cell_type": "markdown",
   "id": "994028f1",
   "metadata": {},
   "source": [
    "* **Using Inverse Expression:**\n",
    "\n",
    "We can use the inverse expression to select words that do not start with certain letters, but end with or have other letters...\n",
    "\n",
    "* for example: `'[^drp]an'` this pattern will find words that do not start with `d`, `r`, `p` yet have `an` after ward"
   ]
  },
  {
   "cell_type": "code",
   "execution_count": 20,
   "id": "0f2c5c99",
   "metadata": {},
   "outputs": [],
   "source": [
    "pattern = '[^drp]an'"
   ]
  },
  {
   "cell_type": "code",
   "execution_count": 21,
   "id": "b9048448",
   "metadata": {},
   "outputs": [
    {
     "name": "stdout",
     "output_type": "stream",
     "text": [
      "pattern: [^drp]an\n",
      "\n",
      "can\n",
      "man\n",
      "fan\n"
     ]
    }
   ],
   "source": [
    "search(words, pattern)"
   ]
  },
  {
   "cell_type": "markdown",
   "id": "5638707f",
   "metadata": {},
   "source": [
    "### Character Ranges:\n",
    "\n",
    "when using the square bracket notation, there is a shorthand for matching a character in list of sequential characters by using the dash to indicate a character range. For example, the pattern `[0-6]` will only match any single digit character from zero to six, and nothing else. And likewise, `[^n-p]` will only match any single character except for letters `n` to `p`."
   ]
  },
  {
   "cell_type": "code",
   "execution_count": 22,
   "id": "9d0de95a",
   "metadata": {},
   "outputs": [],
   "source": [
    "numstr = ['hello345', 'my542', 'go789', 'he349', 'her098', 'manny89']"
   ]
  },
  {
   "cell_type": "code",
   "execution_count": 23,
   "id": "3b7fe4a8",
   "metadata": {},
   "outputs": [],
   "source": [
    "pattern = '[0-6]..'  # match any single digit from 0 to 6"
   ]
  },
  {
   "cell_type": "code",
   "execution_count": 24,
   "id": "836610f0",
   "metadata": {},
   "outputs": [
    {
     "name": "stdout",
     "output_type": "stream",
     "text": [
      "pattern: [0-6]..\n",
      "\n",
      "hello345\n",
      "my542\n",
      "he349\n",
      "her098\n"
     ]
    }
   ],
   "source": [
    "search(numstr, pattern)"
   ]
  },
  {
   "cell_type": "markdown",
   "id": "ff1e3af2",
   "metadata": {},
   "source": [
    "Multiple character ranges can also be used in the same set of brackets, along with individual characters. An example of this is the alphanumeric `\\w` metacharacter which is equivalent to the character range `[A-Za-z0-9_]` and often used to match characters in English text."
   ]
  },
  {
   "cell_type": "code",
   "execution_count": 25,
   "id": "1a48411e",
   "metadata": {},
   "outputs": [],
   "source": [
    "words = ['Ana', 'Bob', 'Cpc', 'aax', 'bby' 'ccz']"
   ]
  },
  {
   "cell_type": "code",
   "execution_count": 26,
   "id": "e1cae4d3",
   "metadata": {},
   "outputs": [],
   "source": [
    "pattern = '[A-C]'"
   ]
  },
  {
   "cell_type": "code",
   "execution_count": 27,
   "id": "251a8487",
   "metadata": {},
   "outputs": [
    {
     "name": "stdout",
     "output_type": "stream",
     "text": [
      "pattern: [A-C]\n",
      "\n",
      "Ana\n",
      "Bob\n",
      "Cpc\n"
     ]
    }
   ],
   "source": [
    "search(words, pattern)"
   ]
  },
  {
   "cell_type": "markdown",
   "id": "7ee7a4a4",
   "metadata": {},
   "source": [
    "### Catching some zzz's\n",
    "\n",
    "One way that we can do this is to explicitly spell out exactly how many characters we want, eg. `\\d\\d\\d` which would match exactly three digits.\n",
    "\n",
    "A more convenient way is to specify how many repetitions of each character we want using the curly braces notation. For example, `a{3}` will match the `a` character exactly three times. Certain regular expression engines will even allow you to specify a range for this repetition such that `a{1,3}` will match the a character no more than 3 times, but no less than once for example.\n",
    "\n",
    "This quantifier can be used with any character, or special metacharacters, for example `w{3}` (three w's), `[wxy]{5}` (five characters, each of which can be `a` `w`, `x`, or `y`) and `.{2,6}` (between two and six of any character)."
   ]
  },
  {
   "cell_type": "code",
   "execution_count": 28,
   "id": "05fd54e1",
   "metadata": {},
   "outputs": [],
   "source": [
    "words = ['wazup1', 'wazzup2', 'wazzzup3', 'wazhupz', 'wazzzzzzzup7', 'wazzzzzup5']"
   ]
  },
  {
   "cell_type": "code",
   "execution_count": 29,
   "id": "e1a287d4",
   "metadata": {},
   "outputs": [],
   "source": [
    "# write a pattern to match the words with more than three z\n",
    "\n",
    "pattern = 'z{3}'"
   ]
  },
  {
   "cell_type": "code",
   "execution_count": 30,
   "id": "984a7691",
   "metadata": {},
   "outputs": [
    {
     "name": "stdout",
     "output_type": "stream",
     "text": [
      "pattern: z{3}\n",
      "\n",
      "wazzzup3\n",
      "wazzzzzzzup7\n",
      "wazzzzzup5\n"
     ]
    }
   ],
   "source": [
    "search(words, pattern)"
   ]
  },
  {
   "cell_type": "markdown",
   "id": "0e3f2c0b",
   "metadata": {},
   "source": [
    "### Kleene-Star, Kleene-Plus\n",
    "\n",
    "\n",
    "A powerful concept in regular expressions is the ability to match an arbitrary number of characters. For example, imagine that you wrote a form that has a donation field that takes a numerical value in dollars. A wealthy user may drop by and want to donate `$25,000`, while a normal user may want to donate `$25`.\n",
    "\n",
    "One way to express such a pattern would be to use what is known as the Kleene Star and the Kleene Plus, which essentially represents either 0 or more or 1 or more of the character that it follows (it always follows a character or group). For example, to match the donations above, we can use the pattern `\\d*` to match any number of digits, but a tighter regular expression would be `\\d+` which ensures that the input string has at least one digit.\n",
    "\n",
    "These quantifiers can be used with any character or special metacharacters, for example `a+` (one or more a's), `[abc]+` (one or more of any a, b, or c character) and `.*` (zero or more of any character)."
   ]
  },
  {
   "cell_type": "code",
   "execution_count": 31,
   "id": "a00a4a2a",
   "metadata": {},
   "outputs": [],
   "source": [
    "words = ['$25000', 'heroes', '$25', 'goons', 'N25000', '£25000', 'Y25', '$250', '$2.50']"
   ]
  },
  {
   "cell_type": "code",
   "execution_count": 32,
   "id": "3514d654",
   "metadata": {},
   "outputs": [],
   "source": [
    "pattern = '[$]\\d+'  # find the words that start with a dollar sign and any amt"
   ]
  },
  {
   "cell_type": "code",
   "execution_count": 33,
   "id": "96a706bc",
   "metadata": {},
   "outputs": [
    {
     "name": "stdout",
     "output_type": "stream",
     "text": [
      "pattern: [$]\\d+\n",
      "\n",
      "$25000\n",
      "$25\n",
      "$250\n",
      "$2.50\n"
     ]
    }
   ],
   "source": [
    "search(words, pattern)"
   ]
  },
  {
   "cell_type": "code",
   "execution_count": 34,
   "id": "db184f37",
   "metadata": {},
   "outputs": [],
   "source": [
    "pattern = '[$]\\d*'  # find the words that start with a dollar sign and any amt"
   ]
  },
  {
   "cell_type": "code",
   "execution_count": 35,
   "id": "3d01aba9",
   "metadata": {},
   "outputs": [
    {
     "name": "stdout",
     "output_type": "stream",
     "text": [
      "pattern: [$]\\d*\n",
      "\n",
      "$25000\n",
      "$25\n",
      "$250\n",
      "$2.50\n"
     ]
    }
   ],
   "source": [
    "search(words, pattern)"
   ]
  },
  {
   "cell_type": "code",
   "execution_count": 36,
   "id": "5481807e",
   "metadata": {},
   "outputs": [],
   "source": [
    "words = ['aaaabcc', 'aabbbbc', 'aacc', 'a', 'xyzzz', 'dfaaaku']"
   ]
  },
  {
   "cell_type": "code",
   "execution_count": 37,
   "id": "86409789",
   "metadata": {},
   "outputs": [],
   "source": [
    "pattern = 'a{2}.*'  # Find the words that have atleast 2 a's and print it,"
   ]
  },
  {
   "cell_type": "code",
   "execution_count": 38,
   "id": "0c85a43c",
   "metadata": {},
   "outputs": [
    {
     "name": "stdout",
     "output_type": "stream",
     "text": [
      "pattern: a{2}.*\n",
      "\n",
      "aaaabcc\n",
      "aabbbbc\n",
      "aacc\n",
      "dfaaaku\n"
     ]
    }
   ],
   "source": [
    "search(words, pattern)"
   ]
  },
  {
   "cell_type": "markdown",
   "id": "fb1aa5b8",
   "metadata": {},
   "source": [
    "### Optional Characters:\n",
    "\n",
    "Another quantifier that is really common when matching and extracting text is the `?` (question mark) metacharacter which denotes __optionality__. This metacharacter allows you to match either zero or one of the preceding character or group. For example, the pattern `ab?c` will match either the strings `\"abc\"` or `\"ac\"` because the `b` is considered optional.\n",
    "\n",
    "Similar to the dot metacharacter, the question mark is a special character and you will have to escape it using a slash `\\?` to match a plain question mark character in a string."
   ]
  },
  {
   "cell_type": "code",
   "execution_count": 39,
   "id": "3712af74",
   "metadata": {},
   "outputs": [],
   "source": [
    "words = ['1 file found?', '2 files found?', '24 files found?', 'no files found?', 'few files found']\n",
    "\n",
    "# Find only files that start with a number from the list of files."
   ]
  },
  {
   "cell_type": "code",
   "execution_count": 40,
   "id": "717cc31c",
   "metadata": {},
   "outputs": [],
   "source": [
    "pattern = r'\\d+ files? found\\?'"
   ]
  },
  {
   "cell_type": "code",
   "execution_count": 41,
   "id": "2bd0e1cc",
   "metadata": {},
   "outputs": [
    {
     "name": "stdout",
     "output_type": "stream",
     "text": [
      "pattern: \\d+ files? found\\?\n",
      "\n",
      "1 file found?\n",
      "2 files found?\n",
      "24 files found?\n"
     ]
    }
   ],
   "source": [
    "search(words, pattern)"
   ]
  },
  {
   "cell_type": "markdown",
   "id": "d0f3a479",
   "metadata": {},
   "source": [
    "### Dealing with WhiteSpaces:\n",
    "\n",
    "When dealing with real-world input, such as log files and even user input, it's difficult not to encounter whitespace. We use it to format pieces of information to make it easier to read and scan visually, and a single space can put a wrench into the simplest regular expression.\n",
    "\n",
    "The most common forms of whitespace you will use with regular expressions are the space `(␣)`, the tab `(\\t)`, the new line `(\\n)` and the carriage return `(\\r)` (useful in Windows environments), and these special characters match each of their respective whitespaces. In addition, a whitespace special character **`\\s`** will match any of the specific whitespaces above and is extremely useful when dealing with raw input text."
   ]
  },
  {
   "cell_type": "code",
   "execution_count": 42,
   "id": "35dc1ec3",
   "metadata": {},
   "outputs": [],
   "source": [
    "words = ['1. abc',\n",
    "        '2.  abc',\n",
    "        '13.           abc',\n",
    "        '4.abc']"
   ]
  },
  {
   "cell_type": "code",
   "execution_count": 43,
   "id": "0d6f3bc5",
   "metadata": {},
   "outputs": [],
   "source": [
    "pattern = r'\\d\\.\\s'"
   ]
  },
  {
   "cell_type": "code",
   "execution_count": 44,
   "id": "51a59a09",
   "metadata": {},
   "outputs": [
    {
     "name": "stdout",
     "output_type": "stream",
     "text": [
      "pattern: \\d\\.\\s\n",
      "\n",
      "1. abc\n",
      "2.  abc\n",
      "13.           abc\n"
     ]
    }
   ],
   "source": [
    "search(words, pattern)"
   ]
  },
  {
   "cell_type": "markdown",
   "id": "002e705f",
   "metadata": {},
   "source": [
    "### Starting and ending\n",
    "So far, we've been writing regular expressions that partially match pieces across all the text. Sometimes this isn't desirable, imagine for example we wanted to match the word `\"success\"` in a log file. We certainly don't want that pattern to match a line that says `\"Error: unsuccessful operation\"!` That is why it is often best practice to write as specific regular expressions as possible to ensure that we don't get false positives when matching against real world text.\n",
    "\n",
    "One way to tighten our patterns is to define a pattern that describes both the start and the end of the line using the special `^ (hat)` and `$ (dollar sign)` metacharacters. In the example above, we can use the pattern `^success` to match only a line that begins with the word `\"success\"`, but not the line `\"Error: unsuccessful operation\"`. And if you combine both the hat and the dollar sign, you create a pattern that matches the whole line completely at the beginning and end.\n",
    "\n",
    "Note that this is different than the hat used inside a set of bracket `[^...]` for excluding characters, which can be confusing when reading regular expressions."
   ]
  },
  {
   "cell_type": "markdown",
   "id": "d18cf42a",
   "metadata": {},
   "source": [
    "Let's match the text below that only says `mission: successful` and not any other status"
   ]
  },
  {
   "cell_type": "code",
   "execution_count": 45,
   "id": "9bd609e5",
   "metadata": {},
   "outputs": [],
   "source": [
    "words = ['Mission: Unsuccessful',\n",
    "        'Mission: Nearly successful',\n",
    "        'Mission: Successful upon target capture',\n",
    "         'Mission: Successful',\n",
    "        'Next Mission: Successfully thought through',\n",
    "         'Mission: successful',\n",
    "        'Next Mission: Likely successful',\n",
    "        'mission: Successful']"
   ]
  },
  {
   "cell_type": "code",
   "execution_count": 46,
   "id": "fb672f91",
   "metadata": {},
   "outputs": [],
   "source": [
    "pattern = '^[mM]ission:\\s[sS]uccessful$' "
   ]
  },
  {
   "cell_type": "code",
   "execution_count": 47,
   "id": "2e1056ad",
   "metadata": {},
   "outputs": [
    {
     "name": "stdout",
     "output_type": "stream",
     "text": [
      "pattern: ^[mM]ission:\\s[sS]uccessful$\n",
      "\n",
      "Mission: Successful\n",
      "Mission: successful\n",
      "mission: Successful\n"
     ]
    }
   ],
   "source": [
    "search(words, pattern)"
   ]
  },
  {
   "cell_type": "markdown",
   "id": "f316a139",
   "metadata": {},
   "source": [
    "### Match groups\n",
    "Regular expressions allow us to not just match text but also to extract information for further processing. This is done by defining groups of characters and capturing them using the special parentheses `( and )` metacharacters. Any subpattern inside a pair of parentheses will be captured as a group. In practice, this can be used to extract information like phone numbers or emails from all sorts of data.\n",
    "\n",
    "Imagine for example that you had a command line tool to list all the image files you have in the cloud. You could then use a pattern such as `^(IMG\\d+\\.png)$` to capture and extract the full filename, but if you only wanted to capture the filename without the extension, you could use the pattern `^(IMG\\d+)\\.png$` which only captures the part before the period."
   ]
  },
  {
   "cell_type": "markdown",
   "id": "da3f19d2",
   "metadata": {},
   "source": [
    "Let's use regex to find only files that start with `ju` and end with `.txt` in the datasets folder"
   ]
  },
  {
   "cell_type": "code",
   "execution_count": 48,
   "id": "619399d8",
   "metadata": {},
   "outputs": [
    {
     "name": "stdout",
     "output_type": "stream",
     "text": [
      "total files is: 46\n"
     ]
    }
   ],
   "source": [
    "dataset_files = os.listdir('datasets')\n",
    "print(f'total files is: {len(dataset_files)}')"
   ]
  },
  {
   "cell_type": "code",
   "execution_count": 49,
   "id": "2d2fe51a",
   "metadata": {},
   "outputs": [],
   "source": [
    "pattern = r'^ju.*\\.txt$'"
   ]
  },
  {
   "cell_type": "code",
   "execution_count": 50,
   "id": "d94d39c8",
   "metadata": {},
   "outputs": [
    {
     "name": "stdout",
     "output_type": "stream",
     "text": [
      "pattern: ^ju.*\\.txt$\n",
      "\n",
      "jul4.txt\n",
      "jul4merge.txt\n",
      "jul4zoom.txt\n",
      "june20.txt\n",
      "june27.txt\n"
     ]
    }
   ],
   "source": [
    "search(dataset_files, pattern)"
   ]
  },
  {
   "cell_type": "markdown",
   "id": "8d746dc6",
   "metadata": {},
   "source": [
    "Let's use regex to find only files that end with .csv in the datasets folder"
   ]
  },
  {
   "cell_type": "code",
   "execution_count": 51,
   "id": "7a93136f",
   "metadata": {},
   "outputs": [],
   "source": [
    "pattern = r'\\.csv$'"
   ]
  },
  {
   "cell_type": "code",
   "execution_count": 52,
   "id": "9840e693",
   "metadata": {},
   "outputs": [
    {
     "name": "stdout",
     "output_type": "stream",
     "text": [
      "pattern: \\.csv$\n",
      "\n",
      "12th_jul.csv\n",
      "17may_69_students.csv\n",
      "attendance_16thMay.csv\n",
      "attendance_condensed16thMay.csv\n",
      "fuel-econ.csv\n",
      "online-job-postings.csv\n",
      "p1_incomplete.csv\n",
      "p1_ungraded.csv\n",
      "p1_unsubs.csv\n",
      "pokemon.csv\n",
      "session-4356-report-5_15_2022.csv\n",
      "session-4356-report-5_17_2022.csv\n",
      "session-4356-report-6_1_2022.csv\n",
      "session-4356-report-6_21_2022.csv\n",
      "session-4356-report-6_7_2022.csv\n",
      "session-4356-report-7_12_2022.csv\n",
      "students.csv\n"
     ]
    }
   ],
   "source": [
    "search(dataset_files, pattern)"
   ]
  },
  {
   "cell_type": "markdown",
   "id": "a46b136a",
   "metadata": {},
   "source": [
    "Let's use regex to find only the files that begin with `session-` in the datasets folder"
   ]
  },
  {
   "cell_type": "code",
   "execution_count": 53,
   "id": "b5a85b2f",
   "metadata": {},
   "outputs": [],
   "source": [
    "pattern = r'^session'"
   ]
  },
  {
   "cell_type": "code",
   "execution_count": 54,
   "id": "8b32ece1",
   "metadata": {},
   "outputs": [
    {
     "name": "stdout",
     "output_type": "stream",
     "text": [
      "pattern: ^session\n",
      "\n",
      "session-4356-report-5_15_2022.csv\n",
      "session-4356-report-5_17_2022.csv\n",
      "session-4356-report-6_1_2022.csv\n",
      "session-4356-report-6_21_2022.csv\n",
      "session-4356-report-6_7_2022.csv\n",
      "session-4356-report-7_12_2022.csv\n",
      "sessions_data.ipynb\n"
     ]
    }
   ],
   "source": [
    "search(dataset_files, pattern)"
   ]
  },
  {
   "cell_type": "markdown",
   "id": "6b4886fc",
   "metadata": {},
   "source": [
    "Let's use regex to find the movies with digits in their names, without including the opening index numbers..."
   ]
  },
  {
   "cell_type": "code",
   "execution_count": 55,
   "id": "0da1a950",
   "metadata": {},
   "outputs": [
    {
     "name": "stdout",
     "output_type": "stream",
     "text": [
      "total movies is: 88\n"
     ]
    }
   ],
   "source": [
    "movies = os.listdir('datasets/ebert_reviews')\n",
    "print(f'total movies is: {len(movies)}')"
   ]
  },
  {
   "cell_type": "code",
   "execution_count": 100,
   "id": "b7f9c9c0",
   "metadata": {},
   "outputs": [
    {
     "name": "stdout",
     "output_type": "stream",
     "text": [
      "total posters is: 94\n"
     ]
    }
   ],
   "source": [
    "posters = os.listdir('datasets/bestofrt_posters')\n",
    "print(f'total posters is: {len(posters)}')"
   ]
  },
  {
   "cell_type": "code",
   "execution_count": 113,
   "id": "899504ea",
   "metadata": {},
   "outputs": [],
   "source": []
  },
  {
   "cell_type": "code",
   "execution_count": 114,
   "id": "8b8a3cac",
   "metadata": {},
   "outputs": [
    {
     "name": "stdout",
     "output_type": "stream",
     "text": [
      "pattern: (.*(\\d+))\n",
      "\n",
      "1-the-wizard-of-oz-1939-film.txt\n",
      "10-metropolis-1927-film.txt\n",
      "100-battleship-potemkin.txt\n",
      "11-e.t.-the-extra-terrestrial.txt\n",
      "12-modern-times-film.txt\n",
      "14-singin-in-the-rain.txt\n",
      "15-boyhood-film.txt\n",
      "16-casablanca-film.txt\n",
      "17-moonlight-2016-film.txt\n",
      "18-psycho-1960-film.txt\n",
      "19-laura-1944-film.txt\n",
      "2-citizen-kane.txt\n",
      "20-nosferatu.txt\n",
      "21-snow-white-and-the-seven-dwarfs-1937-film.txt\n",
      "22-a-hard-day27s-night-film.txt\n",
      "23-la-grande-illusion.txt\n",
      "25-the-battle-of-algiers.txt\n",
      "26-dunkirk-2017-film.txt\n",
      "27-the-maltese-falcon-1941-film.txt\n",
      "29-12-years-a-slave-film.txt\n",
      "3-the-third-man.txt\n",
      "30-gravity-2013-film.txt\n",
      "31-sunset-boulevard-film.txt\n",
      "32-king-kong-1933-film.txt\n",
      "33-spotlight-film.txt\n",
      "34-the-adventures-of-robin-hood.txt\n",
      "35-rashomon.txt\n",
      "36-rear-window.txt\n",
      "37-selma-film.txt\n",
      "38-taxi-driver.txt\n",
      "39-toy-story-3.txt\n",
      "4-get-out-film.txt\n",
      "40-argo-2012-film.txt\n",
      "41-toy-story-2.txt\n",
      "42-the-big-sick.txt\n",
      "43-bride-of-frankenstein.txt\n",
      "44-zootopia.txt\n",
      "45-m-1931-film.txt\n",
      "46-wonder-woman-2017-film.txt\n",
      "48-alien-film.txt\n",
      "49-bicycle-thieves.txt\n",
      "5-mad-max-fury-road.txt\n",
      "50-seven-samurai.txt\n",
      "51-the-treasure-of-the-sierra-madre-film.txt\n",
      "52-up-2009-film.txt\n",
      "53-12-angry-men-1957-film.txt\n",
      "54-the-400-blows.txt\n",
      "55-logan-film.txt\n",
      "57-army-of-shadows.txt\n",
      "58-arrival-film.txt\n",
      "59-baby-driver.txt\n",
      "6-the-cabinet-of-dr.-caligari.txt\n",
      "60-a-streetcar-named-desire-1951-film.txt\n",
      "61-the-night-of-the-hunter-film.txt\n",
      "62-star-wars-the-force-awakens.txt\n",
      "63-manchester-by-the-sea-film.txt\n",
      "64-dr.-strangelove.txt\n",
      "66-vertigo-film.txt\n",
      "67-the-dark-knight-film.txt\n",
      "68-touch-of-evil.txt\n",
      "69-the-babadook.txt\n",
      "7-all-about-eve.txt\n",
      "72-rosemary27s-baby-film.txt\n",
      "73-finding-nemo.txt\n",
      "74-brooklyn-film.txt\n",
      "75-the-wrestler-2008-film.txt\n",
      "77-l.a.-confidential-film.txt\n",
      "78-gone-with-the-wind-film.txt\n",
      "79-the-good-the-bad-and-the-ugly.txt\n",
      "8-inside-out-2015-film.txt\n",
      "80-skyfall.txt\n",
      "82-tokyo-story.txt\n",
      "83-hell-or-high-water-film.txt\n",
      "84-pinocchio-1940-film.txt\n",
      "85-the-jungle-book-2016-film.txt\n",
      "86-la-la-land-film.txt\n",
      "87-star-trek-film.txt\n",
      "89-apocalypse-now.txt\n",
      "9-the-godfather.txt\n",
      "90-on-the-waterfront.txt\n",
      "91-the-wages-of-fear.txt\n",
      "92-the-last-picture-show.txt\n",
      "93-harry-potter-and-the-deathly-hallows-part-2.txt\n",
      "94-the-grapes-of-wrath-film.txt\n",
      "96-man-on-wire.txt\n",
      "97-jaws-film.txt\n",
      "98-toy-story.txt\n",
      "99-the-godfather-part-ii.txt\n"
     ]
    }
   ],
   "source": [
    "search(movies, pattern)"
   ]
  },
  {
   "cell_type": "markdown",
   "id": "9b30f807",
   "metadata": {},
   "source": [
    "Let's use regex to capture the full names of all files ending with .png"
   ]
  },
  {
   "cell_type": "code",
   "execution_count": 101,
   "id": "fdba6e19",
   "metadata": {},
   "outputs": [],
   "source": [
    "pattern = '^(\\d+.*\\.png)$'"
   ]
  },
  {
   "cell_type": "code",
   "execution_count": 102,
   "id": "228677cb",
   "metadata": {},
   "outputs": [
    {
     "name": "stdout",
     "output_type": "stream",
     "text": [
      "pattern: ^(\\d+.*\\.png)$\n",
      "\n",
      "17_Moonlight_(2016_film).png\n",
      "21_Snow_White_and_the_Seven_Dwarfs_(1937_film).png\n",
      "4_Get_Out_(film).png\n",
      "83_Hell_or_High_Water_(film).png\n",
      "86_La_La_Land_(film).png\n"
     ]
    }
   ],
   "source": [
    "search(posters, pattern)"
   ]
  },
  {
   "cell_type": "code",
   "execution_count": 103,
   "id": "98b7e7cd",
   "metadata": {},
   "outputs": [],
   "source": [
    "pattern = '^(\\d+.*)\\.png$'"
   ]
  },
  {
   "cell_type": "code",
   "execution_count": 104,
   "id": "35761ede",
   "metadata": {},
   "outputs": [
    {
     "name": "stdout",
     "output_type": "stream",
     "text": [
      "pattern: ^(\\d+.*)\\.png$\n",
      "\n",
      "17_Moonlight_(2016_film).png\n",
      "21_Snow_White_and_the_Seven_Dwarfs_(1937_film).png\n",
      "4_Get_Out_(film).png\n",
      "83_Hell_or_High_Water_(film).png\n",
      "86_La_La_Land_(film).png\n"
     ]
    }
   ],
   "source": [
    "search(posters, pattern)"
   ]
  },
  {
   "cell_type": "markdown",
   "id": "59ca2553",
   "metadata": {},
   "source": [
    "### Nested groups\n",
    "When you are working with complex data, you can easily find yourself having to extract multiple layers of information, which can result in nested groups. Generally, the results of the captured groups are in the order in which they are defined (in order by open parenthesis).\n",
    "\n",
    "Take the example from the previous lesson, of capturing the filenames of all the image files you have in a list. If each of these image files had a sequential picture number in the filename, you could extract both the filename and the picture number using the same pattern by writing an expression like `^(IMG(\\d+))\\.png$` (using a nested parenthesis to capture the digits).\n",
    "\n",
    "The nested groups are read from left to right in the pattern, with the first capture group being the contents of the first parentheses group, etc.\n",
    "\n",
    "**[Link](https://regexone.com/lesson/nested_groups?)**"
   ]
  },
  {
   "cell_type": "markdown",
   "id": "13312441",
   "metadata": {},
   "source": [
    "### Conditionals\n",
    "\n",
    "As we mentioned before, it's always good to be **precise**, and that applies to coding, talking, and even regular expressions. For example, you wouldn't write a grocery list for someone to Buy more .* because you would have no idea what you could get back. Instead you would write Buy more milk or Buy more bread, and in regular expressions, we can actually define these conditionals explicitly.\n",
    "\n",
    "Specifically when using groups, you can use the `|` `(logical OR, aka. the pipe)` to denote different possible sets of characters. In the above example, I can write the pattern \"Buy more (milk|bread|juice)\" to match only the strings Buy more milk, Buy more bread, or Buy more juice.\n",
    "\n",
    "Like normal groups, you can use any sequence of characters or metacharacters in a condition, for example, `([cb]ats*|[dh]ogs?)` would match either cats or bats, or, dogs or hogs. Writing patterns with many conditions can be hard to read, so you should consider making them separate patterns if they get too complex."
   ]
  },
  {
   "cell_type": "code",
   "execution_count": 116,
   "id": "0f155a68",
   "metadata": {},
   "outputs": [],
   "source": [
    "words = ['I love cats',\n",
    "        'I love dogs',\n",
    "        'I love logs',\n",
    "        'I love cogs',\n",
    "        'I love cots',\n",
    "        'I love bags']"
   ]
  },
  {
   "cell_type": "code",
   "execution_count": 117,
   "id": "46c6b6a6",
   "metadata": {},
   "outputs": [],
   "source": [
    "# Write a pattern that captures I love bags, cats and dogs only from the words above."
   ]
  },
  {
   "cell_type": "code",
   "execution_count": 124,
   "id": "9c77d0b5",
   "metadata": {},
   "outputs": [],
   "source": [
    "pattern = '([cb]a|[d]ogs)'"
   ]
  },
  {
   "cell_type": "code",
   "execution_count": 125,
   "id": "b19b5285",
   "metadata": {},
   "outputs": [
    {
     "name": "stdout",
     "output_type": "stream",
     "text": [
      "pattern: ([cb]a|[d]ogs)\n",
      "\n",
      "I love cats\n",
      "I love dogs\n",
      "I love bags\n"
     ]
    }
   ],
   "source": [
    "search(words, pattern)"
   ]
  },
  {
   "cell_type": "markdown",
   "id": "82648d09",
   "metadata": {},
   "source": [
    "### Other special characters\n",
    "This lesson will cover some extra metacharacters, as well as the results of captured groups.\n",
    "\n",
    "We have already learned the most common metacharacters to capture \n",
    "\n",
    "* digits using `\\d`, \n",
    "* whitespace using `\\s`, and \n",
    "* alphanumeric letters and digits using `\\w`, \n",
    "\n",
    "but regular expressions also provides a way of specifying the opposite sets of each of these metacharacters by using their upper case letters. For example, \n",
    "\n",
    "* `\\D` represents any non-digit character, \n",
    "* `\\S` any non-whitespace character, and \n",
    "* `\\W` any non-alphanumeric character (such as punctuation). \n",
    "\n",
    "Depending on how you compose your regular expression, it may be easier to use one or the other.\n",
    "\n",
    "Additionally, there is a special metacharacter `\\b` which matches the boundary between a word and a non-word character. It's most useful in capturing entire words (for example by using the pattern `\\w+\\b`)."
   ]
  },
  {
   "cell_type": "markdown",
   "id": "75b32e08",
   "metadata": {},
   "source": [
    "### Additional Problems:\n",
    "\n",
    "**[Link](https://regexone.com/problem/matching_decimal_numbers)**"
   ]
  },
  {
   "cell_type": "code",
   "execution_count": null,
   "id": "96617d0a",
   "metadata": {},
   "outputs": [],
   "source": []
  },
  {
   "cell_type": "code",
   "execution_count": null,
   "id": "784a8a79",
   "metadata": {},
   "outputs": [],
   "source": []
  },
  {
   "cell_type": "code",
   "execution_count": null,
   "id": "4f4f269d",
   "metadata": {},
   "outputs": [],
   "source": []
  }
 ],
 "metadata": {
  "kernelspec": {
   "display_name": "Python 3 (ipykernel)",
   "language": "python",
   "name": "python3"
  },
  "language_info": {
   "codemirror_mode": {
    "name": "ipython",
    "version": 3
   },
   "file_extension": ".py",
   "mimetype": "text/x-python",
   "name": "python",
   "nbconvert_exporter": "python",
   "pygments_lexer": "ipython3",
   "version": "3.9.12"
  }
 },
 "nbformat": 4,
 "nbformat_minor": 5
}
