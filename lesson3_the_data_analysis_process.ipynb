{
 "cells": [
  {
   "cell_type": "markdown",
   "id": "atmospheric-prisoner",
   "metadata": {},
   "source": [
    "<h1>The Data Analysis Process</h1>\n",
    "\n",
    "* Question:\n",
    "* Wrangle\n",
    "* Explore\n",
    "* Draw Conclusions\n",
    "* Communicate"
   ]
  },
  {
   "cell_type": "markdown",
   "id": "partial-fiction",
   "metadata": {},
   "source": [
    "1. <h3>Question:</h3>\n",
    "* What am I trying to find out?\n",
    "* Is there a problem I'm trying to solve?\n",
    "\n",
    "2. <h3>Wrangle:</h3>\n",
    "* Gather your data\n",
    "* Assess the data\n",
    "* Clean the data\n",
    "\n",
    "3. <h3>Explore:</h3>\n",
    "<b>Exploratory Data Analysis(EDA):</b> \n",
    "This is about exploring and augmenting your data to maximise the potentials of your analysis, visualizations and models.\n",
    "\n",
    "Exploring involves: \n",
    "\n",
    "* Finding patterns in the data, \n",
    "* Visualizing relationships in the data and \n",
    "* Building intuitions about what we're working with.\n",
    "* Feature Engineering\n",
    "\n",
    "4. <h3>Draw Conclusions:</h3>\n",
    "Here, we can draw conclusions or even make predictions\n",
    "\n",
    "5. <h3>Communicate Your Findings:</h3>\n",
    "Your analysis is only as valuable as your ability to communicate it.<br>Regardless of your method of communication whether via text, video, articles, blog post, do note that data visualization will always be a valuable tool to use. "
   ]
  },
  {
   "cell_type": "markdown",
   "id": "temporal-climb",
   "metadata": {},
   "source": [
    "<h3>The first step of the data analysis process is asking questions. Sometimes we ask questions first and get our data later and other times we get the data first and ask questions based on it.</h3>"
   ]
  },
  {
   "cell_type": "code",
   "execution_count": 3,
   "id": "caroline-episode",
   "metadata": {},
   "outputs": [
    {
     "name": "stdout",
     "output_type": "stream",
     "text": [
      "lesson3_the_data_analysis_process.ipynb\n"
     ]
    }
   ],
   "source": []
  },
  {
   "cell_type": "code",
   "execution_count": null,
   "id": "starting-italy",
   "metadata": {},
   "outputs": [],
   "source": []
  }
 ],
 "metadata": {
  "kernelspec": {
   "display_name": "Python 3",
   "language": "python",
   "name": "python3"
  },
  "language_info": {
   "codemirror_mode": {
    "name": "ipython",
    "version": 3
   },
   "file_extension": ".py",
   "mimetype": "text/x-python",
   "name": "python",
   "nbconvert_exporter": "python",
   "pygments_lexer": "ipython3",
   "version": "3.8.5"
  }
 },
 "nbformat": 4,
 "nbformat_minor": 5
}
