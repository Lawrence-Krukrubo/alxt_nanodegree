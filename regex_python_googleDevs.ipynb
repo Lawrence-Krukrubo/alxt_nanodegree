{
 "cells": [
  {
   "cell_type": "markdown",
   "id": "7879c301",
   "metadata": {},
   "source": [
    "**[REGEX_Google_Devs](https://developers.google.com/edu/python/regular-expressions)**"
   ]
  },
  {
   "cell_type": "code",
   "execution_count": 1,
   "id": "3359af23",
   "metadata": {},
   "outputs": [],
   "source": [
    "import re\n",
    "import os\n",
    "import numpy"
   ]
  },
  {
   "cell_type": "code",
   "execution_count": 2,
   "id": "f6f8214b",
   "metadata": {},
   "outputs": [
    {
     "name": "stdout",
     "output_type": "stream",
     "text": [
      "found word:cat\n"
     ]
    }
   ],
   "source": [
    "str = 'an example word:cat!!'\n",
    "\n",
    "match = re.search(r'word:\\w\\w\\w', str)\n",
    "# If-statement after search() tests if it succeeded\n",
    "if match:\n",
    "    print('found', match.group()) ## 'found word:cat'\n",
    "else:\n",
    "    print('did not find')"
   ]
  },
  {
   "cell_type": "markdown",
   "id": "c8c1fd04",
   "metadata": {},
   "source": [
    "The code `match = re.search(pat, str)` stores the search result in a variable named `\"match\"`. Then the `if-statement` tests the match -- if true the search succeeded and `match.group()` is the matching text (e.g. `'word:cat'`). Otherwise if the match is false (None to be more specific), then the search did not succeed, and there is no matching text.\n",
    "\n",
    "The `'r'` at the start of the pattern string designates a python \"raw\" string which passes through backslashes without change which is very handy for regular expressions"
   ]
  },
  {
   "cell_type": "markdown",
   "id": "d178922a",
   "metadata": {},
   "source": [
    "### Basic Patterns\n",
    "The power of regular expressions is that they can specify patterns, not just fixed characters. Here are the most basic patterns which match single chars:\n",
    "\n",
    "a, X, 9, < -- ordinary characters just match themselves exactly. The meta-characters which do not match themselves because they have special meanings are: . ^ $ * + ? { [ ] \\ | ( ) (details below)\n",
    "\n",
    "`.` (a period) -- matches any single character except newline `'\\n'`\n",
    "\n",
    "`\\w` -- (lowercase w) matches a \"word\" character: a letter or digit or underbar `[a-zA-Z0-9_]`. Note that although \"word\" is the mnemonic for this, it only matches a single word char, not a whole word. `\\W` (upper case W) matches any non-word character.\n",
    "\n",
    "`\\b` -- boundary between word and non-word\n",
    "\n",
    "`\\s` -- (lowercase s) matches a single whitespace character -- space, newline, return, tab, form `[ \\n\\r\\t\\f]`. `\\S` (upper case S) matches any non-whitespace character.\n",
    "\n",
    "`\\t`, `\\n`, `\\r` -- tab, newline, return\n",
    "\n",
    "`\\d` -- decimal digit `[0-9]` (some older regex utilities do not support `\\d`, but they all support `\\w` and `\\s`)\n",
    "\n",
    "`^` = start, `$` = end -- match the start or end of the string\n",
    "\n",
    "`\\` -- inhibit the \"specialness\" of a character. So, for example, use `\\.` to match a period or `\\\\` to match a slash. If you are unsure if a character has special meaning, such as `'@'`, you can try putting a slash in front of it, `\\@`. If its not a valid escape sequence, like `\\c`, your python program will halt with an error."
   ]
  },
  {
   "cell_type": "markdown",
   "id": "0a1e68ab",
   "metadata": {},
   "source": [
    "### Basic rules of Regex\n",
    "\n",
    "The basic rules of regular expression search for a pattern within a string are:\n",
    "\n",
    "* The search proceeds through the string from start to end, stopping at the first match found\n",
    "* All of the pattern must be matched, but not all of the string\n",
    "* If `match = re.search(pat, str)` is successful, match is not None and in particular `match.group()` is the matching text"
   ]
  },
  {
   "cell_type": "code",
   "execution_count": 3,
   "id": "c3c2027f",
   "metadata": {},
   "outputs": [
    {
     "data": {
      "text/plain": [
       "'iii'"
      ]
     },
     "execution_count": 3,
     "metadata": {},
     "output_type": "execute_result"
    }
   ],
   "source": [
    "## Search for pattern 'iii' in string 'piiig'.\n",
    "## All of the pattern must match, but it may appear anywhere.\n",
    "## On success, match.group() is matched text.\n",
    "\n",
    "match = re.search(r'iii', 'piiig') # found, match.group() == \"iii\"\n",
    "match.group()"
   ]
  },
  {
   "cell_type": "code",
   "execution_count": 4,
   "id": "f026dac2",
   "metadata": {},
   "outputs": [
    {
     "name": "stdout",
     "output_type": "stream",
     "text": [
      "None\n"
     ]
    }
   ],
   "source": [
    "match = re.search(r'igs', 'piiig') # not found, match == None\n",
    "if not match:\n",
    "    print(None)\n",
    "else:\n",
    "    print(match.group())"
   ]
  },
  {
   "cell_type": "code",
   "execution_count": 5,
   "id": "f4a3dea8",
   "metadata": {},
   "outputs": [
    {
     "data": {
      "text/plain": [
       "'iig'"
      ]
     },
     "execution_count": 5,
     "metadata": {},
     "output_type": "execute_result"
    }
   ],
   "source": [
    "## . = any char but \\n\n",
    "\n",
    "match = re.search(r'..g', 'piiig') # found, match.group() == \"iig\"\n",
    "match.group()"
   ]
  },
  {
   "cell_type": "code",
   "execution_count": 6,
   "id": "680ba1a0",
   "metadata": {},
   "outputs": [
    {
     "data": {
      "text/plain": [
       "'123'"
      ]
     },
     "execution_count": 6,
     "metadata": {},
     "output_type": "execute_result"
    }
   ],
   "source": [
    "## \\d = digit char, \n",
    "\n",
    "match = re.search(r'\\d\\d\\d', 'p123g') # found, match.group() == \"123\"\n",
    "match.group()"
   ]
  },
  {
   "cell_type": "code",
   "execution_count": 7,
   "id": "f1c96600",
   "metadata": {},
   "outputs": [],
   "source": [
    "def test_():\n",
    "    if not match:\n",
    "        print(None)\n",
    "    else:\n",
    "        print(match.group())"
   ]
  },
  {
   "cell_type": "code",
   "execution_count": 8,
   "id": "7822dfcf",
   "metadata": {},
   "outputs": [
    {
     "name": "stdout",
     "output_type": "stream",
     "text": [
      "None\n"
     ]
    }
   ],
   "source": [
    "## \\d = digit char, \n",
    "\n",
    "match = re.search(r'\\d\\d\\d', 'p12g9') # found, match.group() == None\n",
    "test_()"
   ]
  },
  {
   "cell_type": "code",
   "execution_count": 9,
   "id": "195c7e4b",
   "metadata": {},
   "outputs": [
    {
     "name": "stdout",
     "output_type": "stream",
     "text": [
      "a_b\n"
     ]
    }
   ],
   "source": [
    "# \\w = word char alphanumeric and underscore\n",
    "\n",
    "match = re.search(r'\\w\\w\\w', '@@a_bcd!!') # found, match.group() == \"a_b\"\n",
    "test_()"
   ]
  },
  {
   "cell_type": "markdown",
   "id": "81abcdb1",
   "metadata": {},
   "source": [
    "### Repetition\n",
    "Things get more interesting when you use `+` and `*` to specify repetition in the pattern\n",
    "\n",
    "`+`: 1 or more occurrences of the pattern to its left, e.g. `'i+'` = one or more `i's`\n",
    "\n",
    "`*`: 0 or more occurrences of the pattern to its left\n",
    "\n",
    "`?`: match 0 or 1 occurrences of the pattern to its left\n",
    "\n",
    "#### Leftmost & Largest\n",
    "First the search finds the leftmost match for the pattern, and second it tries to use up as much of the string as possible -- i.e. `+` and `*` go as far as possible (the `+` and `*` are said to be \"greedy\")."
   ]
  },
  {
   "cell_type": "code",
   "execution_count": 10,
   "id": "755f1a75",
   "metadata": {},
   "outputs": [
    {
     "data": {
      "text/plain": [
       "'piii'"
      ]
     },
     "execution_count": 10,
     "metadata": {},
     "output_type": "execute_result"
    }
   ],
   "source": [
    "## i+ = one or more i's, as many as possible.\n",
    "\n",
    "match = re.search(r'pi+', 'piiig') # found, match.group() == \"piii\"\n",
    "match.group()"
   ]
  },
  {
   "cell_type": "code",
   "execution_count": 11,
   "id": "1bdc880a",
   "metadata": {},
   "outputs": [
    {
     "data": {
      "text/plain": [
       "'ii'"
      ]
     },
     "execution_count": 11,
     "metadata": {},
     "output_type": "execute_result"
    }
   ],
   "source": [
    "## Finds the first/leftmost solution, and within it drives the +\n",
    "## as far as possible (aka 'leftmost and largest').\n",
    "## In this example, note that it does not get to the second set of i's.\n",
    "\n",
    "match = re.search(r'i+', 'piigiiii') # found, match.group() == \"ii\"\n",
    "match.group()"
   ]
  },
  {
   "cell_type": "code",
   "execution_count": 12,
   "id": "6fecc16e",
   "metadata": {},
   "outputs": [
    {
     "data": {
      "text/plain": [
       "'1 2   3'"
      ]
     },
     "execution_count": 12,
     "metadata": {},
     "output_type": "execute_result"
    }
   ],
   "source": [
    "## \\s* = zero or more whitespace chars\n",
    "## Here look for 3 digits, possibly separated by whitespace.\n",
    "\n",
    "match = re.search(r'\\d\\s*\\d\\s*\\d', 'xx1 2   3xx') # found, match.group() == \"1 2   3\"\n",
    "match.group()"
   ]
  },
  {
   "cell_type": "code",
   "execution_count": 13,
   "id": "7089410b",
   "metadata": {},
   "outputs": [
    {
     "data": {
      "text/plain": [
       "'12  3'"
      ]
     },
     "execution_count": 13,
     "metadata": {},
     "output_type": "execute_result"
    }
   ],
   "source": [
    "match = re.search(r'\\d\\s*\\d\\s*\\d', 'xx12  3xx') # found, match.group() == \"12  3\"\n",
    "match.group()"
   ]
  },
  {
   "cell_type": "code",
   "execution_count": 14,
   "id": "6c2ae001",
   "metadata": {},
   "outputs": [
    {
     "data": {
      "text/plain": [
       "'123'"
      ]
     },
     "execution_count": 14,
     "metadata": {},
     "output_type": "execute_result"
    }
   ],
   "source": [
    "match = re.search(r'\\d\\s*\\d\\s*\\d', 'xx123xx') # found, match.group() == \"123\"\n",
    "match.group()"
   ]
  },
  {
   "cell_type": "code",
   "execution_count": 15,
   "id": "983b3040",
   "metadata": {},
   "outputs": [
    {
     "name": "stdout",
     "output_type": "stream",
     "text": [
      "None\n"
     ]
    }
   ],
   "source": [
    "## ^ = matches the start of string, so this fails:\n",
    "\n",
    "match = re.search(r'^b\\w+', 'foobar') # not found, match == None\n",
    "test_()"
   ]
  },
  {
   "cell_type": "code",
   "execution_count": 16,
   "id": "f2bfbee1",
   "metadata": {},
   "outputs": [
    {
     "name": "stdout",
     "output_type": "stream",
     "text": [
      "bar\n"
     ]
    }
   ],
   "source": [
    "## but without the ^ it succeeds:\n",
    "\n",
    "match = re.search(r'b\\w+', 'foobar') # found, match.group() == \"bar\"\n",
    "test_()"
   ]
  },
  {
   "cell_type": "markdown",
   "id": "4b665f05",
   "metadata": {},
   "source": [
    "### Emails Example\n",
    "Suppose you want to find the email address inside the string `'xyz alice-b@google.com purple monkey'`. We'll use this as a running example to demonstrate more regular expression features. Here's an attempt using the pattern `r'\\w+@\\w+'`:"
   ]
  },
  {
   "cell_type": "code",
   "execution_count": 17,
   "id": "1e42319b",
   "metadata": {},
   "outputs": [
    {
     "name": "stdout",
     "output_type": "stream",
     "text": [
      "b@google\n"
     ]
    }
   ],
   "source": [
    "str = 'purple alice-b@google.com monkey dishwasher'\n",
    "match = re.search(r'\\w+@\\w+', str)\n",
    "test_() ## 'b@google'"
   ]
  },
  {
   "cell_type": "markdown",
   "id": "5a77e2cd",
   "metadata": {},
   "source": [
    "The search does not get the whole email address in this case because the `\\w` does not match the `'-'` or `'.'` in the address. We'll fix this using the regular expression features below."
   ]
  },
  {
   "cell_type": "markdown",
   "id": "624339cb",
   "metadata": {},
   "source": [
    "### Square Brackets\n",
    "\n",
    "Square brackets can be used to indicate a set of chars, so `[abc]` matches `'a'` or `'b'` or `'c'`. The codes `\\w`, `\\s` etc. work inside square brackets too with the one exception that dot (`.`) just means a literal dot. For the emails problem, the square brackets are an easy way to add `'.'` and `'-'` to the set of chars which can appear around the `@` with the pattern `r'[\\w.-]+@[\\w.-]+'` to get the whole email address:"
   ]
  },
  {
   "cell_type": "code",
   "execution_count": 18,
   "id": "932a5226",
   "metadata": {},
   "outputs": [
    {
     "name": "stdout",
     "output_type": "stream",
     "text": [
      "alice-b@google.com\n"
     ]
    }
   ],
   "source": [
    "match = re.search(r'[\\w.-]+@[\\w.-]+', str)\n",
    "test_()  ## 'alice-b@google.com'"
   ]
  },
  {
   "cell_type": "markdown",
   "id": "755fc21a",
   "metadata": {},
   "source": [
    "### More square-bracket features\n",
    "\n",
    "You can also use a dash to indicate a range, so `[a-z]` matches all lowercase letters. To use a dash without indicating a range, put the dash last, e.g. `[abc-]`. An up-hat (`^`) at the start of a square-bracket set inverts it, so `[^ab]` means any char except `'a'` or `'b'`."
   ]
  },
  {
   "cell_type": "markdown",
   "id": "6f1fa259",
   "metadata": {},
   "source": [
    "### Group Extraction\n",
    "The \"group\" feature of a regular expression allows you to pick out parts of the matching text. Suppose for the emails problem that we want to extract the username and host separately. To do this, add parenthesis ( ) around the username and host in the pattern, like this: `r'([\\w.-]+)@([\\w.-]+)'`. In this case, the parenthesis do not change what the pattern will match, instead they establish logical \"groups\" inside of the match text. On a successful search, `match.group(1)` is the match text corresponding to the 1st left parenthesis, and `match.group(2)` is the text corresponding to the 2nd left parenthesis. The plain `match.group()` is still the whole match text as usual."
   ]
  },
  {
   "cell_type": "code",
   "execution_count": 19,
   "id": "8e02043b",
   "metadata": {},
   "outputs": [],
   "source": [
    "str = 'purple alice-b@google.com monkey dishwasher'"
   ]
  },
  {
   "cell_type": "code",
   "execution_count": 20,
   "id": "3ad272af",
   "metadata": {},
   "outputs": [
    {
     "name": "stdout",
     "output_type": "stream",
     "text": [
      "alice-b@google.com\n",
      "alice-b\n",
      "google.com\n"
     ]
    }
   ],
   "source": [
    "match = re.search(r'([\\w.-]+)@([\\w.-]+)', str)\n",
    "\n",
    "if match:\n",
    "    print(match.group())   ## 'alice-b@google.com' (the whole match)\n",
    "    print(match.group(1))  ## 'alice-b' (the username, group 1)\n",
    "    print(match.group(2))  ## 'google.com' (the host, group 2)"
   ]
  },
  {
   "cell_type": "markdown",
   "id": "7b64055b",
   "metadata": {},
   "source": [
    "A common workflow with regular expressions is that you write a pattern for the thing you are looking for, adding parenthesis groups to extract the parts you want."
   ]
  },
  {
   "cell_type": "markdown",
   "id": "02c88292",
   "metadata": {},
   "source": [
    "### findall\n",
    "`findall()` is probably the single most powerful function in the `re` module. Above we used `re.search()` to find the first match for a pattern. `findall()` finds `*all*` the matches and returns them as a list of strings, with each string representing one match."
   ]
  },
  {
   "cell_type": "code",
   "execution_count": 21,
   "id": "8170c13b",
   "metadata": {},
   "outputs": [],
   "source": [
    "## Suppose we have a text with many email addresses\n",
    "\n",
    "str = 'purple alice@google.com, blah monkey bob@abc.com blah dishwasher'"
   ]
  },
  {
   "cell_type": "code",
   "execution_count": 22,
   "id": "b74d8475",
   "metadata": {},
   "outputs": [],
   "source": [
    "## Here re.findall() returns a list of all the found email strings\n",
    "\n",
    "emails = re.findall(r'[\\w.-]+@[\\w.-]+', str) ## ['alice@google.com', 'bob@abc.com']"
   ]
  },
  {
   "cell_type": "code",
   "execution_count": 23,
   "id": "1e0ed83c",
   "metadata": {},
   "outputs": [
    {
     "name": "stdout",
     "output_type": "stream",
     "text": [
      "alice@google.com\n",
      "bob@abc.com\n"
     ]
    }
   ],
   "source": [
    "for email in emails:\n",
    "# do something with each found email string\n",
    "    print(email)"
   ]
  },
  {
   "cell_type": "markdown",
   "id": "81975706",
   "metadata": {},
   "source": [
    "### findall With Files\n",
    "For files, you may be in the habit of writing a loop to iterate over the lines of the file, and you could then call `findall()` on each line. Instead, let `findall()` do the iteration for you -- much better! Just feed the whole file text into `findall()` and let it return a list of all the matches in a single step (recall that `f.read()` returns the whole text of a file in a single string):"
   ]
  },
  {
   "cell_type": "code",
   "execution_count": 24,
   "id": "3bf6d584",
   "metadata": {},
   "outputs": [],
   "source": [
    "txt_file = 'datasets/students.csv'"
   ]
  },
  {
   "cell_type": "code",
   "execution_count": 25,
   "id": "c6620a94",
   "metadata": {},
   "outputs": [],
   "source": [
    "with open(txt_file, 'r', encoding='utf8') as file:\n",
    "    data = file.read()"
   ]
  },
  {
   "cell_type": "markdown",
   "id": "ca917cf3",
   "metadata": {},
   "source": [
    "Let's find all the emails in data using regex..."
   ]
  },
  {
   "cell_type": "code",
   "execution_count": 26,
   "id": "9740c642",
   "metadata": {},
   "outputs": [],
   "source": [
    "pattern = r'[\\w]+@[\\w]+'"
   ]
  },
  {
   "cell_type": "code",
   "execution_count": 27,
   "id": "ab8aa95e",
   "metadata": {},
   "outputs": [],
   "source": [
    "emails = re.findall(pattern, data)"
   ]
  },
  {
   "cell_type": "code",
   "execution_count": 28,
   "id": "3d32bd3f",
   "metadata": {},
   "outputs": [
    {
     "data": {
      "text/plain": [
       "69"
      ]
     },
     "execution_count": 28,
     "metadata": {},
     "output_type": "execute_result"
    }
   ],
   "source": [
    "len(emails)"
   ]
  },
  {
   "cell_type": "code",
   "execution_count": 29,
   "id": "4fe7567b",
   "metadata": {},
   "outputs": [
    {
     "data": {
      "text/plain": [
       "['kelvinmwaka@gmail',\n",
       " 'davidetuonu12@gmail',\n",
       " 'addoericjnr@gmail',\n",
       " 'fammava@gmail',\n",
       " 'ogbuchimezie17@gmail',\n",
       " 'mugendimike80@gmail',\n",
       " 'salaqua05@gmail',\n",
       " 'markokaba99@gmail',\n",
       " 'talktomarksilas@gmail',\n",
       " 'koleayo@gmail',\n",
       " 'tagunoweh@gmail',\n",
       " 'daisyokacha9@gmail',\n",
       " 'bienfait@strathmore',\n",
       " 'nkemakolamallen@gmail',\n",
       " 'zeoneone@outlook',\n",
       " 'mpaieliboy5@gmail',\n",
       " 'neoboledi21@gmail',\n",
       " 'andrewglory32@gmail',\n",
       " 'zablonrioba@live',\n",
       " 'abdullahajao7@gmail',\n",
       " 'janemutende@gmail',\n",
       " 'derickbiney766@gmail',\n",
       " 'emmynuel02@gmail',\n",
       " 'effiongoto98@gmail',\n",
       " 'motselisileketa@gmail',\n",
       " 'nndwelenis@gmail',\n",
       " 'ebimoreclaudius@gmail',\n",
       " 'abdulmalikismail1@gmail',\n",
       " 'okuta@gmail',\n",
       " 'hayfordatim5@gmail',\n",
       " 'imaobongud@gmail',\n",
       " 'chukwudipercy@gmail',\n",
       " 'kenmambo16@gmail',\n",
       " 'lukmonajirotutu@gmail',\n",
       " 'vitalismasrinez@gmail',\n",
       " 'a@gmail',\n",
       " 'missybell1485@yahoo',\n",
       " 'sgmjaja@gmail',\n",
       " 'spicyabubs@yahoo',\n",
       " 'mimieopigo@gmail',\n",
       " 'julietondisi@gmail',\n",
       " 'gberbiederick@gmail',\n",
       " 'ahmadnafs@gmail',\n",
       " 'courtneygallant80@gmail',\n",
       " 'bankoleomotola95@gmail',\n",
       " 'altonkrumah@gmail',\n",
       " 'mulam@protonmail',\n",
       " 'fuddiebiola@gmail',\n",
       " 'benjaminony2000@hotmail',\n",
       " 'omoniyiakinpelumi@gmail',\n",
       " 'cinamula@strathmore',\n",
       " 'odelanyo54@gmail',\n",
       " 'adedejikayode24@gmail',\n",
       " 'onyia96@gmail',\n",
       " 'adzoy08@yahoo',\n",
       " 'gaelleumu17@gmail',\n",
       " 'asiedudokua@gmail',\n",
       " 'kahambajm@gmail',\n",
       " 'adedayo@gmail',\n",
       " 'aguochagerald@gmail',\n",
       " 'josephd191@outlook',\n",
       " 'mosesbernard5@gmail',\n",
       " 'olufemi@gmail',\n",
       " 'elluhstephanie@gmail',\n",
       " 'murigijulius1@gmail',\n",
       " 'mindfulmoran@gmail',\n",
       " 'sharonchela6@gmail',\n",
       " 'abdulsamadagbaje4@gmail',\n",
       " 'madisehubertovie@gmail']"
      ]
     },
     "execution_count": 29,
     "metadata": {},
     "output_type": "execute_result"
    }
   ],
   "source": [
    "emails"
   ]
  },
  {
   "cell_type": "markdown",
   "id": "ee09fa49",
   "metadata": {},
   "source": [
    "### findall and Groups\n",
    "\n",
    "The parenthesis `( )` group mechanism can be combined with `findall()`. If the pattern includes 2 or more parenthesis groups, then instead of returning a list of strings, `findall()` returns a list of `*tuples*`. Each tuple represents one match of the pattern, and inside the tuple is the `group(1)`, `group(2)` .. data. So if 2 parenthesis groups are added to the email pattern, then `findall()` returns a list of tuples, each length 2 containing the username and host, e.g. `('alice', 'google.com')`."
   ]
  },
  {
   "cell_type": "code",
   "execution_count": 30,
   "id": "31328b8d",
   "metadata": {},
   "outputs": [],
   "source": [
    "str = 'purple alice@google.com, blah monkey bob@abc.com blah dishwasher'"
   ]
  },
  {
   "cell_type": "code",
   "execution_count": 31,
   "id": "f41ec4fa",
   "metadata": {},
   "outputs": [],
   "source": [
    "tuples = re.findall(r'([\\w\\.-]+)@([\\w\\.-]+)', str)"
   ]
  },
  {
   "cell_type": "code",
   "execution_count": 32,
   "id": "ec1ccd82",
   "metadata": {},
   "outputs": [
    {
     "name": "stdout",
     "output_type": "stream",
     "text": [
      "[('alice', 'google.com'), ('bob', 'abc.com')]\n"
     ]
    }
   ],
   "source": [
    "print(tuples)  ## [('alice', 'google.com'), ('bob', 'abc.com')]"
   ]
  },
  {
   "cell_type": "code",
   "execution_count": 33,
   "id": "f96937f9",
   "metadata": {},
   "outputs": [
    {
     "name": "stdout",
     "output_type": "stream",
     "text": [
      "alice\n",
      "google.com\n",
      "bob\n",
      "abc.com\n"
     ]
    }
   ],
   "source": [
    "for tuple in tuples:\n",
    "    print(tuple[0])  ## username\n",
    "    print(tuple[1])  ## host"
   ]
  },
  {
   "cell_type": "markdown",
   "id": "6740aabb",
   "metadata": {},
   "source": [
    "#### Note:\n",
    "Once you have the list of tuples, you can loop over it to do some computation for each tuple. If the pattern includes no parenthesis, then `findall()` returns a list of found strings as in earlier examples. If the pattern includes a single set of parenthesis, then `findall()` returns a list of strings corresponding to that single group. (Obscure optional feature: Sometimes you have paren `( )` groupings in the pattern, but which you do not want to extract. In that case, write the parens with a `?:` at the start, e.g. `(?: )` and that left paren will not count as a group result.)"
   ]
  },
  {
   "cell_type": "markdown",
   "id": "a7b5b0ba",
   "metadata": {},
   "source": [
    "### RE: Workflow and Debug\n",
    "\n",
    "* Regular expression patterns pack a lot of meaning into just a few characters , but they are so dense, you can spend a lot of time debugging your patterns. \n",
    "* Set up your runtime so you can run a pattern and print what it matches easily, for example by running it on a small test text and printing the result of findall(). \n",
    "* If the pattern matches nothing, try weakening the pattern, removing parts of it so you get too many matches. When it's matching nothing, you can't make any progress since there's nothing concrete to look at. \n",
    "* Once it's matching too much, then you can work on tightening it up incrementally to hit just what you want."
   ]
  },
  {
   "cell_type": "markdown",
   "id": "d2bb998a",
   "metadata": {},
   "source": [
    "### Options\n",
    "The `re` functions take options to modify the behavior of the pattern match. The option flag is added as an extra argument to the `search()` or `findall()` etc., e.g. `re.search(pat, str, re.IGNORECASE)`.\n",
    "\n",
    "* **IGNORECASE** -- ignore upper/lowercase differences for matching, so 'a' matches both 'a' and 'A'.\n",
    "* **DOTALL** -- allow dot (.) to match newline -- normally it matches anything but newline. This can trip you up -- you think .* matches everything, but by default it does not go past the end of a line. Note that \\s (whitespace) includes newlines, so if you want to match a run of whitespace that may include a newline, you can just use \\s*\n",
    "* **MULTILINE** -- Within a string made of many lines, allow ^ and $ to match the start and end of each line. Normally ^/$ would just match the start and end of the whole string."
   ]
  },
  {
   "cell_type": "markdown",
   "id": "3c55f11e",
   "metadata": {},
   "source": [
    "### Greedy vs. Non-Greedy (optional)\n",
    "This is optional section which shows a more advanced regular expression technique not needed for the exercises.\n",
    "\n",
    "Suppose you have text with tags in it: `<b>foo</b>` and `<i>so on</i>`\n",
    "\n",
    "Suppose you are trying to match each tag with the pattern `'(<.*>)'` -- what does it match first?\n",
    "\n",
    "The result is a little surprising, but the greedy aspect of the `.*` causes it to match the whole `'<b>foo</b>` and `<i>so on</i>'` as one big match. The problem is that the `.*` goes as far as is it can, instead of stopping at the first > (aka it is \"greedy\").\n",
    "\n",
    "There is an extension to regular expression where you add a `?` at the end, such as `.*?`or `.+?`, changing them to be non-greedy. Now they stop as soon as they can. So the pattern `'(<.*?>)'` will get just `'<b>'` as the first match, and `'</b>'` as the second match, and so on getting each `<..>` pair in turn. The style is typically that you use a `.*?`, and then immediately its right look for some concrete marker (> in this case) that forces the end of the `.*?` run.\n",
    "\n",
    "The `*?` extension originated in Perl, and regular expressions that include Perl's extensions are known as Perl Compatible Regular Expressions -- pcre. Python includes pcre support. Many command line utils etc. have a flag where they accept pcre patterns."
   ]
  },
  {
   "cell_type": "markdown",
   "id": "c1590de4",
   "metadata": {},
   "source": [
    "### Substitution (optional)\n",
    "The `re.sub(pat, replacement, str)` function searches for all the instances of pattern in the given string, and replaces them. The replacement string can include `'\\1'`, `'\\2'` which refer to the text from `group(1)`, `group(2)`, and so on from the original matching text.\n",
    "\n",
    "Here's an example which searches for all the email addresses, and changes them to keep the user `(\\1)` but have `yo-yo-dyne.com` as the host."
   ]
  },
  {
   "cell_type": "code",
   "execution_count": 34,
   "id": "00f189bd",
   "metadata": {},
   "outputs": [],
   "source": [
    "str = 'purple alice@google.com, blah monkey bob@abc.com blah dishwasher'"
   ]
  },
  {
   "cell_type": "code",
   "execution_count": 35,
   "id": "92dc70e3",
   "metadata": {},
   "outputs": [],
   "source": [
    "## re.sub(pat, replacement, str) -- returns new string with all replacements,\n",
    "## \\1 is group(1), \\2 group(2) in the replacement\n",
    "\n",
    "pattern = r'([\\w\\.-]+)@([\\w\\.-]+)'\n",
    "repl = r'\\1@yo-yo-dyne.com'"
   ]
  },
  {
   "cell_type": "code",
   "execution_count": 36,
   "id": "e89915f3",
   "metadata": {},
   "outputs": [
    {
     "data": {
      "text/plain": [
       "'purple alice@yo-yo-dyne.com, blah monkey bob@yo-yo-dyne.com blah dishwasher'"
      ]
     },
     "execution_count": 36,
     "metadata": {},
     "output_type": "execute_result"
    }
   ],
   "source": [
    "x = re.sub(pattern, repl, str)\n",
    "x\n",
    "## purple alice@yo-yo-dyne.com, blah monkey bob@yo-yo-dyne.com blah dishwasher"
   ]
  },
  {
   "cell_type": "markdown",
   "id": "64354edc",
   "metadata": {},
   "source": [
    "### [Baby Names Python Exercise](https://developers.google.com/edu/python/exercises/baby-names):"
   ]
  },
  {
   "cell_type": "code",
   "execution_count": null,
   "id": "3ab57158",
   "metadata": {},
   "outputs": [],
   "source": []
  },
  {
   "cell_type": "code",
   "execution_count": null,
   "id": "4bcdb30f",
   "metadata": {},
   "outputs": [],
   "source": []
  },
  {
   "cell_type": "code",
   "execution_count": null,
   "id": "e9eb9c9c",
   "metadata": {},
   "outputs": [],
   "source": []
  }
 ],
 "metadata": {
  "kernelspec": {
   "display_name": "Python 3 (ipykernel)",
   "language": "python",
   "name": "python3"
  },
  "language_info": {
   "codemirror_mode": {
    "name": "ipython",
    "version": 3
   },
   "file_extension": ".py",
   "mimetype": "text/x-python",
   "name": "python",
   "nbconvert_exporter": "python",
   "pygments_lexer": "ipython3",
   "version": "3.9.12"
  }
 },
 "nbformat": 4,
 "nbformat_minor": 5
}
