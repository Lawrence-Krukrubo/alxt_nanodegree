{
 "cells": [
  {
   "cell_type": "code",
   "execution_count": null,
   "id": "25add0b6",
   "metadata": {},
   "outputs": [],
   "source": [
    "import numpy as np\n",
    "import matplotlib.pyplot as plt\n",
    "\n",
    "#make this example reproducible\n",
    "np.random.seed(0)\n",
    "\n",
    "#create beta distributed random variable with 200 values\n",
    "data = np.random.beta(a=4, b=15, size=300)\n",
    "\n",
    "#create log-transformed data\n",
    "data_log = np.log(data)\n",
    "\n",
    "#define grid of plots\n",
    "fig, axs = plt.subplots(nrows=1, ncols=2)\n",
    "\n",
    "#create histograms\n",
    "axs[0].hist(data, edgecolor='black')\n",
    "axs[1].hist(data_log, edgecolor='black')\n",
    "\n",
    "#add title to each histogram\n",
    "axs[0].set_title('Original Data')\n",
    "axs[1].set_title('Log-Transformed Data')"
   ]
  },
  {
   "cell_type": "code",
   "execution_count": null,
   "id": "a38cd4db",
   "metadata": {},
   "outputs": [],
   "source": [
    "import numpy as np\n",
    "import matplotlib.pyplot as plt\n",
    "\n",
    "#make this example reproducible\n",
    "np.random.seed(0)\n",
    "\n",
    "#create beta distributed random variable with 200 values\n",
    "data = np.random.beta(a=4, b=15, size=300)\n",
    "\n",
    "#create log-transformed data\n",
    "data_log = np.sqrt(data)\n",
    "\n",
    "#define grid of plots\n",
    "fig, axs = plt.subplots(nrows=1, ncols=2)\n",
    "\n",
    "#create histograms\n",
    "axs[0].hist(data, edgecolor='black')\n",
    "axs[1].hist(data_log, edgecolor='black')\n",
    "\n",
    "#add title to each histogram\n",
    "axs[0].set_title('Original Data')\n",
    "axs[1].set_title('Sqrt-Transformed Data')"
   ]
  },
  {
   "cell_type": "code",
   "execution_count": null,
   "id": "9fb8b49e",
   "metadata": {},
   "outputs": [],
   "source": [
    "import numpy as np\n",
    "import matplotlib.pyplot as plt\n",
    "\n",
    "#make this example reproducible\n",
    "np.random.seed(0)\n",
    "\n",
    "#create beta distributed random variable with 200 values\n",
    "data = np.random.beta(a=4, b=15, size=300)\n",
    "\n",
    "#create log-transformed data\n",
    "data_log = np.cbrt(data)\n",
    "\n",
    "#define grid of plots\n",
    "fig, axs = plt.subplots(nrows=1, ncols=2)\n",
    "\n",
    "#create histograms\n",
    "axs[0].hist(data, edgecolor='black')\n",
    "axs[1].hist(data_log, edgecolor='black')\n",
    "\n",
    "#add title to each histogram\n",
    "axs[0].set_title('Original Data')\n",
    "axs[1].set_title('CBRT-Transformed Data')"
   ]
  }
 ],
 "metadata": {
  "kernelspec": {
   "display_name": "Python 3 (ipykernel)",
   "language": "python",
   "name": "python3"
  },
  "language_info": {
   "codemirror_mode": {
    "name": "ipython",
    "version": 3
   },
   "file_extension": ".py",
   "mimetype": "text/x-python",
   "name": "python",
   "nbconvert_exporter": "python",
   "pygments_lexer": "ipython3",
   "version": "3.9.12"
  }
 },
 "nbformat": 4,
 "nbformat_minor": 5
}
